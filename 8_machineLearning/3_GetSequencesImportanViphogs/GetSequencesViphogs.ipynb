{
 "cells": [
  {
   "cell_type": "code",
   "execution_count": 1,
   "metadata": {
    "collapsed": true
   },
   "outputs": [],
   "source": [
    "import pandas as pd\n",
    "import numpy as np \n",
    "\n",
    "from Bio import SeqIO"
   ]
  },
  {
   "cell_type": "code",
   "execution_count": 2,
   "metadata": {
    "collapsed": false
   },
   "outputs": [],
   "source": [
    "fr = open(\"/home/leonardo/Documents/JaimeLeonardoMorenoGallegoUniandes/6_GetCOGs/E_getCOG/viii_getCOGs/protein.clusters50.onlyClusters.greaterThan2.csv\")\n",
    "viphogs = {}\n",
    "for line in fr:\n",
    "    line = line.split(',')\n",
    "    protein = line[0]\n",
    "    genome = line[1]\n",
    "    viphog = int(line[6].strip('CLS'))\n",
    "    if viphog in viphogs:\n",
    "        proteins = viphogs[viphog]\n",
    "        proteins.append([protein, genome])\n",
    "    else:\n",
    "        viphogs[viphog] = [[protein,genome]]\n",
    "fr.close()"
   ]
  },
  {
   "cell_type": "code",
   "execution_count": 8,
   "metadata": {
    "collapsed": false
   },
   "outputs": [],
   "source": [
    "fr = open(\"../2_SP/Genus/NEWconcordantViphogs.Genus.list.txt\")\n",
    "viphogsOfInterest = []\n",
    "for line in fr:\n",
    "    viphogsOfInterest.append(int(line.strip('CLS')))\n",
    "fr.close()"
   ]
  },
  {
   "cell_type": "code",
   "execution_count": 4,
   "metadata": {
    "collapsed": true
   },
   "outputs": [],
   "source": [
    "# Read domains and proteins file"
   ]
  },
  {
   "cell_type": "code",
   "execution_count": 5,
   "metadata": {
    "collapsed": false
   },
   "outputs": [],
   "source": [
    "fr = open(\"/home/leonardo/Documents/JaimeLeonardoMorenoGallegoUniandes/5_GettingDomains/D_getDomains/3_finalDomains/UniverseOfViralProteins.fasta\")\n",
    "UniverseOfViralProteins = {}\n",
    "for protein in SeqIO.parse(fr, \"fasta\"):\n",
    "    pId = protein.id\n",
    "    pId = pId.replace(\":\",\"_\")\n",
    "    UniverseOfViralProteins[pId] = protein.seq\n",
    "fr.close()"
   ]
  },
  {
   "cell_type": "code",
   "execution_count": 6,
   "metadata": {
    "collapsed": true
   },
   "outputs": [],
   "source": [
    "# Read complete proteins file"
   ]
  },
  {
   "cell_type": "code",
   "execution_count": 13,
   "metadata": {
    "collapsed": false
   },
   "outputs": [],
   "source": [
    "\"\"\"\"\"\"\n",
    "fr = open(\"/home/leonardo/Documents/JaimeLeonardoMorenoGallegoUniandes/5_GettingDomains/D_getDomains/3_finalDomains/allProteins.sorted.fasta\")\n",
    "viralProteins = {}\n",
    "for protein in SeqIO.parse(fr, \"fasta\"):\n",
    "    pId = protein.id\n",
    "    viralProteins[pId] = protein.seq\n",
    "fr.close()\n",
    "\"\"\"\"\"\""
   ]
  },
  {
   "cell_type": "code",
   "execution_count": 7,
   "metadata": {
    "collapsed": true
   },
   "outputs": [],
   "source": [
    "#Save domains of interest"
   ]
  },
  {
   "cell_type": "code",
   "execution_count": 9,
   "metadata": {
    "collapsed": false
   },
   "outputs": [],
   "source": [
    "fw = open(\"domainsOfInterest.faa\", \"w\")\n",
    "catch = []\n",
    "for viphog in viphogsOfInterest:\n",
    "    for protein in viphogs[viphog]:\n",
    "        try:\n",
    "            seq = str(UniverseOfViralProteins[protein[1] + \"|\" + protein[0]])\n",
    "            fw.write(\">\" + \"CLS\" + str(viphog) + \"|\" + protein[1] + \"|\" + protein[0] + \"\\n\")\n",
    "            fw.write(seq)\n",
    "        except:\n",
    "            catch.append(protein[1] + \"|\" + protein[0])\n",
    "        fw.write(\"\\n\")\n",
    "fw.close()"
   ]
  },
  {
   "cell_type": "code",
   "execution_count": 10,
   "metadata": {
    "collapsed": false,
    "scrolled": true
   },
   "outputs": [
    {
     "name": "stdout",
     "output_type": "stream",
     "text": [
      "195\n"
     ]
    }
   ],
   "source": [
    "print len(catch)"
   ]
  },
  {
   "cell_type": "code",
   "execution_count": 9,
   "metadata": {
    "collapsed": true
   },
   "outputs": [],
   "source": [
    "#Save proteins of interest"
   ]
  },
  {
   "cell_type": "code",
   "execution_count": 10,
   "metadata": {
    "collapsed": false
   },
   "outputs": [],
   "source": [
    "fw = open(\"domainsOfInterest.faa\", \"w\")\n",
    "catch = []\n",
    "for viphog in viphogsOfInterest:\n",
    "    for protein in viphogs[viphog]:\n",
    "        try:\n",
    "            seq = str(viralProteins[protein[1] + \"|\" + protein[0].split('@')[0]])\n",
    "            fw.write(\">\" + \"CLS\" + str(viphog) + \"|\" + protein[1] + \"|\" + protein[0].split('@')[0] + \"\\n\")\n",
    "            fw.write(seq)\n",
    "            fw.write(\"\\n\")\n",
    "        except:\n",
    "            catch.append(protein[1] + \"|\" + protein[0])\n",
    "fw.close()"
   ]
  },
  {
   "cell_type": "code",
   "execution_count": 16,
   "metadata": {
    "collapsed": false
   },
   "outputs": [
    {
     "name": "stdout",
     "output_type": "stream",
     "text": [
      "7\n"
     ]
    }
   ],
   "source": [
    "print len(catch)"
   ]
  },
  {
   "cell_type": "code",
   "execution_count": 10,
   "metadata": {
    "collapsed": false
   },
   "outputs": [
    {
     "ename": "NameError",
     "evalue": "name 'viralProteins' is not defined",
     "output_type": "error",
     "traceback": [
      "\u001b[1;31m---------------------------------------------------------------------------\u001b[0m",
      "\u001b[1;31mNameError\u001b[0m                                 Traceback (most recent call last)",
      "\u001b[1;32m<ipython-input-10-7b3636060fac>\u001b[0m in \u001b[0;36m<module>\u001b[1;34m()\u001b[0m\n\u001b[1;32m----> 1\u001b[1;33m \u001b[0mviralProteins\u001b[0m\u001b[1;33m.\u001b[0m\u001b[0mkeys\u001b[0m\u001b[1;33m(\u001b[0m\u001b[1;33m)\u001b[0m\u001b[1;33m[\u001b[0m\u001b[1;33m:\u001b[0m\u001b[1;36m10\u001b[0m\u001b[1;33m]\u001b[0m\u001b[1;33m\u001b[0m\u001b[0m\n\u001b[0m",
      "\u001b[1;31mNameError\u001b[0m: name 'viralProteins' is not defined"
     ]
    }
   ],
   "source": [
    "viralProteins.keys()[:10]"
   ]
  },
  {
   "cell_type": "code",
   "execution_count": null,
   "metadata": {
    "collapsed": true
   },
   "outputs": [],
   "source": []
  }
 ],
 "metadata": {
  "kernelspec": {
   "display_name": "Python [Root]",
   "language": "python",
   "name": "Python [Root]"
  },
  "language_info": {
   "codemirror_mode": {
    "name": "ipython",
    "version": 2
   },
   "file_extension": ".py",
   "mimetype": "text/x-python",
   "name": "python",
   "nbconvert_exporter": "python",
   "pygments_lexer": "ipython2",
   "version": "2.7.11"
  }
 },
 "nbformat": 4,
 "nbformat_minor": 0
}
