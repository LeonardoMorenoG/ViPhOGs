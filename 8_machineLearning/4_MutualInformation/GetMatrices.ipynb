{
 "cells": [
  {
   "cell_type": "code",
   "execution_count": 1,
   "metadata": {
    "collapsed": true
   },
   "outputs": [],
   "source": [
    "import numpy as np\n",
    "import pandas as pd"
   ]
  },
  {
   "cell_type": "markdown",
   "metadata": {},
   "source": [
    "# Load Data"
   ]
  },
  {
   "cell_type": "code",
   "execution_count": 2,
   "metadata": {
    "collapsed": false
   },
   "outputs": [],
   "source": [
    "trainTestMatrix = np.load(\"../8_machineLearning/trainTestMatrixTypeAll.npy\")\n",
    "trainTestLables = np.load(\"../8_machineLearning/trainTestLabelsTypeAll.npy\")\n",
    "labelsDict = np.load(\"../8_machineLearning/trainTestLabelsDictTypeAll.npy\").item()"
   ]
  },
  {
   "cell_type": "markdown",
   "metadata": {},
   "source": [
    "# Data to tsv matrix"
   ]
  },
  {
   "cell_type": "code",
   "execution_count": 3,
   "metadata": {
    "collapsed": false
   },
   "outputs": [],
   "source": [
    "#ViphogsXGenomes\n",
    "#dfMatrix = pd.DataFrame.transpose(pd.DataFrame(trainTestMatrix))\n",
    "dfMatrix = pd.DataFrame(trainTestMatrix)\n",
    "dfMatrix.to_csv(\"typeViPhogsMatrix.csv\", sep='\\t')"
   ]
  },
  {
   "cell_type": "code",
   "execution_count": 4,
   "metadata": {
    "collapsed": false
   },
   "outputs": [],
   "source": [
    "#taxonomyXGenomes\n",
    "matrixLabels = np.zeros((len(labelsDict), len(trainTestLables)))\n",
    "i = 0\n",
    "for x in trainTestLables:\n",
    "    matrixLabels[x][i] = 1\n",
    "    i += 1\n",
    "dfLabels = pd.DataFrame.transpose(pd.DataFrame(matrixLabels))\n",
    "dfLabels.to_csv(\"typeTaxonomyMatrix.csv\", sep='\\t')"
   ]
  },
  {
   "cell_type": "code",
   "execution_count": null,
   "metadata": {
    "collapsed": true
   },
   "outputs": [],
   "source": []
  }
 ],
 "metadata": {
  "kernelspec": {
   "display_name": "Python [Root]",
   "language": "python",
   "name": "Python [Root]"
  },
  "language_info": {
   "codemirror_mode": {
    "name": "ipython",
    "version": 2
   },
   "file_extension": ".py",
   "mimetype": "text/x-python",
   "name": "python",
   "nbconvert_exporter": "python",
   "pygments_lexer": "ipython2",
   "version": "2.7.11"
  }
 },
 "nbformat": 4,
 "nbformat_minor": 0
}
