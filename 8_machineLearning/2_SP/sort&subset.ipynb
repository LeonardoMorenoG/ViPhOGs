{
 "cells": [
  {
   "cell_type": "code",
   "execution_count": 1,
   "metadata": {
    "collapsed": true
   },
   "outputs": [],
   "source": [
    "import pandas as pd \n",
    "import numpy as np "
   ]
  },
  {
   "cell_type": "code",
   "execution_count": 3,
   "metadata": {
    "collapsed": false
   },
   "outputs": [],
   "source": [
    "outSP = pd.read_csv(\"Type/tOutSP.Type.transposed.txt\", sep='\\t', index_col=0)\n",
    "depOutSP = outSP[(outSP <= 2).any(axis=1)] #depurated outSP without greater than 2"
   ]
  },
  {
   "cell_type": "code",
   "execution_count": 4,
   "metadata": {
    "collapsed": false
   },
   "outputs": [],
   "source": [
    "replaceDict = {}\n",
    "for x in pd.Series(depOutSP.values.ravel()).unique():\n",
    "    if x > 2:\n",
    "        replaceDict[x] = np.nan\n",
    "    else:\n",
    "        continue\n",
    "\n",
    "tOutSP = depOutSP.replace(to_replace=replaceDict, regex=False)"
   ]
  },
  {
   "cell_type": "code",
   "execution_count": 5,
   "metadata": {
    "collapsed": false
   },
   "outputs": [],
   "source": [
    "cols = []\n",
    "for c in tOutSP.columns.values:\n",
    "    cols.append(c)\n",
    "    \n",
    "tOutSP2 = tOutSP.sort_values(by=cols, axis=0,ascending=False)\n",
    "pd.DataFrame.head(tOutSP2)\n",
    "tOutSP2.to_csv(\"tOutSP.type.txt\", sep=\"\\t\")"
   ]
  },
  {
   "cell_type": "code",
   "execution_count": null,
   "metadata": {
    "collapsed": true
   },
   "outputs": [],
   "source": []
  }
 ],
 "metadata": {
  "kernelspec": {
   "display_name": "Python [Root]",
   "language": "python",
   "name": "Python [Root]"
  },
  "language_info": {
   "codemirror_mode": {
    "name": "ipython",
    "version": 2
   },
   "file_extension": ".py",
   "mimetype": "text/x-python",
   "name": "python",
   "nbconvert_exporter": "python",
   "pygments_lexer": "ipython2",
   "version": "2.7.11"
  }
 },
 "nbformat": 4,
 "nbformat_minor": 0
}
