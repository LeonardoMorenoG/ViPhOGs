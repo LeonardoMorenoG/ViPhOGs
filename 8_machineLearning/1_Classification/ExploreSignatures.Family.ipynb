{
 "cells": [
  {
   "cell_type": "code",
   "execution_count": 1,
   "metadata": {
    "collapsed": true
   },
   "outputs": [],
   "source": [
    "import pandas as pd\n",
    "import numpy as np"
   ]
  },
  {
   "cell_type": "code",
   "execution_count": 2,
   "metadata": {
    "collapsed": false
   },
   "outputs": [
    {
     "name": "stdout",
     "output_type": "stream",
     "text": [
      "(11978, 11329)\n",
      "(11978, 389)\n"
     ]
    }
   ],
   "source": [
    "#Import data\n",
    "\n",
    "#get confussion matrix\n",
    "cm = pd.read_csv(\"Family300320/confussionMatrix.csv\",header=0,sep='\\t',index_col=0)\n",
    "## Import genomes vs viphogs matrix for family\n",
    "reducedMatrix = pd.read_csv(\"Family300320/reducedViphogsMatrix.csv\",header=0,sep='\\t')\n",
    "print reducedMatrix.shape\n",
    "## Import list of important viphogs\n",
    "importanViphogs = []\n",
    "fr = open(\"Family300320/importantViphogs.minNumberBestScore.csv\")\n",
    "for line in fr:\n",
    "    importanViphogs.append(line.strip('\\n'))\n",
    "## Reduce the matrix to only the important viphogs\n",
    "reducedMatrix = reducedMatrix[importanViphogs+['Labels']]\n",
    "print reducedMatrix.shape \n",
    "## Import dictionary of labels\n",
    "labelsDict = np.load(\"Family/trainTestLabelsDictFamilyAll.npy\").item()"
   ]
  },
  {
   "cell_type": "code",
   "execution_count": 4,
   "metadata": {
    "collapsed": false
   },
   "outputs": [
    {
     "name": "stdout",
     "output_type": "stream",
     "text": [
      "80\n",
      "83\n"
     ]
    }
   ],
   "source": [
    "#get labels with good classification scores (>80%)\n",
    "hsi = [] #hsi := high score indexes\n",
    "i = 0\n",
    "for score in np.diag(np.matrix(cm.as_matrix())):\n",
    "    if score >= 0.8:\n",
    "        hsi.append(i)\n",
    "    i += 1\n",
    "hsl = cm.index[hsi] #hsl := high score labels\n",
    "print len(hsl)\n",
    "print len(labelsDict)"
   ]
  },
  {
   "cell_type": "code",
   "execution_count": 5,
   "metadata": {
    "collapsed": false
   },
   "outputs": [],
   "source": [
    "#Get signature genomes per label\n",
    "sl = [] #sl := signatures per label\n",
    "n = [] #m := intersection between sl and viphogs of the other labels. If the interscetion is not empty that could compromise the \"signature character\" of the signatures\n",
    "for label in hsl:\n",
    "    #get signature viphogs for the actual label\n",
    "    aux = reducedMatrix[reducedMatrix[\"Labels\"]==labelsDict[label]].copy()\n",
    "    aux.drop([\"Labels\"],axis=1,inplace=True)\n",
    "    aux = aux.T[aux.sum(axis=0)>0].T.sum(axis=0).to_dict()#get the number of genomes that has a viphog\n",
    "    sl.append(aux)\n",
    "    #get viphogs present in other labels\n",
    "    aux2 = reducedMatrix[reducedMatrix[\"Labels\"]!=labelsDict[label]].copy()\n",
    "    aux2.drop([\"Labels\"],axis=1,inplace=True)\n",
    "    aux2 = aux2.T[aux2.sum(axis=0)>0].T.sum(axis=0).to_dict()#get the number of genomes that has a viphog\n",
    "    #get the difference between genomes that belong to the label and genomes that don't belong\n",
    "    if len((set(aux.keys())&set(aux2.keys())))>0:\n",
    "        aux3 = {}\n",
    "        for viphog in list((set(aux.keys())&set(aux2.keys()))):\n",
    "            aux3[viphog] = aux2[viphog]\n",
    "        n.append(aux3)\n",
    "    else:\n",
    "        n.append({})     "
   ]
  },
  {
   "cell_type": "code",
   "execution_count": 6,
   "metadata": {
    "collapsed": false
   },
   "outputs": [],
   "source": [
    "#Depurate signature viphogs\n",
    "sld = [] #sld := signatures per label depurated\n",
    "i = 0\n",
    "for s in n: #s := set\n",
    "    if len(s) > 0:\n",
    "        #Depurate\n",
    "        aux = {}\n",
    "        for viphog in sl[i]:\n",
    "            if viphog in s:\n",
    "                #Depurate the viphog as genomes of other labels also have it\n",
    "                if sl[i][viphog]/(s[viphog]+sl[i][viphog]) >= 0.8:\n",
    "                    aux[viphog] = sl[i][viphog]\n",
    "                else:\n",
    "                    #don't include the viphog as from all the genomes that have that viphog,\n",
    "                    #less than 80% genome belong to the actual label\n",
    "                    continue \n",
    "            else:\n",
    "                aux[viphog] = sl[i][viphog]\n",
    "        sld.append(aux)\n",
    "    else:\n",
    "        sld.append(sl[i])\n",
    "    i += 1"
   ]
  },
  {
   "cell_type": "code",
   "execution_count": 7,
   "metadata": {
    "collapsed": false
   },
   "outputs": [],
   "source": [
    "fw = open(\"Family300320/importantViphogs.minNumberBestScore.withTaxonomy.csv\",\"w\")\n",
    "i = 0\n",
    "for signatures in sld:\n",
    "    for viphog in signatures:\n",
    "        fw.write(viphog+'\\t'+hsl[i]+'\\n')\n",
    "    i += 1\n",
    "fw.close()  "
   ]
  },
  {
   "cell_type": "code",
   "execution_count": null,
   "metadata": {
    "collapsed": true
   },
   "outputs": [],
   "source": []
  }
 ],
 "metadata": {
  "kernelspec": {
   "display_name": "Python [Root]",
   "language": "python",
   "name": "Python [Root]"
  },
  "language_info": {
   "codemirror_mode": {
    "name": "ipython",
    "version": 2
   },
   "file_extension": ".py",
   "mimetype": "text/x-python",
   "name": "python",
   "nbconvert_exporter": "python",
   "pygments_lexer": "ipython2",
   "version": "2.7.11"
  }
 },
 "nbformat": 4,
 "nbformat_minor": 2
}
