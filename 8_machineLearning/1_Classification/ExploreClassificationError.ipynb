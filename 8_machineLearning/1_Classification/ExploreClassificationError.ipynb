{
 "cells": [
  {
   "cell_type": "code",
   "execution_count": 1,
   "metadata": {
    "collapsed": true
   },
   "outputs": [],
   "source": [
    "import numpy as np\n",
    "import pandas as pd\n",
    "\n",
    "import seaborn as sns\n",
    "from matplotlib import pyplot as plt\n",
    "%matplotlib inline"
   ]
  },
  {
   "cell_type": "code",
   "execution_count": 2,
   "metadata": {
    "collapsed": true
   },
   "outputs": [],
   "source": [
    "#Import confussion matrix per taxonomy level\n",
    "cmOrder = pd.read_csv(\"Order300320/confussionMatrix.csv\",header=0,index_col=0,sep='\\t')\n",
    "cmFamily = pd.read_csv(\"Family300320/confussionMatrix.csv\",header=0,index_col=0,sep='\\t')\n",
    "cmGenus = pd.read_csv(\"Genus300320/confussionMatrix.csv\",header=0,index_col=0,sep='\\t')"
   ]
  },
  {
   "cell_type": "code",
   "execution_count": 3,
   "metadata": {
    "collapsed": true
   },
   "outputs": [],
   "source": [
    "def sampler(matrix):\n",
    "    median = getMedian(matrix)\n",
    "    #median = matrix[\"Labels\"].value_counts().min()\n",
    "    lenSample = median/2\n",
    "    trainIndex = np.array([])\n",
    "    testIndex = np.array([])\n",
    "    for label in matrix[\"Labels\"].unique():\n",
    "        indexLabel = matrix[matrix[\"Labels\"]==label].index.values\n",
    "        np.random.shuffle(indexLabel)\n",
    "        if indexLabel.shape[0]>= median:\n",
    "            trainIndex = np.concatenate((trainIndex,indexLabel[:lenSample]))\n",
    "            testIndex = np.concatenate((testIndex,indexLabel[lenSample*(-1):]))\n",
    "        else:\n",
    "            trainIndex = np.concatenate((trainIndex,bootstrap_resample(indexLabel[:(indexLabel.shape[0]/2)+1],lenSample)))\n",
    "            testIndex = np.concatenate((testIndex,bootstrap_resample(indexLabel[indexLabel.shape[0]/2:])))\n",
    "    return trainIndex,testIndex"
   ]
  },
  {
   "cell_type": "code",
   "execution_count": 4,
   "metadata": {
    "collapsed": true
   },
   "outputs": [],
   "source": [
    "def getMedian(matrix):\n",
    "    numLabels = matrix[\"Labels\"].unique()\n",
    "    if len(numLabels)%2 == 0:\n",
    "        counts = matrix[\"Labels\"].value_counts().tolist()\n",
    "        return (count[(len(numLabels)/2)-1]+counts[len(numLabels)/2])/2\n",
    "    else:\n",
    "        return matrix[\"Labels\"].value_counts().tolist()[((len(numLabels)+1)/2)-1]"
   ]
  },
  {
   "cell_type": "code",
   "execution_count": 5,
   "metadata": {
    "collapsed": true
   },
   "outputs": [],
   "source": [
    "def bootstrap_resample(X, n=None):\n",
    "    \"\"\" Bootstrap resample an array_like\n",
    "    Parameters\n",
    "    ----------\n",
    "    X : array_like\n",
    "      data to resample\n",
    "    n : int, optional\n",
    "      length of resampled array, equal to len(X) if n==None\n",
    "    Results\n",
    "    -------\n",
    "    returns X_resamples\n",
    "    \"\"\"\n",
    "    if n == None:\n",
    "        n = len(X)\n",
    "        \n",
    "    resample_i = np.floor(np.random.rand(n)*len(X)).astype(int)\n",
    "    X_resample = X[resample_i]\n",
    "    return X_resample"
   ]
  },
  {
   "cell_type": "code",
   "execution_count": 6,
   "metadata": {
    "collapsed": true
   },
   "outputs": [],
   "source": [
    "def getMissclassificationCases(cm):\n",
    "    missclassification = []\n",
    "    for index,row in cm.iterrows():\n",
    "        row = row[row>0]\n",
    "        for i,x in row.iteritems():\n",
    "            if i != index:\n",
    "                missclassification.append((index,i,x))\n",
    "    missDF = pd.DataFrame(missclassification,columns=[\"Label\",\"Prediction\",\"MissRate\"])\n",
    "    missDF = missDF.sort_values(by=\"MissRate\",ascending=False)\n",
    "    return missDF"
   ]
  },
  {
   "cell_type": "code",
   "execution_count": 7,
   "metadata": {
    "collapsed": false
   },
   "outputs": [],
   "source": [
    "missDFs = []\n",
    "for cm in [cmOrder,cmFamily,cmGenus]:\n",
    "    missDFs.append(getMissclassificationCases(cm))\n",
    "\n",
    "#Attach a column that indicates the taxonomic level\n",
    "missDFs[0][\"Level\"] = [\"Order\"]*missDFs[0].shape[0]\n",
    "missDFs[1][\"Level\"] = [\"Family\"]*missDFs[1].shape[0]\n",
    "missDFs[2][\"Level\"] = [\"Genus\"]*missDFs[2].shape[0]\n",
    "\n",
    "#Combine all dataframes in one dataframe\n",
    "missclassification = pd.concat(missDFs)\n",
    "missclassification[\"MissRate\"] = missclassification[\"MissRate\"]*100 "
   ]
  },
  {
   "cell_type": "code",
   "execution_count": 8,
   "metadata": {
    "collapsed": false
   },
   "outputs": [
    {
     "data": {
      "text/plain": [
       "<matplotlib.text.Text at 0x7f84c8122d10>"
      ]
     },
     "execution_count": 8,
     "metadata": {},
     "output_type": "execute_result"
    },
    {
     "data": {
      "image/png": "[encoded data removed]",
      "text/plain": [
       "<matplotlib.figure.Figure at 0x7f84c819ebd0>"
      ]
     },
     "metadata": {},
     "output_type": "display_data"
    }
   ],
   "source": [
    "ax = sns.distplot(missclassification[\"MissRate\"],\n",
    "                  kde_kws={\"color\": \"k\", \"lw\": 2},\n",
    "                  hist_kws={\"histtype\": \"bar\", \"linewidth\": 0.5,\"alpha\": 1, \"color\": \"grey\"})\n",
    "ax.set_xlabel(xlabel=\"Misclassification (%)\")\n",
    "ax.set_ylabel(ylabel=\"Number of cases\")\n",
    "ax.figure.savefig(\"classificationError/ce_distribution.pdf\")"
   ]
  },
  {
   "cell_type": "code",
   "execution_count": 9,
   "metadata": {
    "collapsed": false
   },
   "outputs": [
    {
     "data": {
      "text/plain": [
       "<matplotlib.text.Text at 0x7f84c5c4abd0>"
      ]
     },
     "execution_count": 9,
     "metadata": {},
     "output_type": "execute_result"
    },
    {
     "data": {
      "image/png": "[encoded data removed]",
      "text/plain": [
       "<matplotlib.figure.Figure at 0x7f84c5cc3cd0>"
      ]
     },
     "metadata": {},
     "output_type": "display_data"
    }
   ],
   "source": [
    "flierprops = dict(markerfacecolor='0.75', markersize=2,color=\"grey\",\n",
    "              linestyle='none')\n",
    "\n",
    "ax = sns.boxplot(x=\"Level\",y=\"MissRate\",data=missclassification,color=\"#4c364d\",\n",
    "                 linewidth=2,fliersize=3)\n",
    "\n",
    "#ax = sns.swarmplot(x='Level',y='MissRate',data=missclassification,color=\"grey\")\n",
    "ax.set_ylim(-10,100)\n",
    "ax.set_ylabel(\"Misclassification (%)\")\n",
    "ax.figure.savefig(\"classificationError/ce_perTaxonomicLevel.pdf\")"
   ]
  },
  {
   "cell_type": "code",
   "execution_count": 8,
   "metadata": {
    "collapsed": false
   },
   "outputs": [],
   "source": [
    "#Get the number of genomes per label for each classification task\n",
    "#Remember:\n",
    "#Genomes were reduced to the median of all genomes per label\n",
    "#if the number of genomes was less than the median, genomes were bootstraped\n",
    "#The idea here is to get the number of genomes per label in the original matrix\n",
    "#And the number of unique genomes per label in a train matrix\n",
    "\n",
    "originalMatrixPath = [\"Order300320/reducedViphogsMatrix.csv\",\n",
    "                      \"Family300320/reducedViphogsMatrix.csv\",\n",
    "                      \"Genus300320/reducedViphogsMatrix.csv\"]\n",
    "genomesCounts = []\n",
    "for matrix in originalMatrixPath:\n",
    "    #Import original matrix\n",
    "    matrix = pd.read_csv(matrix,header=0,sep='\\t')\n",
    "    #Get the nuber of genomes per label\n",
    "    genomesPerlabel = matrix[[0,-1]].groupby(by=\"Labels\").count()\n",
    "    genomesPerlabel.reset_index(inplace=True)\n",
    "\n",
    "    #Get the number of unique genomes\n",
    "    #get a sample of a train matrix\n",
    "    sampleTrainIndex, sampleTestIndex = sampler(matrix)\n",
    "    #The sample is turn into a set to remove duplicates and then turn back to a list \n",
    "    genomesPerlabelInSample = matrix.iloc[list(set(sampleTrainIndex))][[0,-1]].groupby(by=\"Labels\").count()\n",
    "    genomesPerlabelInSample.reset_index(inplace=True)\n",
    "    \n",
    "    genomesCounts.append((genomesPerlabel,genomesPerlabelInSample))"
   ]
  },
  {
   "cell_type": "code",
   "execution_count": 9,
   "metadata": {
    "collapsed": true
   },
   "outputs": [],
   "source": [
    "labelsDictPath = [\"Order/trainTestLabelsDictOrderAll.npy\",\n",
    "                  \"Family/trainTestLabelsDictFamilyAll.npy\",\n",
    "                  \"Genus/trainTestLabelsDictGenusAll.npy\"]\n",
    "labelsDict = []\n",
    "for path in labelsDictPath:\n",
    "    ldict = np.load(path).item()\n",
    "    ldict = {v:k for k,v in ldict.iteritems()}\n",
    "    labelsDict.append(ldict)"
   ]
  },
  {
   "cell_type": "code",
   "execution_count": 10,
   "metadata": {
    "collapsed": false
   },
   "outputs": [],
   "source": [
    "for i in range(len(genomesCounts)):\n",
    "    for j in range(2):\n",
    "        genomesCounts[i][j][\"Labels\"].update(pd.Series(labelsDict[i]))"
   ]
  },
  {
   "cell_type": "code",
   "execution_count": 11,
   "metadata": {
    "collapsed": false
   },
   "outputs": [],
   "source": [
    "#Check if the missclassification rate correlates with the number of genomes\n",
    "#1.get the total missclassification rate per taxonomic group per taxonomic level\n",
    "missSummaryDF = []\n",
    "for df in missDFs:\n",
    "    summary = df.groupby(by=\"Label\").sum()[\"MissRate\"].sort_values(ascending=False)*100\n",
    "    summary = pd.DataFrame(summary).reset_index()\n",
    "    missSummaryDF.append(summary)"
   ]
  },
  {
   "cell_type": "code",
   "execution_count": 12,
   "metadata": {
    "collapsed": false
   },
   "outputs": [],
   "source": [
    "level = [\"Order\",\"Family\",\"Genus\"]\n",
    "for i in range(len(genomesCounts)):\n",
    "    missSummaryDF[i] = missSummaryDF[i].merge(genomesCounts[i][0],\n",
    "                                              how=\"right\",left_on=\"Label\",right_on=\"Labels\")\n",
    "    missSummaryDF[i].columns = [\"Label\",\"MissRate\",\"x\",\"GenomeCountsAll\"]\n",
    "    missSummaryDF[i] = missSummaryDF[i].merge(genomesCounts[i][1],\n",
    "                                              how=\"right\",left_on=\"x\",right_on=\"Labels\")\n",
    "    missSummaryDF[i].columns = [\"o\",\"MissRate\",\"x\",\"GenomeCountsAll\",\"Label\",\"GenomeCountsSample\"]\n",
    "    missSummaryDF[i] = missSummaryDF[i][[\"Label\",\"MissRate\",\"GenomeCountsAll\",\"GenomeCountsSample\"]]\n",
    "    missSummaryDF[i][\"Level\"] = level[i]"
   ]
  },
  {
   "cell_type": "code",
   "execution_count": 13,
   "metadata": {
    "collapsed": false
   },
   "outputs": [],
   "source": [
    "missSummaryDF = pd.concat(missSummaryDF)\n",
    "missSummaryDF.fillna(0,inplace=True)"
   ]
  },
  {
   "cell_type": "code",
   "execution_count": 50,
   "metadata": {
    "collapsed": false
   },
   "outputs": [
    {
     "data": {
      "text/html": [
       "<div>\n",
       "<table border=\"1\" class=\"dataframe\">\n",
       "  <thead>\n",
       "    <tr style=\"text-align: right;\">\n",
       "      <th></th>\n",
       "      <th>Label</th>\n",
       "      <th>MissRate</th>\n",
       "      <th>GenomeCountsAll</th>\n",
       "      <th>GenomeCountsSample</th>\n",
       "      <th>Level</th>\n",
       "      <th>MissRateAdjusted</th>\n",
       "    </tr>\n",
       "  </thead>\n",
       "  <tbody>\n",
       "    <tr>\n",
       "      <th>153</th>\n",
       "      <td>Bafinivirus</td>\n",
       "      <td>1</td>\n",
       "      <td>2</td>\n",
       "      <td>1</td>\n",
       "      <td>Genus</td>\n",
       "      <td>2</td>\n",
       "    </tr>\n",
       "  </tbody>\n",
       "</table>\n",
       "</div>"
      ],
      "text/plain": [
       "           Label  MissRate  GenomeCountsAll  GenomeCountsSample  Level  \\\n",
       "153  Bafinivirus         1                2                   1  Genus   \n",
       "\n",
       "     MissRateAdjusted  \n",
       "153                 2  "
      ]
     },
     "execution_count": 50,
     "metadata": {},
     "output_type": "execute_result"
    }
   ],
   "source": [
    "missSummaryDF[missSummaryDF[\"Label\"].str.contains(\"Bafini\")]"
   ]
  },
  {
   "cell_type": "code",
   "execution_count": 16,
   "metadata": {
    "collapsed": false
   },
   "outputs": [
    {
     "data": {
      "text/plain": [
       "<seaborn.axisgrid.FacetGrid at 0x7f84c5981e10>"
      ]
     },
     "execution_count": 16,
     "metadata": {},
     "output_type": "execute_result"
    },
    {
     "data": {
      "image/png": "[encoded data removed]",
      "text/plain": [
       "<matplotlib.figure.Figure at 0x7f84c5981d10>"
      ]
     },
     "metadata": {},
     "output_type": "display_data"
    }
   ],
   "source": [
    "ax = sns.FacetGrid(missSummaryDF,col=\"Level\",sharey=False,sharex=False)\n",
    "ax.map(plt.scatter,\"GenomeCountsSample\",\"MissRate\")"
   ]
  },
  {
   "cell_type": "code",
   "execution_count": 14,
   "metadata": {
    "collapsed": false
   },
   "outputs": [],
   "source": [
    "missSummaryDF[\"MissRateAdjusted\"] = missSummaryDF[\"MissRate\"]+1"
   ]
  },
  {
   "cell_type": "code",
   "execution_count": 18,
   "metadata": {
    "collapsed": false
   },
   "outputs": [
    {
     "data": {
      "image/png": "[encoded data removed]",
      "text/plain": [
       "<matplotlib.figure.Figure at 0x7f84c54b8750>"
      ]
     },
     "metadata": {},
     "output_type": "display_data"
    }
   ],
   "source": [
    "#Absolute classification error\n",
    "ax = sns.scatterplot(x=\"GenomeCountsSample\",y=\"MissRateAdjusted\",hue=\"Level\",data=missSummaryDF)\n",
    "ax.semilogx()\n",
    "ax.semilogy()\n",
    "ax.set_ylabel(ylabel=\"Misclassification (%) + 1\")\n",
    "ax.set_xlabel(xlabel=\"Number of genomes in a training set\")\n",
    "ax.figure.savefig(\"classificationError/ce_NumGenomesPerSetvsError.pdf\")"
   ]
  },
  {
   "cell_type": "code",
   "execution_count": 19,
   "metadata": {
    "collapsed": false
   },
   "outputs": [
    {
     "data": {
      "image/png": "[encoded data removed]",
      "text/plain": [
       "<matplotlib.figure.Figure at 0x7f84c59819d0>"
      ]
     },
     "metadata": {},
     "output_type": "display_data"
    }
   ],
   "source": [
    "#Absolute classification error\n",
    "ax = sns.scatterplot(x=\"GenomeCountsAll\",y=\"MissRateAdjusted\",hue=\"Level\",data=missSummaryDF)\n",
    "ax.semilogy()\n",
    "ax.semilogx()\n",
    "ax.set_ylabel(ylabel=\"Misclassification (%) + 1\")\n",
    "ax.set_xlabel(xlabel=\"Number of genomes\")\n",
    "ax.figure.savefig(\"classificationError/ce_NumGenomesVsError.pdf\")"
   ]
  },
  {
   "cell_type": "code",
   "execution_count": 15,
   "metadata": {
    "collapsed": false
   },
   "outputs": [
    {
     "data": {
      "text/html": [
       "<div>\n",
       "<table border=\"1\" class=\"dataframe\">\n",
       "  <thead>\n",
       "    <tr style=\"text-align: right;\">\n",
       "      <th></th>\n",
       "      <th>Label</th>\n",
       "      <th>MissRate</th>\n",
       "      <th>GenomeCountsAll</th>\n",
       "      <th>GenomeCountsSample</th>\n",
       "      <th>Level</th>\n",
       "      <th>MissRateAdjusted</th>\n",
       "    </tr>\n",
       "  </thead>\n",
       "  <tbody>\n",
       "    <tr>\n",
       "      <th>13</th>\n",
       "      <td>Hepadnaviridae</td>\n",
       "      <td>10.750000</td>\n",
       "      <td>436</td>\n",
       "      <td>18</td>\n",
       "      <td>Family</td>\n",
       "      <td>11.750000</td>\n",
       "    </tr>\n",
       "    <tr>\n",
       "      <th>9</th>\n",
       "      <td>Paramyxoviridae</td>\n",
       "      <td>12.500000</td>\n",
       "      <td>273</td>\n",
       "      <td>18</td>\n",
       "      <td>Family</td>\n",
       "      <td>13.500000</td>\n",
       "    </tr>\n",
       "    <tr>\n",
       "      <th>8</th>\n",
       "      <td>Polyomaviridae</td>\n",
       "      <td>13.250000</td>\n",
       "      <td>154</td>\n",
       "      <td>18</td>\n",
       "      <td>Family</td>\n",
       "      <td>14.250000</td>\n",
       "    </tr>\n",
       "    <tr>\n",
       "      <th>7</th>\n",
       "      <td>Caulimoviridae</td>\n",
       "      <td>13.611111</td>\n",
       "      <td>123</td>\n",
       "      <td>18</td>\n",
       "      <td>Family</td>\n",
       "      <td>14.611111</td>\n",
       "    </tr>\n",
       "    <tr>\n",
       "      <th>6</th>\n",
       "      <td>Podoviridae</td>\n",
       "      <td>14.000000</td>\n",
       "      <td>368</td>\n",
       "      <td>18</td>\n",
       "      <td>Family</td>\n",
       "      <td>15.000000</td>\n",
       "    </tr>\n",
       "    <tr>\n",
       "      <th>4</th>\n",
       "      <td>Flaviviridae</td>\n",
       "      <td>15.333333</td>\n",
       "      <td>881</td>\n",
       "      <td>18</td>\n",
       "      <td>Family</td>\n",
       "      <td>16.333333</td>\n",
       "    </tr>\n",
       "    <tr>\n",
       "      <th>85</th>\n",
       "      <td>Flavivirus</td>\n",
       "      <td>10.666667</td>\n",
       "      <td>161</td>\n",
       "      <td>3</td>\n",
       "      <td>Genus</td>\n",
       "      <td>11.666667</td>\n",
       "    </tr>\n",
       "    <tr>\n",
       "      <th>72</th>\n",
       "      <td>Orthopoxvirus</td>\n",
       "      <td>15.666667</td>\n",
       "      <td>124</td>\n",
       "      <td>3</td>\n",
       "      <td>Genus</td>\n",
       "      <td>16.666667</td>\n",
       "    </tr>\n",
       "    <tr>\n",
       "      <th>52</th>\n",
       "      <td>Begomovirus</td>\n",
       "      <td>22.666667</td>\n",
       "      <td>519</td>\n",
       "      <td>3</td>\n",
       "      <td>Genus</td>\n",
       "      <td>23.666667</td>\n",
       "    </tr>\n",
       "    <tr>\n",
       "      <th>40</th>\n",
       "      <td>Hepacivirus</td>\n",
       "      <td>30.000000</td>\n",
       "      <td>616</td>\n",
       "      <td>3</td>\n",
       "      <td>Genus</td>\n",
       "      <td>31.000000</td>\n",
       "    </tr>\n",
       "    <tr>\n",
       "      <th>16</th>\n",
       "      <td>Enterovirus</td>\n",
       "      <td>55.333333</td>\n",
       "      <td>481</td>\n",
       "      <td>3</td>\n",
       "      <td>Genus</td>\n",
       "      <td>56.333333</td>\n",
       "    </tr>\n",
       "  </tbody>\n",
       "</table>\n",
       "</div>"
      ],
      "text/plain": [
       "              Label   MissRate  GenomeCountsAll  GenomeCountsSample   Level  \\\n",
       "13   Hepadnaviridae  10.750000              436                  18  Family   \n",
       "9   Paramyxoviridae  12.500000              273                  18  Family   \n",
       "8    Polyomaviridae  13.250000              154                  18  Family   \n",
       "7    Caulimoviridae  13.611111              123                  18  Family   \n",
       "6       Podoviridae  14.000000              368                  18  Family   \n",
       "4      Flaviviridae  15.333333              881                  18  Family   \n",
       "85       Flavivirus  10.666667              161                   3   Genus   \n",
       "72    Orthopoxvirus  15.666667              124                   3   Genus   \n",
       "52      Begomovirus  22.666667              519                   3   Genus   \n",
       "40      Hepacivirus  30.000000              616                   3   Genus   \n",
       "16      Enterovirus  55.333333              481                   3   Genus   \n",
       "\n",
       "    MissRateAdjusted  \n",
       "13         11.750000  \n",
       "9          13.500000  \n",
       "8          14.250000  \n",
       "7          14.611111  \n",
       "6          15.000000  \n",
       "4          16.333333  \n",
       "85         11.666667  \n",
       "72         16.666667  \n",
       "52         23.666667  \n",
       "40         31.000000  \n",
       "16         56.333333  "
      ]
     },
     "execution_count": 15,
     "metadata": {},
     "output_type": "execute_result"
    }
   ],
   "source": [
    "#Which groups have a missRate >10% and more than 100 genomes to sample?\n",
    "missSummaryDF[(missSummaryDF[\"GenomeCountsAll\"]>=100)&(missSummaryDF[\"MissRate\"]>=10)].sort_values(by=[\"Level\",\"MissRate\"])"
   ]
  },
  {
   "cell_type": "code",
   "execution_count": 100,
   "metadata": {
    "collapsed": false
   },
   "outputs": [],
   "source": [
    "#Which were the most comon confussion per level?\n",
    "top10 = []\n",
    "for level in [\"Order\",\"Family\",\"Genus\"]:\n",
    "    top10.append(missclassification[missclassification[\"Level\"]==level].sort_values(by=\"MissRate\",ascending=False).head(10))"
   ]
  },
  {
   "cell_type": "code",
   "execution_count": 104,
   "metadata": {
    "collapsed": false
   },
   "outputs": [],
   "source": [
    "#Append number of genomes available\n",
    "#Order case\n",
    "aux = top10[0].merge(right=missSummaryDF,left_on=\"Label\",right_on=\"Label\",how='left')\n",
    "aux = aux.merge(right=missSummaryDF,left_on=\"Prediction\",right_on=\"Label\",how='left')\n",
    "aux = aux[[\"Label_x\",\"GenomeCountsAll_x\",\"GenomeCountsSample_x\",\"Prediction\",\"GenomeCountsAll_y\",\"GenomeCountsSample_y\",\"MissRate_x\",\"Level_x\"]].copy()\n",
    "aux.columns = [\"Label\",\"GenomeCountsAll_l\",\"GenomeCountsSample_l\",\"Prediction\",\"GenomeCountsAll_p\",\"GenomeCountsSample_p\",\"MissRate\",\"Level\"]\n",
    "top10[0] = aux\n",
    "##Family case\n",
    "aux = top10[1].merge(right=missSummaryDF,left_on=\"Label\",right_on=\"Label\",how='left')\n",
    "aux = aux.merge(right=missSummaryDF,left_on=\"Prediction\",right_on=\"Label\",how='left')\n",
    "aux = aux[[\"Label_x\",\"GenomeCountsAll_x\",\"GenomeCountsSample_x\",\"Prediction\",\"GenomeCountsAll_y\",\"GenomeCountsSample_y\",\"MissRate_x\",\"Level_x\"]].copy()\n",
    "aux.columns = [\"Label\",\"GenomeCountsAll_l\",\"GenomeCountsSample_l\",\"Prediction\",\"GenomeCountsAll_p\",\"GenomeCountsSample_p\",\"MissRate\",\"Level\"]\n",
    "top10[1] = aux\n",
    "##Genus case\n",
    "aux = top10[2].merge(right=missSummaryDF,left_on=\"Label\",right_on=\"Label\",how='left')\n",
    "aux = aux.merge(right=missSummaryDF,left_on=\"Prediction\",right_on=\"Label\",how='left')\n",
    "aux = aux[[\"Label_x\",\"GenomeCountsAll_x\",\"GenomeCountsSample_x\",\"Prediction\",\"GenomeCountsAll_y\",\"GenomeCountsSample_y\",\"MissRate_x\",\"Level_x\"]].copy()\n",
    "aux.columns = [\"Label\",\"GenomeCountsAll_l\",\"GenomeCountsSample_l\",\"Prediction\",\"GenomeCountsAll_p\",\"GenomeCountsSample_p\",\"MissRate\",\"Level\"]\n",
    "top10[2] = aux\n"
   ]
  },
  {
   "cell_type": "code",
   "execution_count": 109,
   "metadata": {
    "collapsed": false
   },
   "outputs": [],
   "source": [
    "#Append the complete lineage to the top10 table. In order to see if the most comon confussion are due to close evlotuionary realtionships\n",
    "###1. Import taxonomy table for all genomes\n",
    "taxonomy = pd.read_csv(\"../../7_DBtests/iv_queries/taxonomyAnotation.csv\")\n",
    "taxonomy.head()\n",
    "###2. Keep only Genus, Family and Order columns and remove duplicates\n",
    "taxonomy = taxonomy[[\"Order\",\"Family\",\"Genus\"]].copy()\n",
    "taxonomy = taxonomy.drop_duplicates().copy()\n",
    "taxonomy.head()\n",
    "###3. Combine lineage and top10 table\n",
    "##Order case is not needed as Order is the higher taxonomic label\n",
    "##Family case\n",
    "taxonomyFamily = taxonomy[[\"Order\",\"Family\"]].drop_duplicates().copy()\n",
    "aux = top10[1].merge(right=taxonomyFamily,left_on=\"Label\",right_on=\"Family\",how=\"left\")\n",
    "aux = aux.merge(right=taxonomyFamily,left_on=\"Prediction\",right_on=\"Family\",how=\"left\")\n",
    "aux[\"Label\"] = aux[\"Order_x\"].astype(str)+\"_:_\"+aux[\"Family_x\"].astype(str)\n",
    "aux[\"Prediction\"] = aux[\"Order_y\"].astype(str)+\"_:_\"+aux[\"Family_y\"].astype(str)\n",
    "top10[1] = aux[[\"Label\",\"GenomeCountsAll_l\",\"GenomeCountsSample_l\",\"Prediction\",\"GenomeCountsAll_p\",\"GenomeCountsSample_p\",\"MissRate\",\"Level\"]].copy()\n",
    "##Genus case\n",
    "aux = top10[2].merge(right=taxonomy,left_on=\"Label\",right_on=\"Genus\",how=\"left\")\n",
    "aux = aux.merge(right=taxonomy,left_on=\"Prediction\",right_on=\"Genus\",how=\"left\")\n",
    "aux[\"Label\"] = aux[\"Order_x\"].astype(str)+\"_:_\"+aux[\"Family_x\"].astype(str)+\"_:_\"+aux[\"Genus_x\"].astype(str)\n",
    "aux[\"Prediction\"] = aux[\"Order_y\"].astype(str)+\"_:_\"+aux[\"Family_y\"].astype(str)+\"_:_\"+aux[\"Genus_y\"].astype(str)\n",
    "top10[2] = aux[[\"Label\",\"GenomeCountsAll_l\",\"GenomeCountsSample_l\",\"Prediction\",\"GenomeCountsAll_p\",\"GenomeCountsSample_p\",\"MissRate\",\"Level\"]].copy()"
   ]
  },
  {
   "cell_type": "code",
   "execution_count": 110,
   "metadata": {
    "collapsed": false
   },
   "outputs": [],
   "source": [
    "top10 = pd.concat(top10)\n",
    "top10.to_csv(\"classificationError/TableTop10ce.withLineageInfo.csv\",header=True,index=False,sep='\\t')"
   ]
  },
  {
   "cell_type": "code",
   "execution_count": null,
   "metadata": {
    "collapsed": true
   },
   "outputs": [],
   "source": []
  }
 ],
 "metadata": {
  "kernelspec": {
   "display_name": "Python [Root]",
   "language": "python",
   "name": "Python [Root]"
  },
  "language_info": {
   "codemirror_mode": {
    "name": "ipython",
    "version": 2
   },
   "file_extension": ".py",
   "mimetype": "text/x-python",
   "name": "python",
   "nbconvert_exporter": "python",
   "pygments_lexer": "ipython2",
   "version": "2.7.11"
  }
 },
 "nbformat": 4,
 "nbformat_minor": 2
}
