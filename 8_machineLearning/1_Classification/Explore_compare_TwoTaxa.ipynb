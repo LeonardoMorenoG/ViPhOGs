{
 "cells": [
  {
   "cell_type": "code",
   "execution_count": 1,
   "metadata": {
    "collapsed": true
   },
   "outputs": [],
   "source": [
    "import pandas as pd\n",
    "import numpy as np"
   ]
  },
  {
   "cell_type": "markdown",
   "metadata": {},
   "source": [
    "### Family case"
   ]
  },
  {
   "cell_type": "code",
   "execution_count": 2,
   "metadata": {
    "collapsed": false
   },
   "outputs": [
    {
     "name": "stdout",
     "output_type": "stream",
     "text": [
      "(11978, 11329)\n"
     ]
    }
   ],
   "source": [
    "#Import data\n",
    "\n",
    "## Import genomes vs viphogs matrix for family\n",
    "reducedMatrix = pd.read_csv(\"Family300320/reducedViphogsMatrix.csv\",header=0,sep='\\t')\n",
    "print reducedMatrix.shape\n",
    "## Import list of important viphogs\n",
    "importanViphogs = []\n",
    "fr = open(\"Family300320/importantViphogs.minNumberBestScore.csv\")\n",
    "for line in fr:\n",
    "    importanViphogs.append(line.strip('\\n'))\n",
    "## Reduce the matrix to only the important viphogs\n",
    "#reducedMatrix = reducedMatrix[importanViphogs+['Labels']]\n",
    "#print reducedMatrix.shape \n",
    "## Import dictionary of labels\n",
    "labelsDict = np.load(\"Family/trainTestLabelsDictFamilyAll.npy\").item()"
   ]
  },
  {
   "cell_type": "code",
   "execution_count": 4,
   "metadata": {
    "collapsed": false
   },
   "outputs": [],
   "source": [
    "taxa = [\"Mimiviridae\",\"Phycodnaviridae\",\"Ascoviridae\",\"Iridoviridae\",\"Asfarviridae\",\"Poxviridae\"]\n",
    "matrices = []\n",
    "for t in taxa:\n",
    "    m = reducedMatrix[reducedMatrix[\"Labels\"]==labelsDict[t]]\n",
    "    m = m.T[m.sum(axis=0) > 0].T.copy()\n",
    "    matrices.append(m)"
   ]
  },
  {
   "cell_type": "code",
   "execution_count": 31,
   "metadata": {
    "collapsed": false
   },
   "outputs": [],
   "source": [
    "#What those NCLDV families have in common?\n",
    "#Get the viphogs that are present (at least once) in a family\n",
    "viphogsPerFamily = []\n",
    "for m in matrices:\n",
    "    m.drop(axis=1,labels=[\"Labels\"])\n",
    "    viphogsPerFamily.append(m.sum(axis=0).T)\n",
    "#Keep only the names\n",
    "viphogsPerFamily = [set(v.index) for v in viphogsPerFamily]\n",
    "#Get the intersection among all families\n",
    "n = viphogsPerFamily[0]\n",
    "for v in viphogsPerFamily[1:]:\n",
    "    n = n&v\n",
    "n = list(n)"
   ]
  },
  {
   "cell_type": "code",
   "execution_count": 32,
   "metadata": {
    "collapsed": false
   },
   "outputs": [
    {
     "data": {
      "text/plain": [
       "['CLS865',\n",
       " 'Labels',\n",
       " 'CLS937',\n",
       " 'CLS1652',\n",
       " 'CLS1581',\n",
       " 'CLS821',\n",
       " 'CLS2418',\n",
       " 'CLS1598',\n",
       " 'CLS72',\n",
       " 'CLS1546']"
      ]
     },
     "execution_count": 32,
     "metadata": {},
     "output_type": "execute_result"
    }
   ],
   "source": [
    "n"
   ]
  },
  {
   "cell_type": "markdown",
   "metadata": {},
   "source": [
    "##### Genus case"
   ]
  },
  {
   "cell_type": "code",
   "execution_count": 33,
   "metadata": {
    "collapsed": false
   },
   "outputs": [
    {
     "name": "stdout",
     "output_type": "stream",
     "text": [
      "(10151, 20311)\n"
     ]
    }
   ],
   "source": [
    "#Import data\n",
    "\n",
    "## Import genomes vs viphogs matrix for family\n",
    "reducedMatrix = pd.read_csv(\"Genus300320/reducedViphogsMatrix.csv\",header=0,sep='\\t')\n",
    "print reducedMatrix.shape\n",
    "## Import list of important viphogs\n",
    "importanViphogs = []\n",
    "fr = open(\"Genus300320/importantViphogs.minNumberBestScore.csv\")\n",
    "for line in fr:\n",
    "    importanViphogs.append(line.strip('\\n'))\n",
    "## Reduce the matrix to only the important viphogs\n",
    "#reducedMatrix = reducedMatrix[importanViphogs+['Labels']]\n",
    "#print reducedMatrix.shape \n",
    "## Import dictionary of labels\n",
    "labelsDict = np.load(\"Genus/trainTestLabelsDictGenusAll.npy\").item()"
   ]
  },
  {
   "cell_type": "code",
   "execution_count": null,
   "metadata": {
    "collapsed": true
   },
   "outputs": [],
   "source": [
    "'Perhabdovirus','Tupavirus','Bracorhabdovirus'"
   ]
  },
  {
   "cell_type": "code",
   "execution_count": 38,
   "metadata": {
    "collapsed": false
   },
   "outputs": [],
   "source": [
    "taxa = ['Tibrovirus', 'Lyssavirus', 'Cytorhabdovirus', 'Ephemerovirus',\n",
    "       'Sprivivirus', 'Nucleorhabdovirus', 'Novirhabdovirus',\n",
    "       'Vesiculovirus', 'Sigmavirus']\n",
    "matrices = []\n",
    "for t in taxa:\n",
    "    m = reducedMatrix[reducedMatrix[\"Labels\"]==labelsDict[t]]\n",
    "    m = m.T[m.sum(axis=0) > 0].T.copy()\n",
    "    matrices.append(m)"
   ]
  },
  {
   "cell_type": "code",
   "execution_count": 39,
   "metadata": {
    "collapsed": true
   },
   "outputs": [],
   "source": [
    "#What those genera have in common?\n",
    "#Get the viphogs that are present (at least once) in a genus\n",
    "viphogsPerGenus = []\n",
    "for m in matrices:\n",
    "    m.drop(axis=1,labels=[\"Labels\"])\n",
    "    viphogsPerGenus.append(m.sum(axis=0).T)\n",
    "#Keep only the names\n",
    "viphogsPerGenus = [set(v.index) for v in viphogsPerGenus]"
   ]
  },
  {
   "cell_type": "code",
   "execution_count": 45,
   "metadata": {
    "collapsed": true
   },
   "outputs": [],
   "source": [
    "#Get the intersection among each pair of genus\n",
    "n = []\n",
    "n_names = []\n",
    "for i in range(len(viphogsPerGenus)):\n",
    "    for j in range(i+1,len(viphogsPerGenus)):\n",
    "        n.append(len(viphogsPerGenus[i]&viphogsPerGenus[j]))\n",
    "        n_names.append((taxa[i],taxa[j]))"
   ]
  },
  {
   "cell_type": "code",
   "execution_count": 46,
   "metadata": {
    "collapsed": false
   },
   "outputs": [
    {
     "name": "stdout",
     "output_type": "stream",
     "text": [
      "('Tibrovirus', 'Lyssavirus') 4\n",
      "('Tibrovirus', 'Cytorhabdovirus') 2\n",
      "('Tibrovirus', 'Ephemerovirus') 6\n",
      "('Tibrovirus', 'Sprivivirus') 4\n",
      "('Tibrovirus', 'Nucleorhabdovirus') 2\n",
      "('Tibrovirus', 'Novirhabdovirus') 3\n",
      "('Tibrovirus', 'Vesiculovirus') 4\n",
      "('Tibrovirus', 'Sigmavirus') 6\n",
      "('Lyssavirus', 'Cytorhabdovirus') 2\n",
      "('Lyssavirus', 'Ephemerovirus') 4\n",
      "('Lyssavirus', 'Sprivivirus') 4\n",
      "('Lyssavirus', 'Nucleorhabdovirus') 2\n",
      "('Lyssavirus', 'Novirhabdovirus') 3\n",
      "('Lyssavirus', 'Vesiculovirus') 4\n",
      "('Lyssavirus', 'Sigmavirus') 4\n",
      "('Cytorhabdovirus', 'Ephemerovirus') 2\n",
      "('Cytorhabdovirus', 'Sprivivirus') 2\n",
      "('Cytorhabdovirus', 'Nucleorhabdovirus') 4\n",
      "('Cytorhabdovirus', 'Novirhabdovirus') 3\n",
      "('Cytorhabdovirus', 'Vesiculovirus') 2\n",
      "('Cytorhabdovirus', 'Sigmavirus') 2\n",
      "('Ephemerovirus', 'Sprivivirus') 4\n",
      "('Ephemerovirus', 'Nucleorhabdovirus') 2\n",
      "('Ephemerovirus', 'Novirhabdovirus') 3\n",
      "('Ephemerovirus', 'Vesiculovirus') 4\n",
      "('Ephemerovirus', 'Sigmavirus') 6\n",
      "('Sprivivirus', 'Nucleorhabdovirus') 2\n",
      "('Sprivivirus', 'Novirhabdovirus') 3\n",
      "('Sprivivirus', 'Vesiculovirus') 6\n",
      "('Sprivivirus', 'Sigmavirus') 4\n",
      "('Nucleorhabdovirus', 'Novirhabdovirus') 3\n",
      "('Nucleorhabdovirus', 'Vesiculovirus') 2\n",
      "('Nucleorhabdovirus', 'Sigmavirus') 2\n",
      "('Novirhabdovirus', 'Vesiculovirus') 3\n",
      "('Novirhabdovirus', 'Sigmavirus') 3\n",
      "('Vesiculovirus', 'Sigmavirus') 4\n"
     ]
    }
   ],
   "source": [
    "for i in range(len(n)):\n",
    "    print n_names[i],n[i]"
   ]
  },
  {
   "cell_type": "code",
   "execution_count": 111,
   "metadata": {
    "collapsed": false
   },
   "outputs": [],
   "source": [
    "tax1 = \"Mupapillomavirus\"\n",
    "tax2 = \"Giardiavirus\"\n",
    "## Get the viphogs that are present in tax1 and tax2 genomes\n",
    "matrixTax1 = reducedMatrix[reducedMatrix[\"Labels\"]==labelsDict[tax1]]\n",
    "matrixTax1 = matrixTax1.T[matrixTax1.sum(axis=0) > 0].T.copy()\n",
    "matrixTax2 = reducedMatrix[reducedMatrix[\"Labels\"]==labelsDict[tax2]]\n",
    "matrixTax2 = matrixTax2.T[matrixTax2.sum(axis=0) > 0].T.copy()\n",
    "#matrixCorona = matrixCorona.T[matrixCorona.sum(axis=0) > 300].T.copy()\n",
    "## Get the viphogs that are present in genomes of other families (Look that this time the threshold is only 2)\n",
    "#matrixOthers = reducedMatrixFamily[reducedMatrixFamily[\"Labels\"]!=labelsDict[\"Coronaviridae\"]]\n",
    "#matrixOthers = matrixOthers.T[matrixOthers.sum(axis=0) >= 2].T.copy()"
   ]
  },
  {
   "cell_type": "code",
   "execution_count": 112,
   "metadata": {
    "collapsed": false
   },
   "outputs": [
    {
     "name": "stdout",
     "output_type": "stream",
     "text": [
      "['Labels']\n"
     ]
    }
   ],
   "source": [
    "nTaxa =  list(set(matrixTax1.columns) & set(matrixTax2.columns)) #nTaxa:= intersection between the two taxa\n",
    "print nTaxa"
   ]
  },
  {
   "cell_type": "code",
   "execution_count": 108,
   "metadata": {
    "collapsed": false
   },
   "outputs": [
    {
     "data": {
      "text/plain": [
       "CLS330       20\n",
       "CLS326       20\n",
       "CLS329       20\n",
       "Labels     5320\n",
       "CLS2979      20\n",
       "CLS2978      17\n",
       "dtype: float64"
      ]
     },
     "execution_count": 108,
     "metadata": {},
     "output_type": "execute_result"
    }
   ],
   "source": [
    "matrixTax1[nTaxa].sum()"
   ]
  },
  {
   "cell_type": "code",
   "execution_count": 109,
   "metadata": {
    "collapsed": false
   },
   "outputs": [
    {
     "data": {
      "text/plain": [
       "CLS330        6\n",
       "CLS326        6\n",
       "CLS329        6\n",
       "Labels     1740\n",
       "CLS2979       6\n",
       "CLS2978       6\n",
       "dtype: float64"
      ]
     },
     "execution_count": 109,
     "metadata": {},
     "output_type": "execute_result"
    }
   ],
   "source": [
    "matrixTax2[nTaxa].sum()"
   ]
  },
  {
   "cell_type": "code",
   "execution_count": 110,
   "metadata": {
    "collapsed": false
   },
   "outputs": [
    {
     "data": {
      "text/plain": [
       "(6, 6)"
      ]
     },
     "execution_count": 110,
     "metadata": {},
     "output_type": "execute_result"
    }
   ],
   "source": [
    "matrixTax2.shape"
   ]
  },
  {
   "cell_type": "code",
   "execution_count": 92,
   "metadata": {
    "collapsed": false
   },
   "outputs": [
    {
     "data": {
      "text/plain": [
       "Labels    33\n",
       "CLS188     3\n",
       "CLS189     3\n",
       "CLS184     3\n",
       "CLS180     3\n",
       "CLS181     3\n",
       "CLS182     3\n",
       "CLS146     3\n",
       "dtype: float64"
      ]
     },
     "execution_count": 92,
     "metadata": {},
     "output_type": "execute_result"
    }
   ],
   "source": [
    "matrixTax1.sum().sort_values(ascending=False)"
   ]
  },
  {
   "cell_type": "code",
   "execution_count": 93,
   "metadata": {
    "collapsed": false
   },
   "outputs": [
    {
     "data": {
      "text/plain": [
       "Labels      2240\n",
       "CLS857        24\n",
       "CLS798        14\n",
       "CLS4184        8\n",
       "CLS4291        7\n",
       "CLS4209        7\n",
       "CLS4298        7\n",
       "CLS4281        7\n",
       "CLS4299        7\n",
       "CLS4292        7\n",
       "CLS4284        7\n",
       "CLS4290        7\n",
       "CLS4289        7\n",
       "CLS53          7\n",
       "CLS4294        7\n",
       "CLS4242        7\n",
       "CLS133         7\n",
       "CLS4319        7\n",
       "CLS4272        7\n",
       "CLS731         7\n",
       "CLS4252        7\n",
       "CLS821         7\n",
       "CLS4346        7\n",
       "CLS4274        7\n",
       "CLS4222        7\n",
       "CLS865         7\n",
       "CLS4240        7\n",
       "CLS4323        7\n",
       "CLS4245        7\n",
       "CLS4303        7\n",
       "            ... \n",
       "CLS21819       3\n",
       "CLS21818       3\n",
       "CLS4219        3\n",
       "CLS4218        3\n",
       "CLS4338        3\n",
       "CLS4321        3\n",
       "CLS4335        3\n",
       "CLS4354        3\n",
       "CLS4374        3\n",
       "CLS4375        3\n",
       "CLS22124       3\n",
       "CLS22125       3\n",
       "CLS22126       3\n",
       "CLS22120       3\n",
       "CLS22121       3\n",
       "CLS4358        3\n",
       "CLS4255        3\n",
       "CLS4356        3\n",
       "CLS4357        3\n",
       "CLS6061        2\n",
       "CLS22114       2\n",
       "CLS22117       2\n",
       "CLS1100        1\n",
       "CLS2522        1\n",
       "CLS7508        1\n",
       "CLS1751        1\n",
       "CLS10787       1\n",
       "CLS6358        1\n",
       "CLS981         1\n",
       "CLS10742       1\n",
       "dtype: float64"
      ]
     },
     "execution_count": 93,
     "metadata": {},
     "output_type": "execute_result"
    }
   ],
   "source": [
    "matrixTax2.sum().sort_values(ascending=False)"
   ]
  },
  {
   "cell_type": "code",
   "execution_count": null,
   "metadata": {
    "collapsed": true
   },
   "outputs": [],
   "source": []
  },
  {
   "cell_type": "code",
   "execution_count": null,
   "metadata": {
    "collapsed": true
   },
   "outputs": [],
   "source": []
  }
 ],
 "metadata": {
  "kernelspec": {
   "display_name": "Python [Root]",
   "language": "python",
   "name": "Python [Root]"
  },
  "language_info": {
   "codemirror_mode": {
    "name": "ipython",
    "version": 2
   },
   "file_extension": ".py",
   "mimetype": "text/x-python",
   "name": "python",
   "nbconvert_exporter": "python",
   "pygments_lexer": "ipython2",
   "version": "2.7.11"
  }
 },
 "nbformat": 4,
 "nbformat_minor": 2
}
