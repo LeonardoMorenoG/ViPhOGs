{
 "cells": [
  {
   "cell_type": "code",
   "execution_count": 64,
   "metadata": {
    "collapsed": true
   },
   "outputs": [],
   "source": [
    "import numpy as np\n",
    "import pandas as pd\n",
    "from itertools import combinations\n",
    "\n",
    "from matplotlib import pyplot as plt\n",
    "from upsetplot import from_memberships, plot\n",
    "%matplotlib inline"
   ]
  },
  {
   "cell_type": "code",
   "execution_count": 6,
   "metadata": {
    "collapsed": true
   },
   "outputs": [],
   "source": [
    "table = pd.read_csv(\"viphogsComposition.csv\",sep='\\t',header=None)\n",
    "table.columns = [\"rac\",\"count\"]"
   ]
  },
  {
   "cell_type": "code",
   "execution_count": 52,
   "metadata": {
    "collapsed": false
   },
   "outputs": [],
   "source": [
    "x = [\"0|nan\",\"1|IPS\",\"2|vFam\",\"r|nan\"]\n",
    "racs = []\n",
    "data = []\n",
    "for i in range(len(x)+1):\n",
    "    for c in combinations(x,i):\n",
    "        racs.append(list(c))\n",
    "        if table[table['rac']==(' & '.join(c))].shape[0] > 0:\n",
    "            data.append(int(table[table['rac']==(' & '.join(c))]['count']))\n",
    "        else:\n",
    "            data.append(0)"
   ]
  },
  {
   "cell_type": "code",
   "execution_count": 58,
   "metadata": {
    "collapsed": false
   },
   "outputs": [],
   "source": [
    "u = from_memberships(racs,data=data)\n",
    "plot(u)"
   ]
  },
  {
   "cell_type": "code",
   "execution_count": null,
   "metadata": {
    "collapsed": true
   },
   "outputs": [],
   "source": []
  }
 ],
 "metadata": {
  "kernelspec": {
   "display_name": "Python [py3k]",
   "language": "python",
   "name": "Python [py3k]"
  },
  "language_info": {
   "codemirror_mode": {
    "name": "ipython",
    "version": 3
   },
   "file_extension": ".py",
   "mimetype": "text/x-python",
   "name": "python",
   "nbconvert_exporter": "python",
   "pygments_lexer": "ipython3",
   "version": "3.6.0"
  }
 },
 "nbformat": 4,
 "nbformat_minor": 2
}
