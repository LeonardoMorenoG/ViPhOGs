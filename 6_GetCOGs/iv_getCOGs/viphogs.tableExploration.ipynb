{
 "cells": [
  {
   "cell_type": "code",
   "execution_count": 1,
   "metadata": {
    "collapsed": false
   },
   "outputs": [],
   "source": [
    "import numpy as np\n",
    "import pandas as pd\n",
    "import collections, functools, operator\n",
    "\n",
    "import networkx as nx\n",
    "\n",
    "import seaborn as sns\n",
    "import matplotlib.pyplot as plt\n",
    "%matplotlib inline"
   ]
  },
  {
   "cell_type": "code",
   "execution_count": 2,
   "metadata": {
    "collapsed": false
   },
   "outputs": [
    {
     "data": {
      "text/html": [
       "<div>\n",
       "<table border=\"1\" class=\"dataframe\">\n",
       "  <thead>\n",
       "    <tr style=\"text-align: right;\">\n",
       "      <th></th>\n",
       "      <th>Protein&amp;RegionID</th>\n",
       "      <th>Accession</th>\n",
       "      <th>SourceProtId</th>\n",
       "      <th>SourceProtLength</th>\n",
       "      <th>SourceProtStart</th>\n",
       "      <th>SourceProtEnd</th>\n",
       "      <th>ClusterId</th>\n",
       "    </tr>\n",
       "  </thead>\n",
       "  <tbody>\n",
       "    <tr>\n",
       "      <th>0</th>\n",
       "      <td>253683359@0_150@57_106</td>\n",
       "      <td>AB008336.1</td>\n",
       "      <td>253683359@0_150@57_106</td>\n",
       "      <td>49</td>\n",
       "      <td>1</td>\n",
       "      <td>49</td>\n",
       "      <td>CLS00001</td>\n",
       "    </tr>\n",
       "    <tr>\n",
       "      <th>1</th>\n",
       "      <td>2828598@0_120@30_75</td>\n",
       "      <td>AF023424.1</td>\n",
       "      <td>2828598@0_120@30_75</td>\n",
       "      <td>45</td>\n",
       "      <td>1</td>\n",
       "      <td>45</td>\n",
       "      <td>CLS00001</td>\n",
       "    </tr>\n",
       "    <tr>\n",
       "      <th>2</th>\n",
       "      <td>2828600@0_122@26_79</td>\n",
       "      <td>AF023425.1</td>\n",
       "      <td>2828600@0_122@26_79</td>\n",
       "      <td>53</td>\n",
       "      <td>1</td>\n",
       "      <td>53</td>\n",
       "      <td>CLS00001</td>\n",
       "    </tr>\n",
       "    <tr>\n",
       "      <th>3</th>\n",
       "      <td>4883489@68_228@68_115</td>\n",
       "      <td>AF070476.1</td>\n",
       "      <td>4883489@68_228@68_115</td>\n",
       "      <td>47</td>\n",
       "      <td>1</td>\n",
       "      <td>47</td>\n",
       "      <td>CLS00001</td>\n",
       "    </tr>\n",
       "    <tr>\n",
       "      <th>4</th>\n",
       "      <td>4093141@0_150@56_117</td>\n",
       "      <td>AF081782.1</td>\n",
       "      <td>4093141@0_150@56_117</td>\n",
       "      <td>61</td>\n",
       "      <td>1</td>\n",
       "      <td>61</td>\n",
       "      <td>CLS00001</td>\n",
       "    </tr>\n",
       "  </tbody>\n",
       "</table>\n",
       "</div>"
      ],
      "text/plain": [
       "         Protein&RegionID   Accession            SourceProtId  \\\n",
       "0  253683359@0_150@57_106  AB008336.1  253683359@0_150@57_106   \n",
       "1     2828598@0_120@30_75  AF023424.1     2828598@0_120@30_75   \n",
       "2     2828600@0_122@26_79  AF023425.1     2828600@0_122@26_79   \n",
       "3   4883489@68_228@68_115  AF070476.1   4883489@68_228@68_115   \n",
       "4    4093141@0_150@56_117  AF081782.1    4093141@0_150@56_117   \n",
       "\n",
       "   SourceProtLength  SourceProtStart  SourceProtEnd ClusterId  \n",
       "0                49                1             49  CLS00001  \n",
       "1                45                1             45  CLS00001  \n",
       "2                53                1             53  CLS00001  \n",
       "3                47                1             47  CLS00001  \n",
       "4                61                1             61  CLS00001  "
      ]
     },
     "execution_count": 2,
     "metadata": {},
     "output_type": "execute_result"
    }
   ],
   "source": [
    "#import the table that contains the information about the clusters\n",
    "viphogs = pd.read_csv(\"protein.clusters50.onlyClusters.greaterThan2.csv\",sep=',',header=None)\n",
    "viphogs.columns = [\"Protein&RegionID\",\"Accession\",\"SourceProtId\",\"SourceProtLength\",\"SourceProtStart\",\"SourceProtEnd\",\"ClusterId\",\"J\"]\n",
    "del(viphogs['J'])\n",
    "viphogs.head()"
   ]
  },
  {
   "cell_type": "code",
   "execution_count": 3,
   "metadata": {
    "collapsed": false
   },
   "outputs": [
    {
     "data": {
      "text/plain": [
       "31150"
      ]
     },
     "execution_count": 3,
     "metadata": {},
     "output_type": "execute_result"
    }
   ],
   "source": [
    "#How many ViPhOGs are?\n",
    "viphogs[\"ClusterId\"].unique().shape[0]"
   ]
  },
  {
   "cell_type": "code",
   "execution_count": 4,
   "metadata": {
    "collapsed": false
   },
   "outputs": [
    {
     "name": "stdout",
     "output_type": "stream",
     "text": [
      "5.0\n",
      "count    31150.000000\n",
      "mean        17.624655\n",
      "std         66.334128\n",
      "min          3.000000\n",
      "25%          3.000000\n",
      "50%          5.000000\n",
      "75%         11.000000\n",
      "max       3440.000000\n",
      "Name: Protein&RegionID, dtype: float64\n"
     ]
    }
   ],
   "source": [
    "#How many regions are per viphog\n",
    "print viphogs.groupby([\"ClusterId\"]).count()[\"Protein&RegionID\"].median()\n",
    "print viphogs.groupby([\"ClusterId\"]).count()[\"Protein&RegionID\"].describe()"
   ]
  },
  {
   "cell_type": "code",
   "execution_count": 6,
   "metadata": {
    "collapsed": false
   },
   "outputs": [
    {
     "name": "stdout",
     "output_type": "stream",
     "text": [
      "5.0\n",
      "count    31150.000000\n",
      "mean        16.619422\n",
      "std         52.735551\n",
      "min          3.000000\n",
      "25%          3.000000\n",
      "50%          5.000000\n",
      "75%         11.000000\n",
      "max       2139.000000\n",
      "Name: Accession, dtype: float64\n"
     ]
    }
   ],
   "source": [
    "#How many genomes are per viphog?\n",
    "\n",
    "#1.get pairs viphogs - genomes\n",
    "pvg = viphogs[[\"ClusterId\",\"Accession\"]].copy() #pvg means paired viphogs-genomes\n",
    "#2.remove duplicated pairs. That is, if a viphog has several times a genome, keep only one\n",
    "pvg.drop_duplicates(inplace=True)\n",
    "#3.count how many genomes are per viphog\n",
    "print pvg.groupby([\"ClusterId\"]).count()[\"Accession\"].median()\n",
    "print pvg.groupby([\"ClusterId\"]).count()[\"Accession\"].describe()"
   ]
  },
  {
   "cell_type": "code",
   "execution_count": 7,
   "metadata": {
    "collapsed": false
   },
   "outputs": [
    {
     "name": "stdout",
     "output_type": "stream",
     "text": [
      "ClusterId\n",
      "CLS00937    3440\n",
      "Name: Protein&RegionID, dtype: int64\n",
      "ClusterId\n",
      "CLS00105    2139\n",
      "Name: Accession, dtype: int64\n"
     ]
    }
   ],
   "source": [
    "#Which is the viphog with more regions? Is the same viphog after remove the redundancy of genomes?\n",
    "#1. viphog with more regions\n",
    "maxViPhog = viphogs.groupby([\"ClusterId\"]).count()[\"Protein&RegionID\"].max()\n",
    "print viphogs.groupby([\"ClusterId\"]).count()[\"Protein&RegionID\"][viphogs.groupby([\"ClusterId\"]).count()[\"Protein&RegionID\"]==maxViPhog]\n",
    "\n",
    "#2 viphog with more regions after remove genomes redundancy\n",
    "maxViPhog = pvg.groupby([\"ClusterId\"]).count()[\"Accession\"].max()\n",
    "print pvg.groupby([\"ClusterId\"]).count()[\"Accession\"][pvg.groupby([\"ClusterId\"]).count()[\"Accession\"]==maxViPhog]"
   ]
  },
  {
   "cell_type": "code",
   "execution_count": 8,
   "metadata": {
    "collapsed": false
   },
   "outputs": [
    {
     "data": {
      "text/plain": [
       "ClusterId\n",
       "CLS00937    3440\n",
       "CLS01191    3095\n",
       "CLS00105    2419\n",
       "CLS00655    2151\n",
       "CLS00332    1934\n",
       "CLS01992    1915\n",
       "CLS00581    1894\n",
       "CLS01184    1685\n",
       "CLS00588    1654\n",
       "CLS00020    1585\n",
       "Name: Protein&RegionID, dtype: int64"
      ]
     },
     "execution_count": 8,
     "metadata": {},
     "output_type": "execute_result"
    }
   ],
   "source": [
    "# Top 10 viphogs with more regions\n",
    "viphogs.groupby([\"ClusterId\"]).count()[\"Protein&RegionID\"].sort_values(ascending=False).head(10)"
   ]
  },
  {
   "cell_type": "code",
   "execution_count": 9,
   "metadata": {
    "collapsed": false
   },
   "outputs": [
    {
     "data": {
      "text/plain": [
       "ClusterId\n",
       "CLS00105    2139\n",
       "CLS01191    1392\n",
       "CLS00588    1273\n",
       "CLS00581    1246\n",
       "CLS00167    1198\n",
       "CLS00937    1180\n",
       "CLS00170    1163\n",
       "CLS00169    1163\n",
       "CLS00175    1160\n",
       "CLS00168    1159\n",
       "Name: Accession, dtype: int64"
      ]
     },
     "execution_count": 9,
     "metadata": {},
     "output_type": "execute_result"
    }
   ],
   "source": [
    "# Top 10 viphogs with more regions after remove genomes redundancy\n",
    "pvg.groupby([\"ClusterId\"]).count()[\"Accession\"].sort_values(ascending=False).head(10)"
   ]
  },
  {
   "cell_type": "code",
   "execution_count": 10,
   "metadata": {
    "collapsed": false
   },
   "outputs": [
    {
     "data": {
      "text/plain": [
       "(1180,)"
      ]
     },
     "execution_count": 10,
     "metadata": {},
     "output_type": "execute_result"
    }
   ],
   "source": [
    "#How many genomes have the viphog with more regions?\n",
    "viphogs[viphogs[\"ClusterId\"]==\"CLS00937\"][\"Accession\"].unique().shape"
   ]
  },
  {
   "cell_type": "code",
   "execution_count": 11,
   "metadata": {
    "collapsed": true
   },
   "outputs": [],
   "source": [
    "# Make a table of the Top viphogs (viphogs with more than 100 regions)\n",
    "topViphogs = viphogs.groupby([\"ClusterId\"]).count()[\"Protein&RegionID\"].sort_values(ascending=False)"
   ]
  },
  {
   "cell_type": "code",
   "execution_count": 12,
   "metadata": {
    "collapsed": false
   },
   "outputs": [],
   "source": [
    "#get the top viphogs\n",
    "topViphogsDF = pd.DataFrame(topViphogs[topViphogs>100])\n",
    "topViphogsDF.reset_index(inplace=True)\n",
    "topViphogsDF.columns = [\"ClusterID\",\"NumRegions\"]"
   ]
  },
  {
   "cell_type": "code",
   "execution_count": 13,
   "metadata": {
    "collapsed": false
   },
   "outputs": [],
   "source": [
    "#get the number of genomes per viphogs\n",
    "topViphogsDF[\"NumGenomes\"] = pvg.groupby([\"ClusterId\"]).count()[\"Accession\"].sort_values(ascending=False)[topViphogsDF[\"ClusterID\"]].values"
   ]
  },
  {
   "cell_type": "code",
   "execution_count": 198,
   "metadata": {
    "collapsed": false
   },
   "outputs": [],
   "source": [
    "#import regions annotation description\n",
    "regionsAnnotation = pd.read_csv(\"../../../clustersAnnotation.forGuille.csv\",header=0,sep='\\t')\n",
    "#\n",
    "#get annotation of each cluster\n",
    "funcAnnotation = []\n",
    "for cluster in topViphogsDF[\"ClusterID\"]:\n",
    "    annotation = []\n",
    "    x = regionsAnnotation[regionsAnnotation[\"Cluster\"]==cluster][\"Description\"].value_counts()\n",
    "    for i,v in x.iteritems():\n",
    "        annotation.append((i,v))\n",
    "    funcAnnotation.append(annotation)\n",
    "#\n",
    "topViphogsDF[\"functionalAnnotation\"] = funcAnnotation"
   ]
  },
  {
   "cell_type": "code",
   "execution_count": 202,
   "metadata": {
    "collapsed": false
   },
   "outputs": [],
   "source": [
    "#Remove undesired chars (- .)from the annotations\n",
    "#those chars make the same word look different (eg. \"domain\" \"--domain--\" \"domain.\")\n",
    "def removeChars(a):\n",
    "    v = a[1]\n",
    "    a = a[0]\n",
    "    a = a.replace('-',' ').replace('.',' ')\n",
    "    return (a,v)\n",
    "\n",
    "newAnnotations = []\n",
    "for annotationSet in topViphogsDF[\"functionalAnnotation\"]:\n",
    "    editedAnnotation = []\n",
    "    for a in annotationSet:\n",
    "        editedAnnotation.append(removeChars(a))\n",
    "    newAnnotations.append(editedAnnotation)\n",
    "topViphogsDF[\"functionalAnnotation\"] = newAnnotations"
   ]
  },
  {
   "cell_type": "code",
   "execution_count": 271,
   "metadata": {
    "collapsed": false
   },
   "outputs": [
    {
     "name": "stdout",
     "output_type": "stream",
     "text": [
      "[('vFam_4709_104_146', 1), ('vFam_6599_31_69', 1), ('vFam_2924_194_242', 1), ('vFam_2924_202_241 vFam_959_301_339', 1)]\n",
      "[]\n",
      "[('BRO family, N terminal domain BRO family, N terminal domain', 513), ('BRO family, N terminal domain', 109), ('BRO family, N terminal domain BRO family, N terminal domain  ', 3), ('vFam_496_280_357 vFam_5762_20_118 vFam_388_65_143', 1), ('vFam_650_10_75', 1), ('BRO family, N terminal domain  ', 1)]\n",
      "[('vFam_3621_206_256', 601), ('vFam_3621_206_254', 1), ('vFam_3621_206_256 vFam_4127_251_279', 1), ('vFam_3621_206_256 vFam_4127_251_278', 1), ('vFam_3621_209_256', 1)]\n",
      "[('    RNA helicase', 139), ('  RNA helicase', 104), ('  RNA helicase  ', 76), ('vFam_103_93_158', 35), ('vFam_103_94_158', 17), ('   ', 17), ('vFam_103_93_159', 12), (' ', 12), ('vFam_103_94_153', 11), ('    RNA helicase  ', 8), ('RNA helicase', 8), ('vFam_103_94_160', 7), ('vFam_103_95_158', 5), ('vFam_103_92_158', 5), ('vFam_103_95_156', 4), ('vFam_103_94_148', 4), ('RNA helicase  ', 4), ('vFam_103_94_162', 4), ('vFam_103_94_159', 3), ('vFam_103_104_151', 3), ('vFam_103_94_157', 3), ('vFam_103_95_145', 2), ('    Geminivirus CLV AL1 coat protein signature Geminivirus CLV AL1 coat protein signature', 2), ('vFam_103_95_146', 2), ('vFam_103_94_149', 2), ('vFam_103_94_151', 2), ('vFam_103_95_135', 2), ('vFam_103_94_150', 2), ('vFam_103_94_139', 2), ('vFam_103_94_161', 2), ('vFam_103_101_160', 2), ('vFam_103_95_160', 2), ('vFam_103_95_153', 2), ('vFam_103_95_161', 2), ('vFam_103_94_152', 2), ('vFam_103_94_145', 2), ('vFam_103_105_158', 2), ('vFam_103_91_161', 2), ('vFam_103_92_151 vFam_92_220_239', 1), ('    Geminivirus CLV AL1 coat protein signature', 1), ('vFam_103_95_136', 1), ('vFam_103_95_139', 1), ('vFam_103_102_148', 1), ('vFam_103_104_145', 1), ('vFam_103_90_158', 1), ('vFam_103_101_151', 1), ('vFam_103_94_163', 1), ('vFam_103_101_158', 1), ('vFam_103_158_234', 1), ('vFam_103_93_160', 1), ('    Geminivirus CLV AL1 coat protein signature RNA helicase Geminivirus CLV AL1 coat protein signature', 1), ('Superfamily 3 helicase of positive ssRNA viruses domain profile      RNA helicase', 1), ('vFam_103_92_151', 1), ('vFam_103_92_155', 1), ('Superfamily 3 helicase of positive ssRNA viruses domain profile      RNA helicase  ', 1), ('vFam_103_90_141', 1), ('vFam_103_92_163', 1), ('vFam_103_92_165', 1), ('vFam_103_108_151', 1), ('vFam_103_93_161', 1), ('vFam_103_98_158', 1), ('vFam_103_94_150 vFam_5542_37_72', 1), ('vFam_103_95_162', 1), ('vFam_103_100_278 vFam_2955_385_472', 1), ('vFam_103_95_275', 1), ('vFam_103_94_136', 1), ('vFam_103_155_274', 1), ('vFam_103_94_180', 1), ('vFam_103_92_162', 1), ('vFam_103_103_194', 1), ('vFam_103_103_151', 1), ('vFam_103_93_155', 1), ('vFam_103_214_274', 1), ('     ', 1), ('vFam_103_96_149', 1), ('vFam_103_92_136', 1), ('vFam_103_95_148', 1), ('vFam_103_95_152', 1), ('vFam_103_95_150', 1), ('vFam_92_92_137 vFam_103_96_157', 1), ('vFam_103_98_160', 1), ('vFam_103_93_150', 1), ('vFam_103_93_152', 1), ('vFam_103_94_144', 1), ('vFam_103_93_156', 1), ('vFam_103_94_147', 1), ('vFam_103_119_275', 1), ('vFam_103_103_156', 1), ('vFam_103_97_200', 1), ('vFam_103_99_151', 1), ('vFam_103_162_249', 1), ('vFam_103_93_139', 1), ('vFam_103_93_134', 1), ('vFam_103_98_153', 1), ('vFam_103_92_137', 1), ('vFam_103_104_160', 1), ('vFam_103_94_155 vFam_92_100_178', 1), ('Superfamily 3 helicase of positive ssRNA viruses domain profile  RNA helicase', 1), ('vFam_103_90_192 vFam_252_180_199', 1), ('vFam_103_94_155', 1), ('  Geminivirus CLV AL1 coat protein signature', 1), ('RNA helicase    ', 1), ('vFam_92_92_137 vFam_103_96_145', 1), ('vFam_103_95_147', 1), ('vFam_103_95_149', 1), ('vFam_103_96_200', 1), ('vFam_103_94_156', 1), ('vFam_103_104_149', 1)]\n",
      "[('vFam_52_270_332', 158), ('vFam_52_269_332', 119), ('vFam_52_271_332', 106), ('vFam_52_276_332', 28), ('vFam_52_272_332', 26), ('vFam_52_269_334', 15), ('vFam_52_270_334', 13), ('vFam_52_275_332', 12), ('vFam_52_268_332', 8), ('vFam_52_277_332', 8), ('vFam_52_273_334', 6), ('vFam_52_274_334', 5), ('vFam_52_274_332', 4), ('vFam_52_275_334', 4), ('vFam_52_278_332', 4), ('vFam_52_279_332', 4), ('vFam_52_276_331 vFam_6531_24_46', 2), ('vFam_52_265_334', 2), ('vFam_52_281_334', 2), ('vFam_3004_100_146 vFam_52_270_332', 2), ('vFam_52_270_331', 2), ('vFam_52_281_332', 2), ('vFam_52_273_332', 2), ('vFam_52_269_332 vFam_6363_48_96 vFam_3730_90_118', 1), ('vFam_52_278_332 vFam_1300_31_52', 1), ('vFam_52_263_332', 1), ('vFam_52_269_315', 1), ('vFam_3004_100_147 vFam_52_270_332', 1), ('vFam_52_275_331 vFam_6531_23_46', 1), ('vFam_52_278_334', 1), ('vFam_52_270_329', 1), ('vFam_52_270_334 vFam_3698_24_31', 1), ('vFam_52_277_332 vFam_1300_34_50', 1), ('vFam_52_268_334', 1), ('vFam_52_277_332 vFam_1300_32_51', 1), ('vFam_52_269_310', 1), ('vFam_52_273_332 vFam_326_36_60', 1), ('vFam_52_275_334 vFam_4673_56_68 vFam_308_19_65', 1), (' ', 1), ('vFam_52_270_334 vFam_6092_11_68', 1), ('vFam_52_271_332 vFam_2233_32_81', 1), ('vFam_52_270_332 vFam_2783_32_59', 1)]\n",
      "[('    Putative peptidoglycan binding domain', 170), (' ', 32), ('  Putative peptidoglycan binding domain  ', 4), ('    Putative peptidoglycan binding domain  ', 4), ('vFam_4576_85_127', 2), ('Putative peptidoglycan binding domain    ', 2), ('  Putative peptidoglycan binding domain', 1), ('   ', 1)]\n",
      "[('PRANC domain', 225), ('PRANC domain F box domain profile ', 67), ('vFam_935_315_470', 6), ('ankyrin repeats PRANC domain', 6), ('PRANC domain F box domain profile   ', 4), ('PRANC domain  ', 3), ('vFam_935_351_475', 2), ('PRANC domain    ', 2), ('PRANC domain     F box domain profile ', 1), ('vFam_4137_201_290 vFam_935_353_482', 1), ('vFam_935_315_470 vFam_4747_16_63', 1)]\n",
      "[('Major capsid protein Gp23', 291), ('Major capsid protein Gp23   Major capsid protein Gp23', 5), ('vFam_586_468_538', 2), ('Major capsid protein Gp23 Major capsid protein Gp23', 2), ('Major capsid protein Gp23  ', 1)]\n",
      "[(' ', 411), ('vFam_5222_127_221', 1)]\n",
      "[('vFam_4986_56_98', 51), ('    Ankyrin repeat region circular profile  ankyrin repeats Ankyrin repeat profile  Ankyrin repeats (many copies) ankyrin repeats', 30), ('ankyrin repeats   Ankyrin repeats (many copies) Ankyrin repeat region circular profile    ankyrin repeats Ankyrin repeat profile  ankyrin repeats', 29), ('  Ankyrin repeat region circular profile    Ankyrin repeat profile ', 22), ('ankyrin repeats   Ankyrin repeat region circular profile    ankyrin repeats Ankyrin repeat profile  Ankyrin repeats (many copies) ankyrin repeats', 16), ('  Pumilio like repeats Ankyrin repeat region circular profile    ankyrin repeats Ankyrin repeat profile  Ankyrin repeats (many copies) ankyrin repeats', 15), ('vFam_3972_23_65', 14), ('  Ankyrin repeat region circular profile    ankyrin repeats Ankyrin repeat profile  Ankyrin repeats (many copies) ankyrin repeats', 12), ('ankyrin repeats  ', 10), ('ankyrin repeats     Ankyrin repeats (many copies) Ankyrin repeat region circular profile  ankyrin repeats Ankyrin repeat profile  ankyrin repeats', 10), ('  ankyrin repeats   ankyrin repeats Ankyrin repeat region circular profile  ankyrin repeats Ankyrin repeat profile ', 9), ('ankyrin repeats     Ankyrin repeats (many copies) Ankyrin repeat region circular profile    ankyrin repeats Ankyrin repeat profile  ankyrin repeats', 9), ('Ankyrin repeats (many copies) Ankyrin repeat region circular profile      ankyrin repeats Ankyrin repeat profile  ankyrin repeats', 8), ('Pumilio like repeats Ankyrin repeat region circular profile      ankyrin repeats Ankyrin repeat profile  Ankyrin repeats (many copies) ankyrin repeats', 8), ('  ankyrin repeats     Ankyrin repeats (many copies) Ankyrin repeat region circular profile  ankyrin repeats Ankyrin repeat profile  ankyrin repeats', 6), ('    Ankyrin repeats (many copies) Ankyrin repeat region circular profile  ankyrin repeats Ankyrin repeat profile  ankyrin repeats', 6), ('    Pumilio like repeats Ankyrin repeat region circular profile  ankyrin repeats Ankyrin repeat profile  Ankyrin repeats (many copies) ankyrin repeats', 6), ('  Pumilio like repeats Ankyrin repeat region circular profile    Ankyrin repeat ankyrin repeats Ankyrin repeat profile  ankyrin repeats', 6), ('Pumilio like repeats Ankyrin repeat region circular profile      ankyrin repeats Ankyrin repeat Ankyrin repeat profile  ankyrin repeats', 5), ('  ankyrin repeats   Ankyrin repeats (many copies) Ankyrin repeat region circular profile    ankyrin repeats Ankyrin repeat profile  ankyrin repeats', 4), ('    Ankyrin repeat region circular profile  Ankyrin repeat profile ', 4), ('  Ankyrin repeats (many copies) Ankyrin repeat region circular profile    ankyrin repeats Ankyrin repeat profile  ankyrin repeats', 4), ('ankyrin repeats     ankyrin repeats   ankyrin repeats Ankyrin repeat region circular profile    ankyrin repeats Ankyrin repeat profile  ankyrin repeats', 3), ('    ankyrin repeats ankyrin repeats Ankyrin repeat region circular profile    ankyrin repeats Ankyrin repeat profile ', 3), ('  ankyrin repeats   ankyrin repeats Ankyrin repeat region circular profile  ankyrin repeats Ankyrin repeat profile  ankyrin repeats', 3), ('Ankyrin repeat region circular profile      Ankyrin repeat profile ', 3), ('    ankyrin repeats   ankyrin repeats Ankyrin repeat region circular profile    ankyrin repeats Ankyrin repeat profile ', 3), ('ankyrin repeats   Ankyrin repeat region circular profile      Ankyrin repeats (many copies) ankyrin repeats Ankyrin repeat profile ', 2), ('  Ankyrin repeat region circular profile    Ankyrin repeat ankyrin repeats Ankyrin repeat profile  ankyrin repeats', 2), ('vFam_5925_5_80 vFam_4986_56_100', 2), ('Pumilio like repeats Ankyrin repeat region circular profile      Ankyrin repeat ankyrin repeats Ankyrin repeat profile  ankyrin repeats', 2), ('ankyrin repeats     Ankyrin repeat region circular profile  ankyrin repeats Ankyrin repeat profile  Ankyrin repeats (many copies) ankyrin repeats', 2), ('vFam_4986_44_98', 2), ('  Pumilio like repeats   Ankyrin repeat region circular profile  ankyrin repeats Ankyrin repeat Ankyrin repeat profile  ankyrin repeats', 1), ('  ankyrin repeats   ankyrin repeats ankyrin repeats   ankyrin repeats ankyrin repeats Ankyrin repeat region circular profile    ankyrin repeats Ankyrin repeat profile ', 1), ('  ankyrin repeats     ankyrin repeats Ankyrin repeat region circular profile  Ankyrin repeats (3 copies)   ankyrin repeats ankyrin repeats', 1), ('  Pumilio like repeats Ankyrin repeat region circular profile    ankyrin repeats Ankyrin repeat profile  ankyrin repeats', 1), ('ankyrin repeats Ankyrin repeat region circular profile      ankyrin repeats Ankyrin repeat profile ', 1), ('ankyrin repeats     Ankyrin repeats (3 copies) Ankyrin repeat region circular profile  ankyrin repeats ankyrin repeats Ankyrin repeat profile  ankyrin repeats Ankyrin repeat profile  Ankyrin repeats (many copies) ankyrin repeats Ankyrin repeat profile  ankyrin repeats', 1), ('ankyrin repeats   Ankyrin repeats (3 copies) Ankyrin repeat region circular profile      ankyrin repeats Ankyrin repeat profile ', 1), ('vFam_4986_56_97', 1), ('ankyrin repeats     ankyrin repeats Ankyrin repeat region circular profile    ankyrin repeats Ankyrin repeat profile  Ankyrin repeat', 1), ('  Pumilio like repeats Ankyrin repeat region circular profile    ankyrin repeats Ankyrin repeat Ankyrin repeat profile ', 1), ('  Ankyrin repeats (many copies)   Ankyrin repeat region circular profile  ankyrin repeats Ankyrin repeat profile ', 1), ('Ankyrin repeat region circular profile      ankyrin repeats Ankyrin repeat profile  Ankyrin repeats (many copies) ankyrin repeats', 1), ('ankyrin repeats     ankyrin repeats', 1), ('    Pumilio like repeats Ankyrin repeat region circular profile    ankyrin repeats Ankyrin repeat profile  Ankyrin repeats (many copies) ankyrin repeats', 1), ('ankyrin repeats       Ankyrin repeats (many copies) Ankyrin repeat region circular profile  ankyrin repeats Ankyrin repeat profile  ankyrin repeats', 1), ('  Pumilio like repeats Ankyrin repeat region circular profile    ankyrin repeats Ankyrin repeat Ankyrin repeat profile  ankyrin repeats', 1), ('  ankyrin repeats   ankyrin repeats Ankyrin repeat region circular profile    ankyrin repeats Ankyrin repeat profile ', 1), ('  ankyrin repeats   Ankyrin repeat region circular profile  ankyrin repeats Ankyrin repeat profile  Ankyrin repeats (many copies) ankyrin repeats', 1), ('    ankyrin repeats Ankyrin repeat profile  Ankyrin repeat region circular profile  Ankyrin repeat   ankyrin repeats Ankyrin repeat region circular profile  Ankyrin repeats (many copies) ankyrin repeats Ankyrin repeat profile  Ankyrin repeat signature ankyrin repeats ankyrin repeats Ankyrin repeat profile  Ankyrin repeat Ankyrin repeat signature ankyrin repeats', 1), ('ankyrin repeats     Ankyrin repeats (many copies)   Ankyrin repeat region circular profile  ankyrin repeats Ankyrin repeat profile  ankyrin repeats', 1), ('Ankyrin repeats (3 copies) Pumilio like repeats Ankyrin repeat region circular profile      ankyrin repeats Ankyrin repeat profile  ankyrin repeats', 1), ('Ankyrin repeat region circular profile      ankyrin repeats Ankyrin repeat profile  Ankyrin repeat', 1)]\n",
      "[('   ', 149), ('    Cutinase', 103), ('    PE PPE domain', 48), (' ', 22), ('  Cutinase  ', 9), ('    Serine hydrolase (FSH1)', 4), ('    Cutinase  ', 3), ('     ', 3), ('    PE PPE domain  ', 1)]\n",
      "[('vFam_5544_25_94', 40), ('   ', 30), (' ', 8), ('vFam_480_2023_2087', 6), ('DnaB like helicase N terminal domain    ', 4), ('vFam_1657_31_94', 4), ('vFam_1657_33_94', 1), ('  DnaB like helicase N terminal domain', 1), ('vFam_1663_133_217', 1), ('vFam_4651_100_194', 1), ('vFam_509_246_325', 1), ('vFam_2662_0_100', 1), ('vFam_1657_30_96', 1), ('    DnaB like helicase N terminal domain', 1)]\n",
      "[('vFam_5250_33_82', 5), ('vFam_4876_168_212', 5), ('vFam_2538_183_228', 2), ('vFam_66_631_670', 1), ('vFam_4450_72_169 vFam_2636_64_151', 1), ('vFam_4450_63_161', 1)]\n",
      "[('vFam_1049_61_106', 4), ('vFam_2207_367_411', 1), ('vFam_3421_60_98', 1), ('vFam_3548_17_54', 1)]\n",
      "[]\n",
      "[('vFam_5538_111_167', 1)]\n",
      "[('vFam_1266_14_290', 112), ('vFam_1266_28_290', 31), ('vFam_1266_21_290', 27), ('vFam_1266_27_290', 26), ('vFam_1266_25_290', 18), ('vFam_1266_20_290', 16), ('vFam_1266_18_290', 14), ('vFam_1266_40_290', 9), ('vFam_1266_16_290', 8), ('vFam_1266_23_290', 8), ('vFam_1266_17_290', 8), ('vFam_1266_22_290', 7), ('vFam_1266_42_290', 5), ('vFam_1266_41_290', 5), ('vFam_1266_30_290', 4), ('vFam_1266_43_290', 3), ('vFam_1266_29_290', 3), ('vFam_1266_47_290', 3), ('vFam_1266_26_290', 3), ('vFam_1266_19_290', 2), ('vFam_1266_45_290', 2), ('vFam_1266_15_290', 2), ('vFam_1266_24_290', 2), ('vFam_1266_11_290', 1), ('vFam_1266_14_290 vFam_6209_25_42 vFam_6209_30_43 vFam_6209_8_20', 1), ('vFam_1266_49_290 vFam_5484_26_146 vFam_1266_134_165', 1), ('vFam_1266_44_290', 1), ('vFam_1266_37_290', 1), ('vFam_1266_38_290', 1), ('vFam_1266_22_290 vFam_5484_28_147 vFam_1266_119_168', 1), ('vFam_1266_33_290', 1), ('vFam_1266_43_269', 1), ('vFam_1266_13_290', 1), ('vFam_1266_46_290', 1)]\n",
      "[('vFam_960_61_135', 1)]\n",
      "[('  nsp7 replicase', 177), ('nsp7 replicase  ', 136), ('vFam_1266_124_166', 6), ('vFam_1266_124_169', 2), ('vFam_1266_119_168', 1), ('nsp7 replicase', 1), ('vFam_1266_132_196', 1), ('vFam_1266_119_170', 1)]\n",
      "[('Herpesvirus glycoprotein H', 312), ('Herpesvirus glycoprotein H  ', 4), ('vFam_456_1_401', 1), ('  Herpesvirus glycoprotein H', 1)]\n",
      "[('vFam_2976_171_214', 18), ('vFam_287_137_267', 10), ('vFam_821_412_571 vFam_427_245_372 vFam_287_137_264', 4), ('vFam_287_137_239', 3), ('vFam_287_137_238', 3), ('vFam_3273_34_104', 2), ('vFam_3273_35_104', 2), ('vFam_287_137_234', 2), ('vFam_3273_36_104', 2), ('vFam_2210_81_134 vFam_2003_283_338', 2), ('vFam_900_19_77', 1), ('vFam_2210_81_134', 1), ('vFam_664_50_123', 1), ('vFam_287_137_225', 1), ('vFam_821_412_571 vFam_287_137_264', 1), ('vFam_287_137_247', 1), ('vFam_3273_47_104', 1), ('vFam_287_137_246', 1), ('vFam_3273_41_106', 1), ('vFam_1030_11_47 vFam_2112_12_52 vFam_3419_25_26', 1), ('vFam_2976_170_243', 1), ('vFam_4756_136_193', 1), ('   ', 1), ('vFam_287_135_226', 1), ('vFam_5064_5_96 vFam_240_52_92 vFam_240_44_86', 1)]\n",
      "[]\n",
      "[('vFam_50_634_707', 134), ('vFam_50_632_714', 25), ('vFam_50_632_712', 17), ('vFam_50_633_708', 17), ('vFam_50_633_710', 15), ('vFam_50_633_713', 15), ('vFam_50_632_707', 13), ('vFam_50_634_706', 11), ('vFam_50_632_711', 10), ('vFam_50_633_709', 9), ('vFam_50_632_713', 8), ('vFam_50_633_711', 6), ('vFam_50_633_714', 5), ('vFam_50_633_712', 4), ('vFam_50_632_708', 4), ('vFam_50_631_706', 4), ('vFam_50_634_708', 2), ('vFam_50_632_705', 2), ('vFam_50_633_706', 1), ('vFam_50_632_710 vFam_1763_300_364', 1), ('vFam_50_634_711', 1), ('vFam_50_634_712', 1), ('vFam_50_634_713', 1), ('vFam_50_632_715', 1), ('vFam_50_631_707', 1)]\n",
      "[('Protein of unknown function (DUF2493)', 127), ('vFam_5379_70_111', 29), ('Protein of unknown function (DUF2493)  ', 17), ('vFam_5379_72_114', 13), ('  Protein of unknown function (DUF2493)', 12), (' ', 10), ('Protein of unknown function (DUF2493)    ', 4), ('vFam_5379_64_114', 2), ('vFam_5379_68_114', 2), ('vFam_5379_68_110', 2), ('vFam_5379_68_112', 2), ('vFam_5379_71_112', 2), ('Protein of unknown function (DUF1273)    ', 2), ('  Protein of unknown function (DUF1273)  ', 2), ('vFam_5379_71_115', 2), ('   ', 1), ('vFam_5379_66_114', 1), ('vFam_5379_71_111', 1), ('  Protein of unknown function (DUF2493)  ', 1), ('    Protein of unknown function (DUF1273)', 1), ('vFam_5379_71_114', 1), ('vFam_5379_75_115', 1), ('vFam_5379_70_114', 1), ('vFam_2546_140_166 vFam_5379_82_115', 1), ('    Protein of unknown function (DUF2493)', 1), ('vFam_5379_67_114', 1), ('vFam_5379_70_115', 1), ('vFam_5379_70_112', 1), ('      Protein of unknown function (DUF1273)', 1)]\n",
      "[('    Lysin motif LysM domain', 166), ('vFam_4898_108_170', 23), ('  Lysin motif   LysM domain', 16), ('  LysM domain', 8), ('Lysin motif   LysM domain  ', 7), ('  Lysin motif LysM domain', 4), ('  Lysin motif LysM domain  ', 4), ('Lysin motif     LysM domain', 3), ('vFam_516_87_158', 3), ('Lysin motif LysM domain  ', 3), ('    LysM domain', 3), ('  LysM domain  ', 2), ('Lysin motif', 2), ('Lysin motif LysM domain    ', 2), ('vFam_516_88_156', 2), (' ', 1), ('  Deoxycytidine triphosphate deaminase [dcd]    dCTP_deam: deoxycytidine triphosphate deaminase dUTPase', 1), ('LysM domain     Lysin motif', 1), ('LysM domain', 1), ('CEP 1, DNA binding     Lysin motif LysM domain', 1), ('Lysin motif   LysM domain', 1), ('vFam_516_88_158', 1), ('vFam_2769_6_65', 1)]\n",
      "[('vFam_779_471_717', 120), ('vFam_779_471_667', 67), ('vFam_779_471_666', 49), ('vFam_779_470_673', 7), ('vFam_779_471_716', 6), ('vFam_779_470_717', 5), ('vFam_779_471_665', 4), ('vFam_779_470_666', 3), ('vFam_779_471_668', 3), ('vFam_779_470_660', 1), ('vFam_779_472_649', 1), ('vFam_779_470_650', 1), ('vFam_779_472_717', 1), ('vFam_779_470_716', 1)]\n",
      "[]\n",
      "[]\n",
      "[]\n",
      "[('Fibritin C terminal region', 14), ('   ', 12), (' ', 11), ('  Fibritin signature Fibritin C terminal region     Fibritin signature Fibritin signature   Fibritin signature Fibritin signature', 11), ('Fibritin signature   Fibritin C terminal region   Fibritin signature Fibritin signature   Fibritin signature Fibritin signature', 9), ('Fibritin C terminal region  ', 8), ('Fibritin signature Fibritin C terminal region     Fibritin signature', 6), ('vFam_2705_153_232', 5), ('Fibritin signature Fibritin C terminal region     Fibritin signature  ', 4), ('  Fibritin signature Fibritin C terminal region     Fibritin signature', 4), ('Fibritin signature   Fibritin C terminal region   Fibritin signature  ', 4), ('       ', 3), ('vFam_2592_127_188 vFam_2994_123_203', 3), ('vFam_2705_194_234', 2), ('  Fibritin C terminal region  ', 2), ('Fibritin signature Fibritin C terminal region     Fibritin signature Fibritin signature', 2), ('Fibritin signature   Fibritin C terminal region   Fibritin signature Fibritin signature Fibritin signature Fibritin signature', 2), ('vFam_179_193_304 vFam_2128_64_76 vFam_1030_24_49 vFam_4485_82_149 vFam_516_207_276 vFam_2128_43_90 vFam_2027_18_73 vFam_5277_97_153 vFam_1030_15_53', 2), ('         ', 2), ('     ', 2), ('vFam_516_131_254 vFam_216_29_65 vFam_1030_25_50 vFam_308_17_74 vFam_2027_69_85 vFam_5780_31_91 vFam_2027_1_58 vFam_216_47_67 vFam_1030_11_56 vFam_308_14_35 vFam_216_43_60 vFam_5780_48_77', 1), ('vFam_2027_24_79', 1), ('BETA DEFENSIN ANTIBIOTIC PRECURSOR ANTIMICROBIAL DEFENSIN BETA SIGNAL DEFENSIN BD 32 DEFB 32  ', 1), ('vFam_803_57_162 vFam_3419_2_79 vFam_803_110_156', 1), ('  POLYPROTEIN GLYCOPROTEIN M G2 TRANSMEMBRANE NONSTRUCTURAL MEMBRANE CONTAINS: PRECURSOR SIGNAL    ', 1), ('  Weak chloroplast movement under blue light', 1), ('vFam_2192_51_158 vFam_5277_60_184 vFam_2192_41_143', 1), ('vFam_803_64_156 vFam_803_49_150', 1), ('  Fibritin C terminal region', 1), ('vFam_2027_46_94 vFam_2027_29_78', 1), ('vFam_2685_45_77 vFam_2027_10_74 vFam_2685_55_76 vFam_1030_26_56 vFam_2685_47_77 vFam_1030_16_52', 1), ('vFam_5277_53_169 vFam_2027_41_95 vFam_2128_45_113 vFam_2192_90_167 vFam_427_276_392 vFam_235_331_498 vFam_308_8_62 vFam_1030_15_61 vFam_803_47_161 vFam_3057_42_148 vFam_4485_99_137 vFam_211_139_244 vFam_516_174_252 vFam_308_12_59 vFam_5277_10_159 vFam_2027_34_86 vFam_1030_9_53 vFam_2128_60_106 vFam_803_65_146 vFam_516_160_253 vFam_4485_52_148 vFam_2027_13_92 vFam_308_7_61 vFam_1030_11_39 vFam_1030_12_60 vFam_803_62_132 vFam_2192_32_85 vFam_427_282_355 vFam_308_12_62 vFam_1030_6_61 vFam_2027_49_93 vFam_4485_80_126 vFam_2128_62_88', 1), ('vFam_2192_39_163', 1), ('vFam_2027_41_92 vFam_427_276_391 vFam_235_331_498 vFam_2192_72_156 vFam_803_46_156 vFam_1030_15_56 vFam_5277_9_160 vFam_4485_92_144 vFam_516_172_264 vFam_2994_119_248 vFam_2128_62_99 vFam_2027_24_88 vFam_5277_23_160 vFam_803_66_139 vFam_2128_59_107 vFam_4485_96_140 vFam_1030_16_38 vFam_2192_21_136 vFam_516_181_251 vFam_803_52_146 vFam_2027_26_83 vFam_1030_26_55 vFam_4485_100_143 vFam_427_283_334 vFam_5277_25_85 vFam_1030_3_61 vFam_2027_49_93 vFam_4485_107_146 vFam_2128_62_85', 1), ('    Weak chloroplast movement under blue light', 1), ('vFam_2192_31_98 vFam_803_64_124 vFam_308_11_60', 1), ('      Sf6 type phage tail needle knob or tip of some Caudovirales', 1), ('vFam_5277_82_179 vFam_516_172_258', 1), ('vFam_2027_42_91 vFam_2027_22_93 vFam_803_69_135', 1), ('      gp58 like protein', 1), ('vFam_2027_22_81', 1), ('vFam_179_193_311 vFam_2128_64_76 vFam_1030_24_49 vFam_4485_82_150 vFam_2128_42_91 vFam_2027_19_81 vFam_5277_116_173 vFam_516_191_242 vFam_1030_15_55', 1), ('vFam_179_193_304 vFam_2128_64_76 vFam_1030_24_49 vFam_313_272_351 vFam_516_204_277 vFam_4485_82_149 vFam_2128_42_91 vFam_2027_18_73 vFam_5277_117_172 vFam_1030_15_53', 1), ('vFam_2192_45_149 vFam_308_49_59 vFam_235_289_385 vFam_2027_28_93 vFam_516_189_260 vFam_803_52_151 vFam_313_303_348 vFam_4485_58_163 vFam_2763_54_95 vFam_367_69_131 vFam_308_11_60 vFam_211_132_200 vFam_4515_44_130 vFam_2763_57_106 vFam_313_269_315 vFam_2027_38_84 vFam_308_11_34', 1), ('vFam_2192_32_165 vFam_516_174_319 vFam_516_160_269 vFam_3893_237_320 vFam_2192_42_121', 1), ('vFam_2994_70_213 vFam_2994_131_202', 1), ('Fibritin signature Fibritin C terminal region     Fibritin signature Fibritin signature   Fibritin signature Fibritin signature', 1), ('vFam_803_64_152', 1), ('vFam_2994_119_203', 1), ('vFam_2592_127_188', 1), ('vFam_287_164_248 vFam_803_64_160 vFam_803_72_161', 1), ('vFam_1030_26_56 vFam_2027_10_95 vFam_1030_7_60', 1)]\n",
      "[]\n",
      "[]\n",
      "[]\n",
      "[('vFam_5397_9_96', 8), ('vFam_3123_150_222', 3)]\n",
      "[]\n",
      "[]\n",
      "[('vFam_84_1_68', 153), ('vFam_84_2_68', 28), ('vFam_84_3_68', 24), ('vFam_84_5_68', 8), ('vFam_84_6_68', 4), ('vFam_84_4_68', 3), ('vFam_84_18_68', 2), ('vFam_84_24_67', 1), ('vFam_84_19_68', 1), ('vFam_84_15_68', 1), ('vFam_84_19_67', 1), ('vFam_84_24_69', 1), ('vFam_84_26_68', 1), ('vFam_84_17_68', 1), ('vFam_84_24_68', 1)]\n",
      "[]\n",
      "[(' ', 3), ('vFam_2104_60_107', 2), ('vFam_2997_89_133 vFam_6691_27_62', 1), ('vFam_3184_31_97', 1), ('vFam_6215_18_82', 1), ('vFam_5865_20_76', 1), ('vFam_4618_58_133', 1), ('vFam_3724_21_66', 1)]\n",
      "[('Orthopoxvirus A26L/A30L protein', 129), ('vFam_724_4_270', 18), ('vFam_724_7_295', 13), ('vFam_724_4_295', 11), ('vFam_724_4_315', 9), ('vFam_724_4_381', 6), ('vFam_971_5_61 vFam_724_4_281', 3), ('vFam_724_4_281', 3), ('vFam_724_4_293', 3), ('vFam_724_4_432 vFam_1999_40_117 vFam_1999_78_101', 3), ('vFam_724_7_270', 2), ('vFam_724_4_315 vFam_1999_40_130 vFam_1999_77_101', 2), ('vFam_724_4_295 vFam_1999_39_99 vFam_1999_76_136 vFam_1999_78_101', 1), ('vFam_724_4_331', 1), ('vFam_724_4_315 vFam_1999_51_134 vFam_1999_77_101', 1), ('vFam_724_4_291', 1), ('vFam_724_5_332 vFam_1999_41_133 vFam_1999_78_101', 1), ('vFam_724_4_432 vFam_1999_43_135 vFam_1999_78_101', 1), ('vFam_724_4_432 vFam_1999_46_135 vFam_1999_78_101 vFam_1999_67_109', 1), ('vFam_724_4_292 vFam_1999_74_135', 1), ('vFam_724_5_278 vFam_1999_46_135', 1), ('vFam_724_4_381 vFam_1999_40_117 vFam_1999_78_101', 1), ('vFam_724_4_433 vFam_1999_39_135 vFam_1999_78_101 vFam_1999_67_109', 1), ('vFam_724_4_387 vFam_1999_39_99 vFam_1999_76_136 vFam_1999_78_101', 1), ('vFam_724_4_299', 1), ('vFam_724_4_387 vFam_1999_41_133 vFam_1999_78_101', 1), ('vFam_451_448_540 vFam_724_6_273 vFam_633_55_74', 1), ('vFam_724_4_295 vFam_1999_49_135 vFam_1999_78_101', 1), ('vFam_724_4_432 vFam_1999_41_133 vFam_1999_78_101 vFam_5593_47_68', 1), ('vFam_724_4_380 vFam_1999_41_133 vFam_1999_78_101', 1), ('vFam_724_4_432 vFam_1999_39_99 vFam_1999_76_136 vFam_1999_78_101', 1), ('vFam_724_9_436', 1), ('vFam_724_4_381 vFam_1999_74_135 vFam_1999_78_101', 1), ('vFam_724_4_316 vFam_1999_40_130 vFam_1999_77_101', 1), ('vFam_724_4_295 vFam_1999_47_135 vFam_1999_78_101', 1)]\n",
      "[('vFam_5883_217_292', 3), ('vFam_5883_216_292', 1), ('vFam_5883_216_288', 1)]\n",
      "[('vFam_1137_241_361', 1)]\n",
      "[]\n",
      "[('vFam_76_0_57', 145), ('vFam_76_18_57', 24), ('vFam_76_15_57', 20), ('vFam_76_3_57', 2), ('vFam_76_3_56', 2), ('vFam_76_0_56', 2), ('vFam_6623_61_129 vFam_76_2_56', 1), ('vFam_76_11_56', 1), ('vFam_76_6_57', 1), ('vFam_76_4_56', 1), ('vFam_76_4_57', 1), ('vFam_76_2_56', 1), ('vFam_76_16_57', 1), ('vFam_76_12_56', 1)]\n",
      "[]\n",
      "[]\n",
      "[('vFam_81_0_104', 92), ('vFam_81_0_103', 8), ('vFam_81_48_104', 7), ('vFam_81_0_104 vFam_837_242_309', 5), ('vFam_81_0_104 vFam_11_228_294', 4), ('vFam_81_0_104 vFam_4441_100_160', 4), ('vFam_81_0_104 vFam_2527_16_90', 3), ('vFam_81_0_101 vFam_2967_24_50', 3), ('vFam_81_0_104 vFam_2198_40_111', 2), ('vFam_81_0_103 vFam_11_230_318', 2), ('vFam_81_0_101 vFam_2198_32_80', 2), ('vFam_81_0_104 vFam_11_229_294', 2), ('vFam_81_0_104 vFam_11_228_292', 2), ('vFam_81_0_104 vFam_5315_130_191 vFam_1338_349_418', 2), ('vFam_81_0_106 vFam_2198_36_89 vFam_11_227_272', 1), ('vFam_81_0_104 vFam_2198_43_88 vFam_3932_16_75 vFam_5391_105_153', 1), ('vFam_81_0_103 vFam_11_228_281 vFam_2527_28_87 vFam_2967_15_59', 1), ('vFam_81_0_104 vFam_2198_42_86', 1), ('vFam_81_0_122', 1), ('vFam_81_0_131', 1), ('vFam_81_0_125', 1), ('vFam_81_0_106 vFam_2198_36_94 vFam_11_226_273', 1), ('vFam_81_0_99 vFam_5391_221_254 vFam_2198_33_77 vFam_5391_99_156', 1), ('vFam_81_0_183', 1), ('vFam_81_25_104', 1), ('vFam_81_0_104 vFam_4231_163_208', 1), ('vFam_81_0_107 vFam_2198_36_93 vFam_11_228_272', 1), ('vFam_81_0_101 vFam_2967_20_50', 1), ('vFam_81_0_103 vFam_11_228_281 vFam_1846_39_132 vFam_2527_28_87', 1), ('vFam_81_0_102 vFam_2198_40_94 vFam_313_6_75', 1), ('vFam_81_0_118', 1), ('vFam_81_0_104 vFam_837_242_340', 1), ('vFam_81_0_101 vFam_2967_22_50', 1), ('vFam_81_3_104', 1), ('vFam_81_0_133', 1), ('vFam_81_44_104', 1), ('vFam_81_3_121', 1), ('vFam_81_0_105 vFam_2198_47_99', 1), ('vFam_81_0_101 vFam_2198_32_78', 1), ('vFam_81_0_104 vFam_11_228_291', 1), ('vFam_81_0_101 vFam_2198_32_77', 1), ('vFam_81_0_104 vFam_2908_403_428', 1), ('vFam_81_0_105', 1), ('vFam_81_0_131 vFam_1150_11_112 vFam_6438_11_27 vFam_6438_5_48', 1), ('vFam_81_0_103 vFam_1791_227_259', 1), ('vFam_81_0_104 vFam_5892_208_263', 1), ('vFam_81_0_123', 1)]\n",
      "[('Coronavirus S1 glycoprotein', 179), ('vFam_101_70_629', 3), ('vFam_101_223_615', 1), ('vFam_101_67_629', 1), ('vFam_101_66_628', 1), ('vFam_101_71_629', 1), ('vFam_101_71_617', 1), ('vFam_101_269_631', 1), ('vFam_101_70_628', 1)]\n",
      "[('vFam_111_0_71', 99), ('vFam_111_0_70', 46), ('vFam_111_0_72', 12), ('vFam_111_0_70 vFam_3980_6_58', 7), ('vFam_111_0_71 vFam_3980_9_60', 3), ('vFam_111_0_73', 2), ('vFam_111_3_71 vFam_3980_9_60', 2), ('vFam_111_0_71 vFam_3980_11_60', 2), ('vFam_111_9_72', 1), ('vFam_111_3_122', 1), ('vFam_111_3_70', 1), ('vFam_111_0_70 vFam_116_80_135', 1), ('vFam_111_8_73', 1), ('vFam_111_1_72', 1), ('vFam_111_5_74', 1), ('vFam_111_0_74', 1), ('vFam_111_5_72', 1), ('vFam_111_4_71', 1), ('vFam_111_3_74', 1), ('vFam_111_5_71', 1), ('vFam_111_6_71', 1)]\n",
      "[('vFam_1937_241_309', 1)]\n",
      "[('vFam_74_4_102 vFam_2967_24_78', 16), ('vFam_74_3_103', 15), ('vFam_74_2_103', 13), ('vFam_74_10_75', 10), ('vFam_74_10_74', 7), ('vFam_74_13_94', 5), ('vFam_74_9_74', 5), ('vFam_74_2_99', 4), ('vFam_74_2_100', 4), ('vFam_74_2_79', 4), ('vFam_2318_105_150 vFam_74_25_99', 4), ('vFam_74_24_100', 3), ('vFam_2318_102_150 vFam_74_38_99', 3), ('vFam_2318_103_150 vFam_74_12_97 vFam_1351_42_43 vFam_1351_48_57', 3), ('vFam_74_14_75', 3), ('vFam_74_20_106', 2), ('vFam_74_3_102 vFam_2967_24_78', 2), ('vFam_11_216_308 vFam_74_9_74', 2), ('vFam_74_9_75', 2), ('vFam_2318_103_150 vFam_74_12_97 vFam_1351_42_43 vFam_1351_46_61', 2), ('vFam_74_13_97', 2), ('vFam_74_4_101 vFam_2967_24_78', 2), ('vFam_74_13_93', 2), ('vFam_74_2_80', 2), ('vFam_74_4_103', 2), ('vFam_74_13_91', 2), ('vFam_74_3_96', 2), ('vFam_74_5_88', 2), ('vFam_74_15_101 vFam_151_44_86 vFam_3074_191_233', 1), ('vFam_74_3_98 vFam_2967_25_81', 1), ('vFam_74_3_98', 1), ('vFam_74_3_92', 1), ('vFam_2967_24_78', 1), ('vFam_74_11_75', 1), ('vFam_74_15_76', 1), ('vFam_74_20_95 vFam_2731_8_89', 1), ('vFam_74_5_90', 1), ('vFam_74_15_75', 1), ('vFam_74_14_76', 1), ('vFam_74_3_83', 1), ('vFam_74_2_95', 1), ('vFam_74_2_92', 1), ('vFam_74_13_95', 1), ('vFam_74_9_71', 1), ('vFam_74_3_82', 1), ('vFam_74_3_100', 1), ('vFam_74_24_98', 1), ('vFam_74_2_97', 1), ('vFam_2318_105_150 vFam_74_24_99', 1), ('vFam_74_4_101 vFam_2967_24_78 vFam_4254_30_89', 1), ('vFam_2318_102_150 vFam_74_38_97', 1), ('vFam_74_20_105', 1), ('vFam_74_4_104', 1), ('vFam_74_4_96 vFam_2967_24_78', 1), ('vFam_613_62_129 vFam_2318_103_150 vFam_74_21_100', 1), ('vFam_74_2_98', 1), ('vFam_1351_26_56 vFam_752_271_333 vFam_74_5_83 vFam_1351_26_54', 1), ('vFam_74_4_101 vFam_151_30_89 vFam_2967_24_78', 1), ('vFam_451_105_172 vFam_2967_24_52', 1), ('vFam_74_14_87', 1), ('vFam_74_23_99', 1)]\n",
      "[]\n",
      "[('T5orf172 domain', 115), ('T5orf172 domain  ', 57), ('T5orf172 domain    ', 3), ('Meiotically up regulated gene 113', 2), ('  T5orf172 domain', 1), ('  Meiotically up regulated gene 113', 1), ('vFam_1845_288_369', 1), ('vFam_5824_244_310 vFam_5762_190_265', 1)]\n",
      "[('vFam_477_0_129', 2)]\n",
      "[]\n",
      "[('vFam_474_301_556', 127), ('vFam_474_302_723', 20), ('vFam_474_301_723', 9), ('vFam_474_304_676', 6), ('vFam_474_388_556', 4), ('vFam_474_303_723', 4), ('vFam_474_389_556', 1), ('vFam_474_302_500', 1), ('vFam_474_320_676', 1), ('vFam_474_304_677', 1), ('vFam_474_306_723', 1), ('vFam_474_314_723', 1)]\n",
      "[('vFam_60_768_852', 129), ('vFam_60_781_851', 12), ('vFam_60_769_850', 4), ('vFam_6341_90_168 vFam_60_777_848', 3), ('vFam_60_772_851', 3), ('vFam_60_772_850', 2), ('vFam_60_777_848', 2), ('vFam_60_769_852', 2), ('vFam_60_786_848', 2), ('vFam_60_768_847', 2), ('vFam_60_757_851', 2), ('vFam_60_773_847', 1), ('vFam_60_748_849', 1), ('vFam_2297_86_146 vFam_60_770_849', 1), ('vFam_3848_30_79 vFam_60_775_849 vFam_647_13_66', 1), ('vFam_60_786_846', 1), ('vFam_60_773_846', 1), ('vFam_60_774_849', 1), ('vFam_60_767_849', 1), ('vFam_60_786_851', 1), ('vFam_60_770_850', 1), ('vFam_60_772_849', 1), ('vFam_60_768_850', 1), ('vFam_60_773_851', 1)]\n",
      "[('vFam_522_3_204', 131), ('vFam_522_1_201', 12), ('vFam_522_0_205', 9), ('vFam_522_1_195', 7), ('vFam_522_0_213 vFam_13_138_179', 3), ('vFam_522_0_206', 3), ('vFam_522_1_204', 3), ('vFam_522_4_204', 1), ('vFam_522_0_204 vFam_5534_119_173', 1), ('vFam_522_0_207', 1), ('vFam_522_1_198 vFam_2826_92_113 vFam_2826_3_67', 1), ('vFam_522_0_194', 1), ('vFam_522_1_198', 1), ('vFam_522_2_196', 1), ('vFam_522_1_201 vFam_5315_141_192 vFam_5315_33_78', 1)]\n",
      "[]\n",
      "[('    Herpesvirus polymerase accessory protein  ', 154), ('      Herpesvirus polymerase accessory protein  ', 12), ('      Herpesvirus polymerase accessory protein   Herpesvirus polymerase accessory protein', 4), (' ', 3), ('vFam_394_117_376', 1), ('    Herpesvirus polymerase accessory protein   Herpesvirus polymerase accessory protein', 1)]\n",
      "[]\n",
      "[('vFam_474_6_231', 128), ('vFam_474_2_230', 9), ('vFam_474_75_209', 8), ('vFam_474_6_213', 7), ('vFam_474_9_209', 4), ('vFam_474_7_215', 3), ('vFam_474_0_216', 2), ('vFam_474_7_231', 2), ('vFam_474_0_213', 1), ('vFam_474_5_222', 1), ('vFam_474_0_232', 1), ('vFam_474_1_215', 1), ('vFam_474_77_209', 1), ('vFam_474_7_220 vFam_3059_10_41', 1), ('vFam_474_3_222', 1), ('vFam_474_69_231', 1), ('vFam_474_5_231', 1)]\n",
      "[('U62', 169)]\n",
      "[]\n",
      "[('vFam_382_1149_2122', 37), ('vFam_382_230_2122 vFam_516_146_245 vFam_516_207_258 vFam_516_199_236', 25), ('vFam_382_230_2122 vFam_516_146_245 vFam_516_211_259 vFam_516_199_236', 23), ('vFam_382_230_2122', 15), ('vFam_382_230_2122 vFam_516_146_245 vFam_516_250_258 vFam_516_199_236', 12), ('vFam_382_1220_2123', 8), ('vFam_382_1148_2122', 6), ('vFam_382_243_2122 vFam_5775_17_65 vFam_5775_27_56 vFam_5775_5_45 vFam_5775_44_68', 5), ('vFam_382_216_2122', 3), ('vFam_382_694_2123', 3), ('vFam_382_230_2122 vFam_516_146_245 vFam_516_205_257 vFam_516_199_236', 2), ('vFam_382_261_2122', 2), ('vFam_382_230_2122 vFam_516_146_245 vFam_516_247_259 vFam_516_199_236', 2), ('vFam_382_230_2122 vFam_516_146_245 vFam_516_207_258 vFam_516_199_235', 1), ('vFam_382_244_2122', 1), ('vFam_382_230_2122 vFam_516_146_245 vFam_516_219_261 vFam_516_199_236', 1), ('vFam_382_243_2122 vFam_5775_16_65 vFam_2145_42_107 vFam_5775_27_57 vFam_5775_5_45 vFam_2145_30_75 vFam_2145_34_79', 1), ('vFam_382_1162_2122', 1), ('vFam_382_230_2122 vFam_516_146_245 vFam_516_237_257 vFam_516_199_236', 1), ('vFam_382_238_2122', 1), ('vFam_382_230_2122 vFam_516_146_245 vFam_516_208_259 vFam_516_199_236', 1), ('vFam_382_232_2122 vFam_1213_1012_1057', 1), ('vFam_382_239_2122 vFam_5053_36_74 vFam_5053_42_94', 1), ('vFam_382_231_2122', 1), ('vFam_382_260_2122', 1), ('vFam_382_230_2122 vFam_516_146_245 vFam_516_208_260 vFam_516_199_236', 1), ('vFam_382_230_2122 vFam_516_146_245 vFam_516_249_259 vFam_516_199_236', 1), ('vFam_382_230_2122 vFam_516_146_245 vFam_516_250_258 vFam_516_196_254', 1), ('vFam_382_243_2122 vFam_5775_16_65 vFam_5775_27_57 vFam_5775_5_45', 1), ('vFam_382_230_2122 vFam_516_146_245 vFam_516_219_234 vFam_516_199_236', 1), ('vFam_382_230_2122 vFam_516_146_245 vFam_516_221_257 vFam_516_199_236', 1), ('vFam_382_230_2122 vFam_516_107_148 vFam_516_146_245 vFam_516_207_258 vFam_516_199_236', 1), ('vFam_382_235_2122 vFam_796_22_61 vFam_796_17_41 vFam_796_34_53', 1), ('vFam_382_695_2122 vFam_729_20_39', 1), ('vFam_382_230_2122 vFam_516_146_245 vFam_516_209_258 vFam_516_199_236', 1), ('vFam_382_246_2122', 1), ('vFam_382_234_2123 vFam_1660_5_119', 1), ('vFam_382_230_2122 vFam_516_146_245 vFam_516_206_258 vFam_516_199_236', 1), ('vFam_382_241_2122', 1), ('vFam_382_230_2122 vFam_516_146_245 vFam_516_185_259 vFam_516_199_236', 1), ('vFam_382_230_2122 vFam_516_146_245 vFam_516_193_258 vFam_516_199_236', 1)]\n",
      "[('vFam_456_2_85', 80), ('vFam_456_4_85', 25), ('vFam_456_5_85', 13), ('vFam_456_4_86', 12), ('vFam_456_8_86', 7), ('vFam_456_7_85', 6), ('vFam_456_22_87', 4), ('vFam_456_25_85', 4), ('vFam_456_5_86', 4), ('vFam_456_2_87', 2), ('vFam_456_21_85', 2), ('vFam_456_10_87', 1), ('vFam_456_5_88', 1), ('vFam_456_32_86', 1), ('vFam_456_21_87', 1), ('vFam_456_9_87', 1), ('vFam_456_5_87', 1), ('vFam_456_9_89', 1), ('vFam_456_16_85', 1), ('vFam_456_1_87', 1), ('vFam_456_3_89', 1), ('vFam_456_2_86', 1), ('vFam_456_4_87', 1)]\n",
      "[('vFam_63_0_60', 132), ('vFam_63_0_61', 23), ('vFam_63_0_62', 8), ('vFam_63_0_59', 6), ('vFam_63_0_61 vFam_5387_6_60', 1)]\n",
      "[('Domain of unknown function (DUF4326)', 165), ('Domain of unknown function (DUF4326)  ', 2), ('vFam_5379_114_174', 1), ('Domain of unknown function (DUF4326) Site specific recombinases signature 2 ', 1)]\n",
      "[('vFam_21_1447_1543', 9), ('vFam_21_1461_1543', 8), (' ', 7), ('vFam_21_1448_1568', 7), ('vFam_21_1447_1554', 6), ('vFam_21_1447_1541', 5), ('vFam_21_1447_1568', 4), ('vFam_21_1447_1550', 3), ('vFam_21_1448_1576', 3), ('vFam_21_1447_1544', 3), ('vFam_21_1449_1543', 3), ('vFam_21_1466_1551', 3), ('vFam_21_1449_1559', 3), ('vFam_21_1447_1562', 3), ('vFam_21_1457_1550', 2), ('vFam_21_1415_1564', 2), ('vFam_21_1446_1569', 2), ('vFam_21_1447_1547', 2), ('vFam_21_1448_1551', 2), ('vFam_21_1409_1543', 2), ('vFam_21_1447_1540', 2), ('vFam_21_1447_1602', 2), ('vFam_21_1449_1549', 2), ('vFam_21_1425_1579', 2), ('vFam_21_1447_1561', 2), ('vFam_21_1408_1533', 2), ('vFam_21_1415_1570', 2), ('vFam_21_1449_1544', 1), ('vFam_21_1456_1562', 1), ('vFam_21_1412_1569', 1), ('vFam_21_1450_1619', 1), ('vFam_21_1427_1595', 1), ('vFam_21_1453_1577', 1), ('vFam_21_1415_1561', 1), ('vFam_21_1464_1579', 1), ('vFam_21_1415_1569', 1), ('vFam_21_1413_1568', 1), ('vFam_21_1449_1568', 1), ('vFam_21_1418_1544', 1), ('vFam_21_1413_1539', 1), ('vFam_21_1449_1562', 1), ('vFam_21_1447_1579', 1), ('vFam_21_1447_1533', 1), ('vFam_21_1463_1547', 1), ('vFam_21_1448_1558', 1), ('vFam_21_1451_1568', 1), ('vFam_21_1411_1546', 1), ('vFam_21_1452_1571', 1), ('vFam_21_1447_1560', 1), ('vFam_21_1456_1542', 1), ('vFam_21_1447_1575', 1), ('vFam_21_1447_1567', 1), ('vFam_21_1415_1571', 1), ('vFam_21_1449_1544 vFam_3591_103_161', 1), ('vFam_21_1447_1606', 1), ('vFam_21_1448_1564', 1), ('vFam_21_1413_1559', 1), ('vFam_21_1413_1558', 1), ('vFam_21_1451_1576', 1), ('vFam_21_1455_1534', 1), ('vFam_21_1413_1554', 1), ('vFam_21_1448_1562', 1), ('vFam_21_1448_1552', 1), ('vFam_21_1452_1543', 1), ('vFam_21_1458_1551', 1), ('vFam_21_1468_1577', 1), ('vFam_21_1447_1552', 1), ('vFam_21_1447_1549', 1), ('vFam_21_1416_1548', 1), ('vFam_21_1456_1579', 1), ('vFam_21_1446_1531', 1), ('vFam_21_1413_1575', 1), ('vFam_21_1446_1534', 1), ('vFam_21_1446_1537', 1), ('vFam_21_1448_1575', 1), ('vFam_21_1416_1543', 1), ('vFam_21_1471_1624', 1), ('vFam_21_1464_1610', 1), ('vFam_21_1464_1611', 1), ('vFam_21_1446_1547', 1), ('vFam_21_1449_1542', 1), ('vFam_21_1410_1546', 1), ('vFam_21_1460_1568', 1), ('vFam_21_1324_1554', 1), ('vFam_21_1413_1602', 1), ('vFam_21_1454_1551', 1), ('vFam_21_1467_1551', 1), ('vFam_21_1468_1573', 1), ('vFam_21_1448_1542', 1), ('vFam_21_1464_1605', 1), ('vFam_21_1448_1546', 1), ('vFam_21_1460_1572', 1), ('vFam_21_1380_1547', 1), ('vFam_21_1448_1549', 1), ('vFam_21_1460_1578', 1), ('vFam_21_1461_1534', 1), ('vFam_21_1464_1533', 1), ('vFam_21_1415_1562', 1), ('vFam_21_1414_1575', 1), ('vFam_21_1447_1546', 1), ('vFam_21_1447_1545', 1), ('vFam_21_1447_1571', 1), ('vFam_21_1415_1579', 1)]\n",
      "[]\n",
      "[('Herpes UL74 glycoproteins', 151), ('Herpes UL74 glycoproteins  ', 1), ('vFam_1009_254_372', 1)]\n",
      "[('vFam_508_1_323', 130), ('vFam_508_92_230 vFam_5448_205_223 vFam_5448_12_76', 9), ('vFam_508_84_340', 7), ('vFam_508_5_318', 5), ('vFam_508_98_325', 3), ('vFam_508_38_331', 1), ('vFam_508_76_314', 1), ('vFam_508_92_230', 1), ('vFam_508_47_315', 1), ('vFam_508_92_331 vFam_5448_205_223 vFam_5448_13_77', 1), ('vFam_508_28_334', 1), ('vFam_508_1_322', 1), ('vFam_508_0_230 vFam_5448_205_223 vFam_5448_12_76', 1), ('vFam_508_83_323', 1), ('vFam_20_882_980 vFam_508_72_323', 1), ('vFam_508_1_327', 1), ('vFam_508_2_326 vFam_4559_202_224', 1), ('vFam_508_91_333 vFam_1966_12_83 vFam_1966_62_87', 1)]\n",
      "[('vFam_205_118_182', 98), ('vFam_205_117_182', 33), ('vFam_205_118_182 vFam_3932_13_58 vFam_1150_17_72', 16), ('vFam_205_113_182', 5), ('vFam_205_116_182', 4), ('vFam_205_118_182 vFam_1150_17_72', 3), ('vFam_205_114_182', 2), ('vFam_205_140_182', 2), ('vFam_205_115_182', 1), ('vFam_205_136_182', 1), ('vFam_205_69_181 vFam_230_123_213', 1)]\n",
      "[('vFam_752_20_238', 1)]\n",
      "[('  Polyomavirus coat protein', 105), ('Polyomavirus coat protein', 39), ('vFam_38_21_154', 4), ('vFam_38_21_149', 2), ('vFam_38_21_140', 1), ('vFam_38_21_150', 1), ('Polyomavirus coat protein  ', 1), ('vFam_38_21_149 vFam_4005_83_125', 1), ('vFam_38_21_137', 1), ('  Polyomavirus coat protein Polyomavirus coat protein', 1), ('vFam_38_21_127', 1), ('Polyomavirus coat protein Polyomavirus coat protein', 1), ('vFam_38_72_149', 1)]\n",
      "[('vFam_634_0_41', 157), ('vFam_634_0_42', 1), ('vFam_634_0_71', 1), ('vFam_634_0_41 vFam_2698_150_188', 1)]\n",
      "[('vFam_639_136_340 vFam_451_95_173 vFam_3972_175_226', 60), ('vFam_639_136_340', 51), ('vFam_639_136_340 vFam_3972_175_227', 6), ('vFam_639_136_340 vFam_3972_175_226', 3), ('vFam_639_136_340 vFam_451_95_173 vFam_3972_174_227', 3), ('vFam_639_136_340 vFam_3972_172_227', 2), ('vFam_639_136_340 vFam_451_95_173 vFam_3972_175_227', 2), ('vFam_639_136_340 vFam_451_95_174 vFam_3972_256_317', 1), ('US22 like', 1), ('vFam_639_134_340', 1), ('vFam_639_139_337', 1), ('vFam_639_136_340 vFam_3972_175_316', 1), ('vFam_639_136_340 vFam_3972_256_317', 1)]\n",
      "[]\n",
      "[]\n",
      "[]\n",
      "[('vFam_460_11_217 vFam_440_281_327', 106), ('vFam_460_11_219 vFam_440_281_327', 11), ('vFam_460_5_214', 11), ('vFam_460_11_217 vFam_440_281_326', 7), ('vFam_460_1_215 vFam_560_4_127', 5), ('vFam_460_11_217', 5), ('vFam_460_2_209', 3), ('vFam_460_11_112', 2), ('vFam_460_11_218 vFam_440_281_327', 2), ('vFam_460_5_215', 1), ('vFam_460_11_214 vFam_560_4_105', 1), ('vFam_460_11_111', 1), ('vFam_460_11_214 vFam_560_4_81', 1), ('vFam_460_11_215 vFam_560_4_111', 1), ('vFam_460_11_114', 1), ('vFam_460_1_215', 1), ('vFam_460_30_215 vFam_560_4_116', 1)]\n",
      "[('vFam_351_463_506', 129), ('vFam_351_460_503', 11), ('vFam_351_461_502', 9), ('vFam_351_462_502', 3), ('vFam_351_461_504', 1), ('vFam_351_462_506', 1), ('vFam_351_462_503', 1)]\n",
      "[('vFam_1037_14_58', 128)]\n",
      "[('vFam_309_379_529', 56), ('vFam_309_379_500', 30), ('vFam_309_379_499', 25), ('vFam_309_380_529', 13), ('vFam_309_380_500', 3), ('vFam_309_348_529', 2), ('vFam_309_378_529', 2), ('vFam_309_331_486', 2), ('vFam_309_354_529', 2), ('vFam_309_363_529 vFam_1338_333_415 vFam_586_470_543', 1), ('vFam_309_365_529', 1), ('vFam_309_324_529 vFam_4317_28_90', 1), ('vFam_309_330_529 vFam_4105_135_196 vFam_1338_347_442', 1), ('vFam_309_369_529 vFam_1338_336_424', 1), ('vFam_557_65_142 vFam_309_378_499', 1), ('vFam_309_382_529 vFam_4028_85_146', 1), ('vFam_309_378_499', 1), ('vFam_309_360_529', 1), ('vFam_309_369_529 vFam_1338_336_419', 1)]\n",
      "[('vFam_288_913_959', 135), ('vFam_288_916_957', 10), ('vFam_288_912_958', 3), ('vFam_288_914_959', 2), ('vFam_288_897_957', 2), ('vFam_288_910_958', 1), ('vFam_288_911_958', 1), ('vFam_288_901_957', 1), ('vFam_288_913_958', 1), ('vFam_288_897_956', 1), ('vFam_288_870_959', 1)]\n",
      "[('vFam_5222_0_97', 99), ('vFam_5222_1_96', 21), ('vFam_5222_0_96', 17), ('vFam_5222_1_95', 12), ('vFam_5222_1_97', 4), ('vFam_5222_3_96', 2), ('vFam_5222_2_98', 1), ('vFam_5222_0_76', 1), ('vFam_5222_1_98', 1)]\n",
      "[]\n",
      "[]\n",
      "[('   ', 58), ('  RNase_H superfamily  ', 51), ('    RNase_H superfamily', 34), ('  Exonuclease  ', 5), ('    Exonuclease', 2), (' ', 2), ('Exonuclease    ', 2), ('  RNase_H superfamily    ', 1), ('RNase_H superfamily    ', 1)]\n",
      "[]\n",
      "[('vFam_3916_245_280 vFam_3916_244_273', 1), (' ', 1), ('vFam_2691_80_123', 1), ('vFam_81_1002_1047', 1)]\n",
      "[('vFam_4080_0_130 vFam_2009_29_120', 116), ('vFam_4080_0_129 vFam_2009_29_120', 12), ('vFam_4080_0_132 vFam_2009_29_120', 6), ('vFam_4080_0_128 vFam_52_73_129', 5), ('vFam_4080_0_131 vFam_2009_29_120', 4), ('vFam_4080_0_132 vFam_52_42_108 vFam_2009_29_120', 2), ('vFam_4080_0_127', 1), ('vFam_2009_2_129 vFam_2045_76_122 vFam_52_42_83 vFam_2045_20_82', 1), ('vFam_4080_0_130 vFam_2009_28_120', 1), ('vFam_1883_33_111 vFam_2009_23_119 vFam_4080_22_101 vFam_52_9_27 vFam_6367_32_68', 1), ('vFam_4080_0_128 vFam_52_72_129', 1), ('vFam_4080_0_130 vFam_2009_40_121', 1), ('vFam_4080_0_130 vFam_2218_24_41 vFam_2009_29_120 vFam_2218_26_116', 1), ('vFam_4080_0_130 vFam_2009_29_120 vFam_2218_25_116', 1)]\n",
      "[('vFam_6270_0_45', 13), ('vFam_1566_190_238', 4), ('vFam_6270_4_45', 4), ('vFam_6270_4_45 vFam_1538_11_65', 2), ('vFam_1538_18_62', 1)]\n",
      "[('vFam_5223_73_129', 114), ('vFam_5223_74_121', 21), ('vFam_5223_74_129', 3), ('vFam_5223_74_118', 3), ('vFam_5223_74_115', 2), ('vFam_5223_79_129', 2), ('vFam_5223_75_115', 2), ('vFam_5223_74_114', 1), ('vFam_5223_74_116', 1)]\n",
      "[]\n",
      "[]\n",
      "[('vFam_414_528_591', 141), ('vFam_414_524_591', 3), ('vFam_414_526_591', 1), ('vFam_414_526_591 vFam_6446_85_131', 1), ('vFam_414_513_591', 1), ('vFam_414_529_591', 1)]\n",
      "[]\n",
      "[('vFam_53_1_38', 5), ('vFam_53_0_38', 1), ('vFam_53_0_35', 1), ('vFam_53_0_37', 1)]\n",
      "[('vFam_381_381_499', 4), ('vFam_381_400_546', 1), ('vFam_1015_557_685 vFam_381_408_548 vFam_640_510_554 vFam_640_494_537', 1), ('vFam_381_405_551 vFam_5607_195_239', 1), ('vFam_381_381_500', 1), ('vFam_381_399_546', 1), ('vFam_381_413_551 vFam_5607_197_239', 1)]\n",
      "[]\n",
      "[]\n",
      "[('vFam_53_310_461 vFam_6370_93_136', 47), ('vFam_53_310_476 vFam_6370_93_136 vFam_1242_195_242', 23), ('vFam_53_310_461', 23), ('vFam_53_310_474 vFam_6370_93_136', 10), ('vFam_53_310_477 vFam_6370_93_136 vFam_4141_520_601 vFam_6370_67_68', 9), ('vFam_53_310_461 vFam_6370_93_136 vFam_1242_195_242', 7), ('vFam_53_310_476 vFam_6370_93_136', 3), ('vFam_53_310_461 vFam_6370_93_139 vFam_1242_195_242', 3), ('vFam_53_310_431', 2), ('vFam_53_310_414', 2), ('vFam_53_310_429', 1), ('vFam_53_310_461 vFam_6370_83_136', 1), ('vFam_53_310_495 vFam_5534_133_204', 1), ('vFam_53_309_512', 1), ('vFam_53_310_477 vFam_6370_93_136', 1), ('vFam_53_310_461 vFam_6370_93_136 vFam_4141_520_603 vFam_6370_67_68', 1), ('vFam_53_310_475 vFam_6370_93_136 vFam_1242_195_242', 1), ('vFam_53_310_441', 1), ('vFam_53_310_513', 1), ('vFam_53_310_476', 1), ('vFam_53_310_441 vFam_5642_340_464 vFam_732_17_128 vFam_11_200_299 vFam_3365_69_145 vFam_6049_321_396 vFam_4291_470_524 vFam_3144_3_56', 1), ('vFam_53_310_468', 1), ('vFam_53_310_466 vFam_6370_93_136 vFam_1242_195_242 vFam_6370_69_70', 1)]\n",
      "[('  Poxviridae protein Poxviridae protein', 88), ('Poxviridae protein', 26), ('  Poxviridae protein', 23), ('Poxviridae protein   Poxviridae protein', 3), ('vFam_2231_515_705', 1), ('Poxviridae protein  ', 1), ('Poxviridae protein     Poxviridae protein', 1)]\n",
      "[]\n",
      "[('vFam_52_270_327', 90), ('vFam_52_269_327', 24), ('vFam_52_276_327', 17), ('vFam_52_269_332', 3), ('vFam_52_270_332', 2), ('vFam_52_277_327', 2), ('vFam_52_270_326', 1), ('vFam_52_271_327', 1), ('vFam_52_269_328', 1), ('vFam_52_276_327 vFam_6123_22_66 vFam_6123_22_57', 1), ('vFam_52_275_327', 1), ('vFam_52_275_326', 1), ('vFam_52_268_327 vFam_2812_30_52', 1)]\n",
      "[('vFam_21_0_41', 81), ('vFam_21_0_42', 32), ('vFam_21_0_40', 14), ('Prokaryotic membrane lipoprotein lipid attachment site profile ', 1), ('vFam_21_0_43', 1), ('vFam_21_0_44', 1), ('vFam_21_0_51', 1)]\n",
      "[('vFam_53_310_512', 126), ('vFam_53_310_499', 8), ('vFam_53_310_467', 7), ('vFam_53_309_501', 1), ('vFam_53_310_511', 1), ('vFam_53_310_413', 1), ('vFam_53_309_499', 1)]\n",
      "[('vFam_786_77_293', 107), ('vFam_786_76_293', 20), ('vFam_786_75_293 vFam_11_185_286', 2), ('vFam_786_5_293', 2), ('vFam_786_8_293', 1), ('vFam_786_56_293 vFam_5341_214_252', 1), ('vFam_786_7_293', 1), ('vFam_786_82_293', 1), ('vFam_786_71_293 vFam_4557_122_183', 1), ('vFam_11_185_286 vFam_786_137_293 vFam_5600_286_358', 1), ('vFam_786_127_293 vFam_2318_126_152 vFam_2318_63_130 vFam_3972_277_341', 1), ('vFam_786_87_293 vFam_11_185_286', 1), ('vFam_786_177_277 vFam_786_119_293 vFam_530_248_299', 1), ('vFam_1068_419_463 vFam_786_192_293', 1), ('vFam_4441_118_149 vFam_2021_157_216 vFam_786_94_226 vFam_2021_127_202 vFam_4441_117_206 vFam_786_177_293 vFam_2021_152_246', 1), ('vFam_786_121_293 vFam_530_247_299', 1), ('vFam_5367_110_226 vFam_4609_25_119 vFam_463_51_196 vFam_2461_344_424 vFam_786_166_293 vFam_5367_29_74', 1), ('vFam_272_204_301 vFam_1338_332_403 vFam_11_204_286 vFam_786_192_293 vFam_4557_149_174 vFam_5341_222_253 vFam_1898_257_290', 1)]\n",
      "[]\n",
      "[]\n",
      "[('vFam_53_310_511', 123), ('vFam_53_310_510', 7), ('vFam_53_310_509', 4), ('vFam_53_310_511 vFam_5417_14_108', 3), ('vFam_53_310_508 vFam_5642_398_462 vFam_5531_896_929 vFam_3306_271_311', 1), ('vFam_53_310_508 vFam_381_397_463 vFam_5642_413_444', 1), ('vFam_53_309_511', 1), ('vFam_53_309_510', 1), ('vFam_53_310_511 vFam_5417_12_109', 1), ('vFam_53_310_506 vFam_151_30_100', 1)]\n",
      "[('vFam_781_10_123', 85), ('vFam_781_10_142', 40), ('vFam_781_10_112', 3), ('vFam_3286_12_70 vFam_781_7_227', 2), ('vFam_3286_12_70 vFam_781_7_227 vFam_3286_46_79', 2), ('vFam_3286_12_69 vFam_781_7_227 vFam_3286_46_79', 1), ('vFam_3286_12_71 vFam_781_7_92', 1), ('vFam_3286_12_69 vFam_781_7_227 vFam_4317_27_102 vFam_4317_43_90 vFam_3286_138_163', 1), ('vFam_3286_12_73 vFam_781_7_227', 1), ('vFam_3286_12_69 vFam_781_7_227 vFam_3286_138_163', 1), ('vFam_781_10_145', 1), ('vFam_3286_23_70 vFam_781_20_92', 1), ('vFam_3286_12_75 vFam_781_7_227 vFam_4317_31_100 vFam_4317_50_80', 1), ('vFam_781_10_116', 1), ('vFam_3286_12_96 vFam_781_7_112', 1), ('vFam_781_10_139', 1)]\n",
      "[('vFam_581_1_43', 140), ('vFam_581_0_43', 1), ('vFam_581_3_43', 1)]\n",
      "[('vFam_861_474_570', 109), ('vFam_861_473_570', 14), ('vFam_861_472_570', 7), ('vFam_861_473_573', 5), ('vFam_861_464_572', 3), ('vFam_861_467_572 vFam_3896_97_159', 1), ('vFam_861_474_573', 1), ('vFam_861_479_570', 1), ('vFam_861_423_572', 1), ('vFam_861_466_572', 1)]\n",
      "[('vFam_53_1_37', 133), ('vFam_1659_63_92 vFam_53_1_38', 5), ('vFam_53_1_38', 2), ('vFam_1659_63_93 vFam_53_1_38', 2)]\n",
      "[]\n",
      "[('vFam_1242_20_353', 1)]\n",
      "[('vFam_544_26_261', 130), ('vFam_544_1_261', 7), ('vFam_544_2_261', 1), ('vFam_544_31_261 vFam_234_61_117', 1), ('vFam_544_31_92 vFam_544_122_261', 1), ('vFam_544_26_261 vFam_5607_199_312', 1), ('vFam_544_26_261 vFam_4695_134_183', 1)]\n",
      "[('vFam_3942_124_216', 2), ('vFam_2570_332_411', 1), ('vFam_374_114_176 vFam_3984_208_308', 1), ('vFam_374_114_178 vFam_3984_209_308', 1)]\n",
      "[]\n",
      "[('vFam_861_19_94', 93), ('vFam_861_19_93', 13), ('vFam_861_19_95', 13), ('vFam_861_19_96', 10), ('vFam_861_0_154', 6), ('vFam_861_0_154 vFam_151_60_84 vFam_4369_68_203 vFam_151_3_102 vFam_5642_359_437', 1), ('vFam_861_19_92', 1), ('vFam_861_1_148', 1), ('vFam_861_19_97', 1), ('vFam_861_2_79', 1), ('vFam_861_2_148 vFam_3048_3_65 vFam_3048_36_59', 1)]\n",
      "[('vFam_381_365_554', 132), ('vFam_381_364_554', 5), ('vFam_381_364_547', 2), ('vFam_381_365_554 vFam_2882_10_63', 1), ('vFam_381_365_553', 1)]\n",
      "[('vFam_53_311_504', 126), ('vFam_53_311_503', 4), ('vFam_53_311_501', 2), ('vFam_53_312_512', 2), ('vFam_53_311_513 vFam_381_395_447 vFam_3140_160_214 vFam_3365_109_148', 1), ('vFam_53_311_500', 1), ('vFam_53_309_497', 1), ('vFam_53_310_495 vFam_2290_231_282 vFam_5603_58_104', 1), ('vFam_53_311_513 vFam_5442_66_118 vFam_4375_58_119', 1), ('vFam_53_311_502', 1)]\n",
      "[('vFam_252_543_677', 86), ('vFam_252_549_677', 21), ('vFam_252_557_678', 11), ('vFam_252_549_678', 10), ('vFam_252_546_677', 3), ('vFam_252_546_678', 2), ('vFam_252_557_676', 2), ('vFam_252_558_678', 1), ('vFam_252_544_677', 1), ('vFam_252_559_678 vFam_6225_73_140', 1), ('vFam_252_546_677 vFam_4608_130_183', 1), ('vFam_252_561_678', 1), ('vFam_252_560_678', 1)]\n",
      "[]\n",
      "[]\n",
      "[('vFam_1600_34_135', 1), ('vFam_1600_35_112', 1), ('vFam_5749_62_124', 1), ('vFam_1883_42_82', 1), ('vFam_1600_34_135 vFam_2806_36_99', 1)]\n",
      "[]\n",
      "[('vFam_640_491_559', 121), ('vFam_640_492_559', 10), ('vFam_640_493_561', 5), ('vFam_640_492_562 vFam_2178_358_382', 2), ('vFam_640_491_561', 1), ('vFam_640_494_559', 1), ('vFam_640_493_559 vFam_932_41_93', 1)]\n",
      "[('vFam_1209_64_358', 49), ('vFam_1209_63_358', 23), ('vFam_1209_65_358', 16), ('vFam_1209_63_465', 12), ('vFam_1209_66_339', 6), ('vFam_1209_67_339', 4), ('vFam_1209_61_356', 3), ('vFam_1209_1_363', 2), ('vFam_1209_64_343', 2), ('vFam_1209_64_228', 2), ('vFam_1209_1_368', 2), ('vFam_1209_64_339', 2), ('vFam_1209_117_340', 1), ('vFam_1209_1_354', 1), ('vFam_1209_54_339', 1), ('vFam_1209_64_341', 1), ('vFam_1209_119_339', 1), ('vFam_1209_67_340', 1), ('vFam_1209_118_340 vFam_3646_27_54 vFam_3646_19_42', 1), ('vFam_1209_59_356', 1), ('vFam_1209_67_229', 1), ('vFam_1209_65_359', 1), ('vFam_1209_64_343 vFam_4669_75_138 vFam_4669_53_81', 1), ('vFam_1209_63_228', 1), ('vFam_1209_63_359', 1), ('vFam_1209_64_342', 1), ('vFam_1209_65_342', 1), ('vFam_1209_64_345', 1), ('vFam_1209_0_368', 1), ('vFam_1209_1_364', 1)]\n",
      "[('vFam_491_506_633', 116), ('vFam_491_506_632', 7), ('vFam_491_506_633 vFam_6122_1_46', 3), ('vFam_491_458_632', 1), ('vFam_491_506_633 vFam_2766_79_131', 1), ('vFam_491_478_625', 1), ('vFam_491_477_625', 1), ('vFam_491_506_633 vFam_3070_167_226', 1), ('vFam_491_506_633 vFam_1763_383_452', 1), ('vFam_491_477_624', 1), ('vFam_491_506_633 vFam_2613_1_29 vFam_2613_44_60', 1), ('vFam_491_464_625', 1), ('vFam_491_474_625 vFam_5006_34_45 vFam_5006_10_42 vFam_5006_8_20', 1), ('vFam_491_485_631', 1), ('vFam_491_490_633', 1), ('vFam_491_476_625', 1), ('vFam_491_506_633 vFam_6122_1_45', 1), ('vFam_491_460_625', 1)]\n",
      "[('vFam_544_490_750 vFam_3940_79_152 vFam_3940_73_105', 43), ('vFam_544_490_750', 36), ('vFam_544_490_750 vFam_3940_79_152 vFam_3940_72_105', 13), ('vFam_544_490_756', 5), ('vFam_544_490_750 vFam_3940_80_152 vFam_3940_74_105', 4), ('vFam_544_490_750 vFam_3940_79_152 vFam_3940_75_105', 4), ('vFam_544_490_750 vFam_3940_80_152 vFam_3940_73_105', 4), ('vFam_544_490_750 vFam_3940_79_152 vFam_3940_76_105', 4), ('vFam_544_490_750 vFam_3940_77_152 vFam_3940_72_105', 3), ('vFam_544_490_750 vFam_3940_78_152 vFam_3940_73_105', 3), ('vFam_544_490_750 vFam_3940_78_152 vFam_3940_75_105', 3), ('vFam_544_490_750 vFam_3940_77_152 vFam_3940_74_105', 2), ('vFam_544_490_755 vFam_5599_3_63', 2), ('vFam_544_490_750 vFam_3940_78_152 vFam_3940_76_105', 2), ('vFam_544_490_750 vFam_3940_78_152 vFam_3940_74_105', 2), ('vFam_544_490_750 vFam_3940_114_152 vFam_3940_72_105', 1), ('vFam_544_490_750 vFam_3940_79_152 vFam_3940_68_105', 1), ('vFam_544_490_750 vFam_3940_79_152 vFam_3940_74_105', 1), ('vFam_544_490_750 vFam_3940_81_152 vFam_3940_73_105', 1), ('vFam_544_540_755', 1), ('vFam_544_490_750 vFam_752_266_339', 1), ('vFam_544_490_750 vFam_3940_80_152 vFam_3940_76_105', 1), ('vFam_544_490_750 vFam_3940_81_152 vFam_3940_74_105', 1), ('vFam_544_490_750 vFam_3940_81_152 vFam_3940_75_105', 1)]\n",
      "[('UL19', 140)]\n",
      "[('vFam_3285_374_517', 98), ('vFam_3285_374_518', 31), ('vFam_3285_402_500', 3), ('vFam_3285_298_339 vFam_3285_375_517', 1), ('vFam_3285_297_339 vFam_3285_374_518', 1), ('vFam_3285_414_502', 1), ('vFam_3285_402_500 vFam_2612_110_190', 1), ('vFam_3285_375_517', 1), ('vFam_3285_405_501', 1), ('vFam_3285_404_501', 1), ('vFam_3285_395_502', 1)]\n",
      "[]\n",
      "[('vFam_1353_288_336', 129), ('vFam_1353_293_339', 4), ('vFam_1353_288_334', 1), ('vFam_1353_293_336', 1), ('vFam_1353_293_334', 1), ('vFam_1353_288_339', 1)]\n",
      "[('Spike glycoprotein N terminal domain', 104), ('vFam_101_2_333', 15), ('vFam_101_2_332', 3), ('vFam_101_2_331', 2), ('vFam_101_4_330', 2), ('vFam_101_3_331', 1), ('vFam_101_7_331', 1), ('vFam_101_39_331', 1), ('vFam_101_5_334 vFam_6652_16_41', 1), ('vFam_101_25_334', 1), ('vFam_101_5_331', 1), ('vFam_101_32_331', 1), ('vFam_101_17_337', 1), ('vFam_101_16_333', 1), ('vFam_101_4_332', 1), ('vFam_101_4_333', 1)]\n",
      "[('vFam_101_452_655', 27), ('vFam_101_554_630', 25), ('vFam_101_448_654', 11), ('vFam_101_556_655', 9), ('vFam_5601_65_136 vFam_101_453_655', 8), ('vFam_101_556_656', 7), ('vFam_101_451_655', 6), ('vFam_101_555_630', 5), ('vFam_101_453_655', 4), ('vFam_101_452_657', 3), ('vFam_101_485_649', 3), ('vFam_101_450_655', 3), ('vFam_101_532_650 vFam_2817_66_122', 2), ('vFam_101_531_653', 2), ('vFam_101_449_655', 2), ('vFam_101_555_630 vFam_599_143_192', 2), ('vFam_101_532_650', 1), ('vFam_101_504_633', 1), ('vFam_101_474_643', 1), ('vFam_101_540_658', 1), ('vFam_101_452_656', 1), ('vFam_101_447_654', 1), ('vFam_101_540_657', 1), ('vFam_101_452_658', 1), ('vFam_5601_65_136 vFam_101_452_655', 1), ('vFam_101_533_629', 1), ('vFam_101_448_655', 1), ('vFam_101_533_654', 1), ('vFam_101_553_658', 1), ('vFam_101_532_648', 1), ('vFam_101_447_660', 1), ('vFam_101_527_655', 1), ('vFam_5601_68_136 vFam_101_453_655', 1), ('vFam_101_555_631', 1)]\n",
      "[]\n",
      "[('vFam_1353_1_39', 131), ('vFam_1353_0_42', 5), ('vFam_1353_1_42', 2)]\n",
      "[(' ', 127)]\n",
      "[]\n",
      "[]\n",
      "[]\n",
      "[]\n",
      "[('US22 like', 133), ('vFam_3285_141_339 vFam_53_225_334 vFam_1109_216_304', 2), ('vFam_3285_138_242', 1), ('vFam_3285_141_321 vFam_3537_153_184 vFam_53_240_338 vFam_3537_228_309 vFam_1109_233_354 vFam_692_322_369', 1)]\n",
      "[]\n",
      "[]\n",
      "[('vFam_586_467_554', 16), ('vFam_1559_160_232', 10), ('vFam_3885_205_248', 9), ('vFam_586_483_553', 8), ('vFam_586_475_554', 7), ('vFam_2823_86_145', 5), ('vFam_586_467_553', 4), ('vFam_586_467_554 vFam_6084_288_333', 3), ('vFam_586_475_552', 3), ('vFam_586_467_553 vFam_6084_288_333', 3), ('vFam_586_482_553', 3), ('vFam_586_467_552 vFam_6084_288_333', 2), ('vFam_586_479_553 vFam_5820_199_238', 2), ('vFam_586_484_551 vFam_3885_205_248', 1), ('vFam_586_483_554', 1), ('vFam_586_479_552 vFam_6084_288_333', 1), ('vFam_586_484_545', 1), ('vFam_586_484_553', 1), ('vFam_586_483_552', 1)]\n",
      "[('vFam_1209_678_721', 12), ('vFam_1209_668_726', 3), ('vFam_1209_674_716', 2), ('vFam_1209_676_716', 1), ('vFam_1209_660_725', 1), ('vFam_1209_677_717', 1), ('vFam_1209_670_726', 1), ('vFam_1209_675_716', 1)]\n",
      "[]\n",
      "[('Cytomegalovirus IE1 protein', 132), ('vFam_1068_16_94', 2), ('vFam_1068_0_97', 1)]\n",
      "[]\n",
      "[]\n",
      "[('vFam_294_201_242', 115), ('vFam_294_201_241', 7), ('vFam_294_202_242', 6), ('vFam_294_202_243', 2), ('vFam_294_201_243', 2)]\n",
      "[('vFam_220_3_73', 102), ('vFam_220_0_73', 10), ('vFam_220_0_70', 8), ('vFam_220_0_75', 6), ('vFam_220_0_74', 4), ('vFam_220_0_68', 2), ('vFam_220_0_71', 1), ('vFam_220_0_67', 1)]\n",
      "[]\n",
      "[('vFam_369_336_427', 100), ('vFam_369_335_429', 7), ('vFam_369_334_423', 4), ('vFam_369_335_426', 3), ('vFam_369_332_429', 3), ('vFam_369_335_428', 2), ('vFam_369_337_426', 2), ('vFam_369_334_429', 2), ('vFam_369_334_430', 2), ('vFam_369_336_428 vFam_5267_46_100', 1), ('vFam_369_336_429', 1), ('vFam_369_336_428', 1), ('vFam_369_330_430', 1), ('vFam_369_335_430', 1), ('vFam_369_336_427 vFam_6105_113_160', 1), ('vFam_369_331_430', 1), ('vFam_369_337_427', 1), ('vFam_369_356_426', 1)]\n",
      "[]\n",
      "[]\n",
      "[]\n",
      "[('vFam_691_124_199', 132), ('vFam_691_121_197', 1)]\n",
      "[]\n",
      "[]\n",
      "[]\n",
      "[]\n",
      "[('vFam_474_561_723 vFam_931_97_152', 96), ('vFam_474_561_723', 15), ('vFam_474_561_723 vFam_931_108_152', 9), ('vFam_474_562_723 vFam_931_97_152', 3), ('vFam_474_561_723 vFam_931_98_152', 3), ('vFam_474_562_723 vFam_931_97_149', 2), ('vFam_474_561_723 vFam_931_97_152 vFam_309_248_312', 1), ('vFam_474_562_692', 1), ('vFam_474_561_723 vFam_931_96_152', 1), ('vFam_474_561_723 vFam_931_101_151', 1)]\n",
      "[]\n",
      "[('vFam_5844_199_229 vFam_414_144_224', 123), ('vFam_414_141_224', 4), ('vFam_414_144_224', 4), ('vFam_414_149_224', 1)]\n",
      "[]\n",
      "[]\n",
      "[('UL17', 131), ('UL17  ', 1)]\n",
      "[]\n",
      "[('vFam_3583_0_41', 131), ('vFam_3583_0_40', 1)]\n",
      "[]\n",
      "[]\n",
      "[('vFam_3583_243_288', 129), ('vFam_3583_243_287', 3)]\n",
      "[('vFam_1972_231_300', 46), ('vFam_1972_230_300', 43), ('vFam_1972_231_303', 37), ('vFam_1972_230_303', 2), ('vFam_1972_230_306', 2), ('vFam_1972_230_306 vFam_5734_111_157', 1), ('vFam_1972_230_299', 1)]\n",
      "[]\n",
      "[('vFam_1972_0_37', 131)]\n",
      "[]\n",
      "[]\n",
      "[]\n",
      "[]\n",
      "[]\n",
      "[(' ', 131)]\n",
      "[]\n",
      "[]\n",
      "[('vFam_5625_66_111', 5), ('vFam_225_231_285', 2)]\n",
      "[]\n",
      "[]\n",
      "[('vFam_5298_83_130', 118), ('vFam_5298_84_130', 4), ('vFam_2967_23_70', 1), ('vFam_5298_83_129', 1)]\n",
      "[]\n",
      "[('vFam_5421_109_184 vFam_5593_1_73', 104), ('vFam_5421_109_183 vFam_5593_1_73', 9), ('vFam_5421_109_185 vFam_5593_1_73', 8), ('vFam_5421_109_185 vFam_5593_2_74', 3), ('vFam_5421_109_184 vFam_5593_2_73', 1), ('vFam_5593_1_73', 1), ('vFam_5421_109_183 vFam_5593_1_72', 1), ('vFam_5421_109_167', 1), ('vFam_5593_1_74', 1), ('vFam_5421_109_184', 1), ('vFam_5593_1_73 vFam_5421_109_187', 1)]\n",
      "[]\n",
      "[]\n",
      "[]\n",
      "[('vFam_5151_310_369', 76), ('vFam_5151_308_369', 47), ('vFam_5151_305_369', 3), ('vFam_5151_309_369', 2), ('vFam_5151_312_369', 1), ('vFam_5151_311_369', 1), ('vFam_5151_310_369 vFam_1362_22_49', 1)]\n",
      "[]\n",
      "[('vFam_779_0_106', 103), ('vFam_779_32_106', 9), ('vFam_779_33_106', 7), ('vFam_779_6_106', 4), ('vFam_779_40_106', 4), ('vFam_779_37_106', 3), ('vFam_779_33_105', 1)]\n",
      "[]\n",
      "[]\n",
      "[]\n",
      "[('vFam_837_252_329', 5), ('vFam_837_252_321', 1), ('vFam_837_252_327', 1), ('vFam_837_254_320', 1)]\n",
      "[]\n",
      "[('UL8', 130)]\n",
      "[(' ', 127), ('   ', 2)]\n",
      "[]\n",
      "[]\n",
      "[('vFam_3080_0_51', 128), ('vFam_3080_0_52 vFam_4317_51_86 vFam_2967_26_49', 1)]\n",
      "[]\n",
      "[]\n",
      "[('vFam_1003_95_143 vFam_3653_34_58', 120), ('vFam_1003_95_143', 7), ('vFam_1003_95_143 vFam_3653_35_58', 1), ('vFam_1003_94_143', 1)]\n",
      "[]\n",
      "[]\n",
      "[]\n",
      "[]\n",
      "[('vFam_1682_20_170', 1)]\n",
      "[]\n",
      "[('vFam_3585_242_338', 128)]\n",
      "[]\n",
      "[]\n",
      "[]\n",
      "[('vFam_5964_6_67', 19), ('vFam_387_249_302', 1), ('vFam_3419_13_63', 1)]\n",
      "[('vFam_4919_62_112', 4), ('vFam_4919_27_106', 3), ('vFam_3090_30_84', 1), ('vFam_1416_181_222', 1)]\n",
      "[]\n",
      "[]\n",
      "[('vFam_5844_0_122', 2)]\n",
      "[('SRD ANTI SIGMA FACTOR DDA MODA', 68), ('HNH nucleases', 6), ('SRD ANTI SIGMA FACTOR DDA MODA  ', 5), ('SRD ANTI SIGMA FACTOR DDA MODA    ', 4), ('vFam_543_165_297', 2), ('vFam_543_88_149', 1), ('vFam_543_167_272', 1), ('vFam_1142_20_48 vFam_543_47_190', 1), ('vFam_543_197_272', 1)]\n",
      "[('Nucleopolyhedrovirus capsid protein P87', 61), ('vFam_193_1_410', 12), ('vFam_193_2_416', 7), ('  Nucleopolyhedrovirus capsid protein P87', 6), ('Nucleopolyhedrovirus capsid protein P87  ', 6), ('  Nucleopolyhedrovirus capsid protein P87  ', 4), ('Nucleopolyhedrovirus capsid protein P87   Nucleopolyhedrovirus capsid protein P87', 3), ('vFam_193_1_407 vFam_5599_24_102', 3), ('vFam_193_2_415', 2), ('vFam_193_7_574', 2), ('vFam_193_0_412', 2), ('vFam_193_0_413', 2), ('vFam_193_2_267 vFam_5531_890_930', 1), ('Nucleopolyhedrovirus capsid protein P87     Cornifin (SPRR) family Nucleopolyhedrovirus capsid protein P87', 1), ('vFam_193_6_401', 1), ('vFam_193_0_416 vFam_4295_160_208 vFam_5531_884_929 vFam_1936_49_122 vFam_4400_220_303 vFam_4295_5_21', 1), ('vFam_193_0_414', 1), ('vFam_193_366_572', 1), ('vFam_193_2_415 vFam_6064_56_106 vFam_6064_47_105', 1), ('vFam_193_3_93 vFam_193_113_418', 1), ('vFam_193_8_406', 1), ('vFam_193_2_407', 1), ('vFam_193_0_415 vFam_5642_375_456 vFam_4382_21_103 vFam_4295_160_214 vFam_5531_950_1007 vFam_2411_457_510 vFam_4291_469_519 vFam_3140_171_222 vFam_586_439_531 vFam_4382_249_283 vFam_5642_332_396 vFam_5531_304_322 vFam_4382_259_266', 1), ('Nucleopolyhedrovirus capsid protein P87      ', 1), ('vFam_193_5_407', 1), ('vFam_193_6_570', 1), ('vFam_193_0_382', 1), ('Nucleopolyhedrovirus capsid protein P87 Nucleopolyhedrovirus capsid protein P87', 1)]\n",
      "[('vFam_2197_9_78', 115), ('vFam_2197_12_78', 7), ('vFam_2197_10_78', 2), ('vFam_2197_9_77', 2)]\n",
      "[(' ', 103), ('   ', 21)]\n",
      "[('   ', 28), ('     ', 17)]\n",
      "[('vFam_489_0_41', 110), ('vFam_489_0_43', 6), ('vFam_489_0_42', 4), ('vFam_489_0_46', 2), ('vFam_489_0_44', 1), ('vFam_489_1_41', 1), ('vFam_489_0_40', 1)]\n",
      "[('Herpesvirus UL37 tegument protein', 94), ('Zonular occludens toxin (Zot)    ', 9), ('  Zonular occludens toxin (Zot)  ', 8), ('  Zonular occludens toxin (Zot)', 5), ('Zonular occludens toxin (Zot)  ', 5), ('    Zonular occludens toxin (Zot)', 3), ('vFam_267_8_256', 1)]\n",
      "[('vFam_3024_109_585', 54), ('vFam_3024_108_585', 19), ('vFam_3024_109_585 vFam_1828_57_83 vFam_1828_27_63', 2)]\n",
      "[]\n",
      "[]\n",
      "[('vFam_304_132_172', 78), ('vFam_304_133_171', 24), ('vFam_304_133_172', 18), ('vFam_304_134_171', 3)]\n",
      "[('Viral A type inclusion protein repeat   Viral A type inclusion protein repeat', 78), ('  Viral A type inclusion protein repeat Viral A type inclusion protein repeat', 28), ('Viral A type inclusion protein repeat   Viral A type inclusion protein repeat Viral A type inclusion protein repeat', 12), ('  Viral A type inclusion protein repeat', 3), ('vFam_465_63_107', 1), ('vFam_516_174_252', 1)]\n",
      "[]\n",
      "[('PspA/IM30 family  ', 4), ('vFam_951_417_489', 2), ('vFam_3276_15_71', 1), ('vFam_4741_48_121', 1)]\n",
      "[('   ', 62), (' ', 32), ('vFam_848_31_157', 9), ('    dUTPase', 5), ('vFam_848_77_153', 5), ('vFam_848_53_149 vFam_560_27_124', 3), ('vFam_848_31_156', 1), ('vFam_848_54_149 vFam_560_43_110', 1), ('vFam_848_36_161', 1), ('vFam_848_40_157', 1), ('vFam_848_77_152', 1)]\n",
      "[('vFam_5391_239_306', 1)]\n",
      "[]\n",
      "[]\n",
      "[]\n",
      "[('vFam_185_60_91', 11), ('vFam_185_58_90', 3), ('vFam_185_47_91', 2), ('vFam_185_59_90', 1)]\n",
      "[]\n",
      "[('vFam_2164_25_97', 1), ('vFam_5024_19_91', 1)]\n",
      "[('vFam_2878_20_66', 1)]\n",
      "[]\n",
      "[]\n",
      "[('vFam_3702_43_123', 1), (' ', 1), ('vFam_463_44_160', 1)]\n",
      "[]\n",
      "[('vFam_21_353_692', 4), ('vFam_21_353_634', 4), ('vFam_21_350_834', 3), ('vFam_21_353_694', 2), ('vFam_21_354_634', 2), ('vFam_21_350_634', 2), ('vFam_21_354_631', 2), ('vFam_21_352_979', 2), ('vFam_21_353_607', 2), ('vFam_21_354_632', 2), ('vFam_21_352_609', 2), ('vFam_21_348_598', 1), ('vFam_21_353_862', 1), ('vFam_21_353_863', 1), ('vFam_21_353_691 vFam_6573_20_82 vFam_6573_62_91', 1), ('vFam_21_353_680 vFam_1621_36_95 vFam_1621_82_108', 1), ('vFam_21_352_853', 1), ('vFam_21_355_606', 1), ('vFam_21_355_618 vFam_1702_28_65', 1), ('vFam_21_353_610', 1), ('vFam_21_353_845', 1), ('vFam_21_353_695 vFam_564_371_472', 1), ('vFam_21_352_528', 1), ('vFam_21_353_843', 1), ('vFam_21_353_652', 1), ('vFam_21_353_635', 1), ('vFam_21_352_630', 1), ('vFam_21_352_632', 1), ('vFam_21_353_867', 1), ('vFam_21_353_683 vFam_4590_32_74', 1), ('vFam_21_352_634 vFam_1621_21_102', 1), ('vFam_21_347_562', 1), ('vFam_21_355_693', 1), ('vFam_21_354_692', 1), ('vFam_21_353_648 vFam_422_281_342', 1), ('vFam_21_353_531', 1), ('vFam_21_352_651', 1), ('vFam_21_352_657', 1), ('vFam_21_350_833', 1), ('vFam_21_353_449', 1), ('vFam_21_348_601', 1), ('vFam_21_349_462 vFam_6134_64_88 vFam_6134_6_91', 1), ('vFam_21_355_605', 1), ('vFam_21_354_635', 1), ('vFam_21_352_677', 1), ('vFam_21_351_686', 1), ('vFam_21_351_687', 1), ('vFam_21_348_646', 1), ('vFam_21_353_676', 1), ('vFam_21_355_617', 1), ('vFam_21_352_686 vFam_6321_24_52', 1), ('vFam_21_353_587', 1), ('vFam_21_353_480', 1), ('vFam_21_353_626', 1), ('vFam_21_353_668 vFam_1621_24_94', 1), ('vFam_21_353_668', 1), ('vFam_21_353_838', 1), ('vFam_21_353_600', 1), ('vFam_21_347_581', 1), ('vFam_21_353_664', 1), ('vFam_21_355_607', 1), ('vFam_21_352_534', 1), ('vFam_21_352_563', 1), ('vFam_21_350_863', 1), ('vFam_21_350_866', 1), ('vFam_21_350_864', 1), ('vFam_21_352_837', 1), ('vFam_21_352_694', 1), ('vFam_21_350_868', 1), ('vFam_21_353_521', 1), ('vFam_21_351_690', 1), ('vFam_21_353_852', 1), ('vFam_21_350_837', 1), ('vFam_21_348_630', 1), ('vFam_21_353_695 vFam_619_393_566 vFam_5642_397_462', 1), ('vFam_21_353_691', 1), ('vFam_21_353_631', 1), ('vFam_21_352_685', 1), ('vFam_21_350_625 vFam_1760_74_102', 1), ('vFam_21_353_479', 1), ('vFam_21_352_695', 1), ('vFam_21_353_688', 1), ('vFam_21_353_470', 1), ('vFam_21_353_851', 1), ('vFam_21_353_653', 1), ('vFam_21_346_638', 1), ('vFam_21_351_640', 1), ('vFam_21_354_665', 1), ('vFam_21_352_690', 1), ('vFam_21_352_558', 1), ('vFam_21_352_465', 1), ('vFam_21_352_863', 1), ('vFam_21_355_629', 1)]\n",
      "[]\n",
      "[]\n",
      "[('vFam_5859_33_73 vFam_855_400_461', 2), ('vFam_6049_62_106', 1), ('vFam_5859_34_74 vFam_855_404_461', 1), ('vFam_4920_41_101', 1)]\n",
      "[]\n",
      "[(' ', 116)]\n",
      "[('vFam_45_762_865', 66), ('vFam_45_762_864', 19), ('vFam_45_765_865', 6), ('vFam_45_764_865', 5), ('vFam_45_763_865', 4), ('vFam_45_768_865', 4), ('vFam_45_763_864', 3), ('vFam_45_773_864', 3), ('vFam_45_773_865', 2), ('vFam_45_766_865', 2), ('vFam_45_801_865', 1), ('vFam_45_764_864', 1), ('vFam_45_770_865', 1)]\n",
      "[('vFam_135_5_167', 16), ('vFam_135_1_174', 12), ('vFam_135_2_186', 10), ('vFam_135_2_191', 8), ('vFam_135_2_182', 8), ('vFam_135_6_166', 6), ('vFam_135_1_163', 4), ('vFam_135_6_163', 3), ('vFam_135_4_191', 3), ('vFam_135_6_184', 3), ('vFam_135_5_186', 3), ('vFam_135_7_191', 2), ('vFam_135_1_186', 2), ('vFam_135_7_188', 2), ('vFam_2654_11_29 vFam_135_2_182 vFam_2654_52_100 vFam_2654_11_20', 2), ('vFam_135_2_183', 2), ('vFam_135_2_188', 2), ('vFam_135_5_191', 1), ('vFam_135_5_184', 1), ('vFam_135_4_171', 1), ('vFam_135_3_188', 1), ('vFam_135_3_191', 1), ('vFam_135_3_184', 1), ('vFam_135_5_194', 1), ('vFam_135_3_186', 1), ('vFam_135_5_188', 1), ('vFam_135_6_187', 1), ('vFam_135_6_183', 1), ('vFam_135_6_190', 1), ('vFam_135_1_183', 1), ('vFam_135_7_190', 1), ('vFam_135_4_183', 1), ('vFam_135_4_181', 1), ('vFam_135_4_193', 1), ('vFam_135_7_186', 1), ('vFam_135_6_167', 1), ('vFam_135_4_189', 1), ('vFam_135_3_164', 1), ('vFam_135_2_139', 1), ('vFam_135_3_166', 1), ('vFam_135_2_184 vFam_3220_154_213', 1), ('vFam_135_7_173', 1), ('vFam_135_7_166', 1), ('vFam_135_2_163', 1), ('vFam_135_2_164', 1)]\n",
      "[]\n",
      "[]\n",
      "[('vFam_65_0_46', 33), ('vFam_65_0_47', 22), ('vFam_65_1_46', 11), ('vFam_65_0_48', 11), ('vFam_65_0_45', 10), ('vFam_65_1_48', 7), ('vFam_65_2_48', 6), ('vFam_65_1_47', 4), ('vFam_65_2_45', 3), ('vFam_65_2_44', 2), ('vFam_65_0_49', 2), ('vFam_65_0_47 vFam_2638_31_59', 1), ('vFam_65_0_55', 1), ('vFam_65_2_47', 1), ('vFam_65_1_49', 1), ('vFam_65_0_48 vFam_1098_249_278', 1)]\n",
      "[]\n",
      "[('    3prima 5prima exonuclease', 50), ('   ', 14), (' ', 10), ('    3prima 5prima exonuclease  ', 7), ('3prima 5prima exonuclease   3prima 5prima exonuclease      ', 3), ('3prima 5prima exonuclease        ', 1), ('vFam_4846_118_189', 1), ('3prima 5prima exonuclease   3prima 5prima exonuclease    ', 1), ('     ', 1)]\n",
      "[]\n",
      "[]\n",
      "[('vFam_93_318_397', 50), ('vFam_93_318_396', 36), ('vFam_93_320_397', 7), ('vFam_93_319_397', 7), ('vFam_93_318_395', 4), ('vFam_93_319_396', 3), ('vFam_93_320_396', 3), ('vFam_93_317_397', 2), ('vFam_93_318_394', 1), ('vFam_93_317_397 vFam_6476_18_57', 1)]\n",
      "[('vFam_5914_210_252', 5)]\n",
      "[('vFam_2654_42_97 vFam_4197_132_185', 3), ('vFam_2654_42_99 vFam_4267_140_165', 3), ('vFam_2654_42_97', 1), ('vFam_2869_38_81', 1), ('vFam_2004_200_244', 1), ('vFam_2654_42_97 vFam_292_347_402', 1), ('vFam_2654_42_97 vFam_4267_124_175', 1), ('vFam_2654_42_98', 1), ('vFam_2881_25_50 vFam_2654_42_98 vFam_1356_25_75 vFam_292_347_403', 1), ('vFam_4197_132_186', 1)]\n",
      "[]\n",
      "[('vFam_119_250_299', 18), ('vFam_119_249_298', 13), ('vFam_119_250_298', 12), ('vFam_119_251_300', 8), ('vFam_119_252_300', 7), ('vFam_119_249_299', 6), ('vFam_119_249_300', 5), ('vFam_119_250_296', 4), ('vFam_119_253_299', 3), ('vFam_119_255_300', 3), ('vFam_119_250_301', 2), ('vFam_119_254_301', 2), ('vFam_119_254_299', 2), ('vFam_119_246_301', 2), ('vFam_119_251_298', 2), ('vFam_119_257_300', 2), ('vFam_119_249_294', 1), ('vFam_119_251_295', 1), ('vFam_119_250_300', 1), ('vFam_119_251_299', 1), ('vFam_119_251_294', 1), ('vFam_119_256_300', 1), ('vFam_119_261_297', 1), ('vFam_119_244_300', 1), ('vFam_119_257_301', 1), ('vFam_119_261_299', 1), ('vFam_119_259_300', 1)]\n",
      "[]\n",
      "[]\n",
      "[('vFam_2290_219_261', 2), ('vFam_2290_219_260', 1), ('vFam_5359_152_199', 1)]\n",
      "[]\n",
      "[('vFam_119_13_66', 25), ('vFam_119_2_66', 21), ('vFam_119_12_66', 15), ('vFam_119_14_66', 11), ('vFam_119_3_66', 9), ('vFam_119_8_66', 7), ('vFam_119_11_66', 5), ('vFam_119_10_66', 2), ('vFam_119_7_66 vFam_5279_269_308', 2), ('vFam_119_9_66', 2), ('vFam_4737_114_181 vFam_119_2_66', 2), ('vFam_119_6_66', 2), ('vFam_119_17_66', 1), ('vFam_3110_60_117 vFam_119_12_66', 1), ('vFam_119_21_66', 1), ('vFam_4737_114_181 vFam_119_3_66', 1), ('vFam_3765_249_314 vFam_119_14_66', 1), ('vFam_119_4_66', 1), ('vFam_119_15_66', 1), ('vFam_4844_113_163 vFam_119_9_66', 1), ('vFam_119_18_66', 1)]\n",
      "[]\n",
      "[]\n",
      "[]\n",
      "[]\n",
      "[]\n",
      "[(' ', 64), ('   ', 13)]\n",
      "[]\n",
      "[]\n",
      "[]\n",
      "[]\n",
      "[(' ', 1)]\n",
      "[]\n",
      "[]\n",
      "[]\n",
      "[]\n",
      "[('vFam_70_248_394', 10), ('vFam_70_327_396', 10), ('vFam_70_249_394', 5), ('vFam_70_327_393', 5), ('vFam_70_306_394 vFam_5146_32_70 vFam_139_7_63', 4), ('vFam_70_318_390 vFam_139_5_50', 4), ('vFam_70_328_396', 3), ('vFam_70_328_395', 3), (' ', 3), ('vFam_70_323_392', 3), ('vFam_70_325_396', 3), ('vFam_70_249_395 vFam_139_79_129 vFam_139_6_53', 2), ('vFam_70_329_395', 2), ('vFam_70_245_395', 2), ('vFam_70_332_393', 2), ('vFam_70_328_393', 2), ('vFam_70_304_394', 2), ('vFam_70_241_395', 1), ('vFam_70_257_394', 1), ('vFam_70_256_394 vFam_139_21_52 vFam_139_8_52', 1), ('vFam_70_319_390', 1), ('vFam_139_6_48 vFam_70_332_390 vFam_30_47_69', 1), ('vFam_70_319_396', 1), ('vFam_70_255_392', 1), ('vFam_70_319_392', 1), ('vFam_70_325_394', 1), ('vFam_70_249_395 vFam_139_9_131', 1), ('   ', 1), ('vFam_70_245_394 vFam_139_79_164 vFam_139_100_125', 1), ('vFam_70_306_396', 1), ('vFam_70_242_394', 1), ('vFam_70_242_395', 1), ('vFam_70_330_394 vFam_668_25_86 vFam_5883_234_271', 1), ('vFam_70_338_394', 1), ('vFam_70_242_395 vFam_139_8_124', 1), ('vFam_70_255_392 vFam_2186_229_285', 1), ('vFam_70_264_391 vFam_139_15_124', 1), ('vFam_70_251_394', 1), ('vFam_70_257_395', 1), ('vFam_70_259_395 vFam_139_11_56 vFam_139_22_55', 1), ('vFam_70_244_394', 1), ('vFam_70_317_391', 1), ('vFam_70_253_395 vFam_6405_29_64', 1), ('vFam_70_306_394 vFam_5146_32_70', 1), ('vFam_70_245_394 vFam_139_79_127 vFam_139_7_53', 1), ('vFam_70_315_396', 1), ('vFam_70_242_395 vFam_5281_34_68 vFam_5281_168_206', 1), ('vFam_2638_166_229 vFam_70_326_390', 1), ('vFam_70_312_395', 1), ('vFam_70_320_394', 1), ('vFam_70_321_392', 1), ('vFam_70_335_395', 1), ('vFam_70_321_396', 1), ('vFam_70_255_394', 1), ('vFam_70_249_395 vFam_139_82_128 vFam_139_6_54', 1), ('vFam_70_330_396', 1), ('vFam_70_330_394', 1), ('vFam_70_318_390 vFam_139_6_50', 1), ('vFam_70_326_394', 1)]\n",
      "[('vFam_55_7_163', 7), ('vFam_55_77_163', 6), (' ', 5), ('vFam_55_79_164', 3), ('vFam_55_68_163', 3), ('vFam_55_71_163', 3), ('vFam_55_69_169', 2), ('vFam_55_79_163', 2), ('vFam_55_76_163', 2), ('vFam_55_65_169', 2), ('vFam_55_60_169', 1), ('vFam_55_67_164', 1), ('vFam_55_64_169', 1), ('vFam_55_70_163', 1), ('vFam_55_21_169', 1), ('vFam_55_37_165', 1), ('vFam_55_36_169', 1), ('vFam_55_66_169', 1), ('vFam_55_62_169', 1), ('vFam_55_65_170', 1), ('vFam_55_67_169', 1)]\n",
      "[('vFam_250_190_253 vFam_6336_6_48', 1), ('vFam_250_176_240', 1), ('vFam_5407_204_232 vFam_250_175_251 vFam_5407_210_232', 1), ('vFam_250_172_240', 1), ('vFam_250_173_231 vFam_250_190_269 vFam_250_185_252', 1), ('vFam_250_189_394 vFam_6336_20_48 vFam_6336_19_53', 1), ('vFam_250_179_249', 1), ('vFam_250_190_232 vFam_6346_25_108 vFam_250_187_258 vFam_6346_10_47 vFam_250_177_249 vFam_6346_11_110 vFam_250_168_341', 1), ('vFam_250_173_240', 1), ('vFam_250_194_255', 1)]\n",
      "[]\n",
      "[]\n",
      "[]\n",
      "[('vFam_284_329_750', 23), ('vFam_284_329_750 vFam_1842_54_81', 13), ('vFam_284_326_751', 9), ('vFam_284_325_750', 9), ('vFam_284_330_750', 8), ('vFam_284_331_751', 8), ('vFam_284_327_751 vFam_4329_108_169', 6), ('vFam_284_330_751', 5), ('vFam_284_327_750', 4), ('vFam_284_327_751', 4), ('vFam_284_331_750', 2), ('vFam_284_328_750 vFam_3872_29_57', 1), ('vFam_284_329_751 vFam_3808_183_202 vFam_3808_71_119', 1), ('vFam_284_329_751', 1)]\n",
      "[]\n",
      "[('vFam_66_607_689', 1)]\n",
      "[]\n",
      "[]\n",
      "[('vFam_491_202_304', 76), ('vFam_491_201_304', 5), ('vFam_491_225_316', 5), ('vFam_491_224_322', 3), ('vFam_491_240_316', 3), ('vFam_491_201_305', 2), ('vFam_491_260_316 vFam_5835_87_126', 2), ('vFam_491_203_304', 1), ('vFam_491_260_316', 1), ('vFam_491_265_316', 1), ('vFam_491_264_316', 1), ('vFam_491_267_315', 1), ('vFam_491_260_315 vFam_5835_87_132', 1), ('vFam_491_224_324', 1), ('vFam_491_266_316', 1), ('vFam_491_263_316', 1)]\n",
      "[('vFam_267_271_1030', 17), ('vFam_267_271_1023', 9), ('vFam_267_269_1019', 9), ('vFam_267_271_1026', 8), ('vFam_267_270_1029', 8), ('vFam_267_332_1024', 8), ('vFam_267_271_1027', 8), ('vFam_267_268_1024', 4), ('vFam_267_250_786', 4), ('vFam_267_271_1025', 3), ('vFam_267_270_1030', 2), ('vFam_267_270_1025', 2), ('vFam_267_271_1024', 2), ('vFam_267_332_1022', 2), ('vFam_267_269_1024', 1), ('vFam_267_271_1029', 1), ('vFam_267_267_1024', 1), ('vFam_267_253_1028', 1), ('vFam_267_331_792', 1), ('vFam_267_266_786', 1), ('vFam_267_249_786', 1), ('vFam_267_249_1026', 1)]\n",
      "[('vFam_305_255_449', 43), ('vFam_305_255_448', 25), ('vFam_305_365_446', 10), ('vFam_305_324_450', 9), ('vFam_305_255_450', 7), ('vFam_305_255_450 vFam_4441_89_176', 6), ('vFam_305_257_449', 1), ('vFam_305_255_450 vFam_3048_44_80', 1), ('vFam_305_364_446', 1), ('vFam_305_255_449 vFam_2708_31_72 vFam_2708_33_72', 1)]\n",
      "[]\n",
      "[]\n",
      "[]\n",
      "[('vFam_358_3_44', 12), ('vFam_358_1_43', 12), ('vFam_358_2_43', 8), ('vFam_358_0_43', 1), ('vFam_358_3_43', 1)]\n",
      "[('vFam_49_1040_1846 vFam_2073_25_76', 26), ('vFam_49_1040_1846 vFam_419_255_329 vFam_2073_25_76 vFam_5825_96_144', 14), ('vFam_49_1040_1846 vFam_2994_208_260 vFam_2994_185_228 vFam_2073_25_76 vFam_2994_8_51', 6), ('vFam_49_1040_1839', 4), ('vFam_49_1040_1846 vFam_2073_25_42 vFam_419_257_329 vFam_2073_25_76 vFam_5825_96_144', 4), ('vFam_49_1040_1844', 4), ('vFam_49_1041_1796', 4), ('vFam_49_1040_1846 vFam_2994_208_259 vFam_2994_185_228 vFam_2073_25_76 vFam_2994_8_51', 3), ('vFam_49_1041_1839', 2), ('vFam_49_1040_1843', 2), ('vFam_49_1040_1846 vFam_419_254_325 vFam_2073_26_76 vFam_1785_41_91', 2), ('vFam_49_1048_1689', 2), ('vFam_49_1040_1845', 1), ('vFam_49_1041_1846 vFam_323_1_32', 1), ('vFam_49_1041_1845', 1), ('vFam_49_1040_1791', 1), ('vFam_49_1041_1838 vFam_2378_6_37', 1), ('vFam_49_1041_1840', 1), ('vFam_49_1378_1830', 1), ('vFam_49_1040_1839 vFam_121_30_51 vFam_121_37_102', 1), ('vFam_49_1378_1698 vFam_2008_18_99', 1), ('vFam_49_1041_1844', 1), ('vFam_49_1040_1846 vFam_419_243_325', 1), ('vFam_49_1040_1846 vFam_1785_36_84', 1), ('vFam_49_1040_1846 vFam_1785_42_80 vFam_1232_35_80', 1), ('vFam_49_1040_1840', 1), ('vFam_49_1040_1842', 1), ('vFam_49_1040_1838', 1), ('vFam_49_1040_1846 vFam_2073_17_35 vFam_2994_208_259 vFam_2994_185_228 vFam_2073_25_76 vFam_2994_8_51', 1), ('vFam_49_1041_1794', 1), ('vFam_49_1040_1846 vFam_794_38_62 vFam_794_35_85', 1), ('vFam_49_1040_1846 vFam_794_38_59 vFam_794_35_85', 1), ('vFam_49_1040_1846 vFam_2073_17_35 vFam_2994_208_259 vFam_2994_145_180 vFam_2994_186_224 vFam_2073_25_76 vFam_2994_8_51', 1), ('vFam_49_1041_1843 vFam_2073_7_32 vFam_2073_30_78', 1), ('vFam_49_1040_1846 vFam_2994_208_260 vFam_2994_186_224 vFam_2073_25_76 vFam_2994_8_51', 1), ('vFam_49_1040_1846 vFam_2994_208_260 vFam_1116_35_84 vFam_2994_186_227 vFam_1116_108_164 vFam_2073_25_76 vFam_2994_8_51', 1), ('vFam_49_1378_1831', 1), ('vFam_49_1040_1846 vFam_419_258_325 vFam_2073_25_76', 1), ('vFam_49_1041_1841 vFam_2073_23_37 vFam_915_91_157 vFam_2073_29_70', 1)]\n",
      "[('vFam_2142_98_177', 42), ('vFam_2142_103_177', 37), ('vFam_2142_97_175', 1), ('vFam_2142_97_177', 1), ('vFam_2142_101_177', 1)]\n",
      "[]\n",
      "[(' ', 1)]\n",
      "[]\n",
      "[]\n",
      "[]\n",
      "[('vFam_220_435_477', 36), ('vFam_220_432_460', 17), ('vFam_220_433_477 vFam_6506_32_75', 16), ('vFam_220_435_477 vFam_6506_33_75', 3), ('vFam_220_437_477', 3), ('vFam_220_433_477', 3), ('vFam_220_437_476', 2), ('vFam_220_432_477 vFam_6506_32_74', 2), ('vFam_220_432_477 vFam_6506_32_75', 2), ('vFam_220_432_477', 2), ('vFam_220_431_475', 1), ('vFam_220_430_475', 1), ('vFam_220_420_477 vFam_2092_51_84', 1), ('vFam_6506_33_75 vFam_220_437_477', 1), ('vFam_220_432_476', 1), ('vFam_220_432_472', 1), ('vFam_220_435_476', 1), ('vFam_220_432_477 vFam_6506_32_73', 1)]\n",
      "[]\n",
      "[('vFam_112_542_677', 26), ('vFam_112_543_677', 14), ('vFam_112_542_675', 5), ('vFam_112_541_676', 3), ('vFam_112_542_677 vFam_582_14_59', 3), ('vFam_112_540_677', 3), ('vFam_112_545_677', 3), ('vFam_112_541_677', 2), ('vFam_112_542_613', 2), ('vFam_112_543_676', 2), ('vFam_112_541_673', 2), ('vFam_112_542_676', 2), ('vFam_112_544_677', 2), ('vFam_112_543_675', 1), ('vFam_112_542_674', 1), ('vFam_112_542_631', 1), ('vFam_112_543_677 vFam_2381_301_371', 1), ('vFam_112_544_677 vFam_1626_528_634', 1), ('vFam_112_541_671 vFam_5775_12_55', 1), ('vFam_112_542_677 vFam_151_39_112', 1), ('vFam_112_542_622', 1), ('vFam_112_542_670', 1), ('vFam_112_542_671', 1), ('vFam_112_539_676', 1), ('vFam_112_541_677 vFam_6140_32_75', 1), ('vFam_112_542_675 vFam_2829_25_83', 1), ('vFam_112_541_675', 1), ('vFam_112_545_672', 1), ('vFam_112_543_677 vFam_348_1_72', 1), ('vFam_112_542_677 vFam_5762_141_193', 1), ('vFam_112_541_674', 1), ('vFam_112_544_677 vFam_4007_64_83 vFam_4007_131_154', 1), ('vFam_112_542_677 vFam_4866_25_62', 1), ('vFam_112_541_667', 1), ('vFam_112_544_677 vFam_6261_29_81', 1), ('vFam_112_542_677 vFam_4677_33_99', 1), ('vFam_112_541_670', 1), ('vFam_112_545_677 vFam_5285_55_107', 1), ('vFam_112_542_634', 1), ('vFam_112_545_677 vFam_685_88_157', 1), ('vFam_112_542_675 vFam_381_383_454', 1), ('vFam_112_541_612', 1)]\n",
      "[]\n"
     ]
    }
   ],
   "source": [
    "def getNodes(avTuple):\n",
    "    a = avTuple[0]\n",
    "    v = avTuple[1]\n",
    "    return(dict(zip(a.split(),[v]*len(a.split()))))\n",
    "\n",
    "def getEdges(avTuple):\n",
    "    a = avTuple[0].split()\n",
    "    edges = []\n",
    "    i = 1\n",
    "    while i < len(a):\n",
    "        edges.append((a[i-1],a[i]))\n",
    "        i += 1\n",
    "    edges = dict(zip(edges,[1]*len(edges)))\n",
    "    return edges\n",
    "\n",
    "newAnnotations = []\n",
    "for annotationSet in topViphogsDF[\"functionalAnnotation\"]:\n",
    "    try:\n",
    "        #Get all possible words in each annotation. Each word will be a node\n",
    "        nodes = []\n",
    "        for a in annotationSet:\n",
    "            nodes.append(getNodes(a))\n",
    "        #sum all nodes that have the same key\n",
    "        nodes = dict(functools.reduce(operator.add,map(collections.Counter,nodes)))\n",
    "        ###\n",
    "        #Get all edges. An edge is formed between two contiguous words.\n",
    "        edges = []\n",
    "        for a in annotationSet:\n",
    "            edges.append(getEdges(a))\n",
    "        #sum all edges that have the same source,target\n",
    "        edges = dict(functools.reduce(operator.add,map(collections.Counter,edges)))\n",
    "        ###\n",
    "        #Store those nodes in a dataframe\n",
    "        st_values = pd.DataFrame.from_dict(nodes,orient='index').reset_index()\n",
    "        st_values.columns = [\"st\",\"value\"]\n",
    "        ###\n",
    "        #Make a directed graph with all nodes and edges\n",
    "        dg = nx.DiGraph()\n",
    "        dg.add_weighted_edges_from([(x[0],x[1],edges[x]) for x in edges])\n",
    "        ###\n",
    "        #Get a subgraph that includes all predecessors and successors of the top 10 most mentioned words\n",
    "        subgraphNodes = []\n",
    "        topNodes = st_values.sort_values(by=\"value\",ascending=False).head(10)[\"st\"]\n",
    "        for x in topNodes:\n",
    "            subgraphNodes += list(dg.successors(x))\n",
    "            subgraphNodes += list(dg.predecessors(x))\n",
    "        subgraphNodes += list(topNodes)\n",
    "        subgraphNodes = list(set(subgraphNodes))\n",
    "        subdg = dg.subgraph(subgraphNodes)\n",
    "        ###\n",
    "        #Get the longest path from each source (sentence starter) node\n",
    "        sink_nodes = [node for node, outdegree in subdg.out_degree(subdg.nodes()).items() if outdegree == 0]\n",
    "        source_nodes = [node for node, indegree in subdg.in_degree(subdg.nodes()).items() if indegree == 0]\n",
    "        allLongestPaths = []\n",
    "        for source in source_nodes:\n",
    "            longest = 0\n",
    "            p = \"\"\n",
    "            for sink in sink_nodes:\n",
    "                for path in nx.all_simple_paths(subdg,source=source,target=sink):\n",
    "                    if len(path)>longest:\n",
    "                        p = path\n",
    "                        longest = len(path)\n",
    "            allLongestPaths.append(p)\n",
    "        ###\n",
    "        #Keep only the longest path from all paths found in the previous step.\n",
    "        longest = 0\n",
    "        p = \"\"\n",
    "        for path in allLongestPaths:\n",
    "            if len(path) > longest:\n",
    "                p = path\n",
    "                longest = len(p)\n",
    "        ###\n",
    "        #Write the longest path as the final annotation\n",
    "        finalAnnotation = \"\"\n",
    "        for a in p:\n",
    "            finalAnnotation += a+\"(\"+str(nodes[a])+\") \"\n",
    "        newAnnotations.append(finalAnnotation)\n",
    "    except:\n",
    "        #do not work mostly for vFam annotations\n",
    "        #print annotationSet\n",
    "        newAnnotations.append(\"NA\")"
   ]
  },
  {
   "cell_type": "code",
   "execution_count": 273,
   "metadata": {
    "collapsed": true
   },
   "outputs": [],
   "source": [
    "topViphogsDF[\"FA\"] = newAnnotations"
   ]
  },
  {
   "cell_type": "code",
   "execution_count": 287,
   "metadata": {
    "collapsed": false
   },
   "outputs": [],
   "source": [
    "#import taxonomic annotation file\n",
    "genomesTaxAnnotation = pd.read_csv(\"/home/leonardo/Documents/JaimeLeonardoMorenoGallegoUniandes/JuanSebastian/taxonomicAnnotationGenomesWithVOGs.csv\",\n",
    "                                   header=0,sep=',')\n",
    "#append taxonomic annotation to the viphogs file\n",
    "getAcc = lambda x :x.split('.')[0]\n",
    "viphogs[\"Acc\"] = viphogs[\"Accession\"].apply(getAcc)\n",
    "viphogsTaxAnnotation = viphogs.merge(right=genomesTaxAnnotation,left_on=\"Acc\",right_on=\"Accession\",how=\"inner\")\n",
    "\n",
    "#get annotation of each cluster\n",
    "taxAnnotation = []\n",
    "for cluster in topViphogsDF[\"ClusterID\"]:\n",
    "    annotation = []\n",
    "    x = viphogsTaxAnnotation[viphogsTaxAnnotation[\"ClusterId\"]==cluster][\"Family\"].value_counts()\n",
    "    for i,v in x.iteritems():\n",
    "        annotation.append((i,v))\n",
    "    taxAnnotation.append(annotation)\n",
    "#\n",
    "topViphogsDF[\"taxonomicAnnotation\"] = taxAnnotation"
   ]
  },
  {
   "cell_type": "code",
   "execution_count": 288,
   "metadata": {
    "collapsed": true
   },
   "outputs": [],
   "source": [
    "#Save final table\n",
    "topViphogsDF.to_csv(\"topViphogs.moreThan100regions.v2.csv\",header=True,index=False,sep='\\t')"
   ]
  },
  {
   "cell_type": "code",
   "execution_count": null,
   "metadata": {
    "collapsed": true
   },
   "outputs": [],
   "source": []
  },
  {
   "cell_type": "code",
   "execution_count": 14,
   "metadata": {
    "collapsed": false
   },
   "outputs": [
    {
     "name": "stdout",
     "output_type": "stream",
     "text": [
      "21050\n",
      "16404\n",
      "14746\n",
      "10100\n",
      "6304\n"
     ]
    }
   ],
   "source": [
    "#How many viphogs are made of only phages, only eukaryotic viruses or both?\n",
    "\n",
    "#1.Include host information\n",
    "\n",
    "#1.1.Remove version from the accession\n",
    "removeVersion = lambda x:x.split('.')[0]\n",
    "viphogs[\"Acc\"] = viphogs[\"Accession\"].apply(removeVersion)\n",
    "#1.2.Import table that includes host info\n",
    "aux = pd.read_csv(\"../../../4_FinalGenomes/summaryFinalGenomes.csv\",sep='\\t')\n",
    "#1.3.Merge viphgos table and aux table\n",
    "viphogs2 = viphogs.merge(how=\"inner\",right=aux,left_on=\"Acc\",right_on=\"Accession\")\n",
    "\n",
    "#2.How many viphogs are made of only viruses, only phages, both?\n",
    "pvh = viphogs2[[\"ClusterId\",\"Host\"]].copy() #pvh means paired viphog-host\n",
    "pvh.drop_duplicates(inplace=True)\n",
    "\n",
    "pvhViruses = set(pvh[pvh[\"Host\"]==\"Eukaryote\"][\"ClusterId\"].values)\n",
    "print len(pvhViruses)\n",
    "pvhPhages = set(pvh[pvh[\"Host\"]==\"Prokaryote\"][\"ClusterId\"].values)\n",
    "print len(pvhPhages)\n",
    "\n",
    "print len(pvhViruses - pvhPhages)\n",
    "print len(pvhPhages - pvhViruses)\n",
    "print len(pvhViruses & pvhPhages)"
   ]
  },
  {
   "cell_type": "code",
   "execution_count": 15,
   "metadata": {
    "collapsed": false
   },
   "outputs": [
    {
     "data": {
      "text/plain": [
       "count    31150.000000\n",
       "mean         1.008142\n",
       "std          0.088604\n",
       "min          1.000000\n",
       "25%          1.000000\n",
       "50%          1.000000\n",
       "75%          1.000000\n",
       "max          9.161850\n",
       "dtype: float64"
      ]
     },
     "execution_count": 15,
     "metadata": {},
     "output_type": "execute_result"
    }
   ],
   "source": [
    "#What is the genomes-regions ratio?\n",
    "(viphogs.groupby([\"ClusterId\"]).count()[\"Protein&RegionID\"]/pvg.groupby([\"ClusterId\"]).count()[\"Accession\"]).describe()"
   ]
  },
  {
   "cell_type": "code",
   "execution_count": 16,
   "metadata": {
    "collapsed": false
   },
   "outputs": [
    {
     "name": "stdout",
     "output_type": "stream",
     "text": [
      "958\n"
     ]
    }
   ],
   "source": [
    "#What is the number of genomes that do not contribute to any ViPhOG?\n",
    "aux2 = aux[aux[\"Representative\"]==True].copy()\n",
    "allGenomes = set(aux2[\"Accession\"].values)\n",
    "viphogsGenomes = set(viphogs[\"Acc\"].unique())\n",
    "print len(allGenomes - viphogsGenomes)"
   ]
  },
  {
   "cell_type": "code",
   "execution_count": 88,
   "metadata": {
    "collapsed": true
   },
   "outputs": [],
   "source": [
    "nonViphogs.to_csv(\"nonViphogs.csv\",sep=\"\\t\",index=False)"
   ]
  },
  {
   "cell_type": "code",
   "execution_count": 22,
   "metadata": {
    "collapsed": false
   },
   "outputs": [],
   "source": [
    "#Explore if the regions in viphogs were proteins, regions or domains. \n",
    "regions = viphogs[[\"Protein&RegionID\",\"Accession\"]].copy()\n",
    "getRegionType = lambda x : x.count(\"@\")\n",
    "regions[\"RegionType\"] = regions[\"Protein&RegionID\"].apply(getRegionType)\n",
    "#import regions annotation description\n",
    "regionsAnnotation = pd.read_csv(\"../../../clustersAnnotation.forGuille.csv\",header=0,sep='\\t')\n",
    "#combine both tables to confirm that contain the same ammount of clusters and regions\n",
    "regions = pd.concat([regions,regionsAnnotation],axis=1)\n",
    "#combine regiontype annotation and analysistype annotation\n",
    "aux = []\n",
    "for index,row in regions.iterrows():\n",
    "    aux.append(str(row[\"RegionType\"])+\"|\"+str(row[\"Analysis\"]))\n",
    "regions[\"rac\"] = aux #rac := region analysis combined"
   ]
  },
  {
   "cell_type": "code",
   "execution_count": 23,
   "metadata": {
    "collapsed": false
   },
   "outputs": [
    {
     "data": {
      "text/html": [
       "<div>\n",
       "<table border=\"1\" class=\"dataframe\">\n",
       "  <thead>\n",
       "    <tr style=\"text-align: right;\">\n",
       "      <th></th>\n",
       "      <th>Protein&amp;RegionID</th>\n",
       "      <th>Accession</th>\n",
       "      <th>RegionType</th>\n",
       "      <th>Region</th>\n",
       "      <th>Cluster</th>\n",
       "      <th>Analysis</th>\n",
       "      <th>Description</th>\n",
       "      <th>rac</th>\n",
       "    </tr>\n",
       "  </thead>\n",
       "  <tbody>\n",
       "    <tr>\n",
       "      <th>0</th>\n",
       "      <td>253683359@0_150@57_106</td>\n",
       "      <td>AB008336.1</td>\n",
       "      <td>2</td>\n",
       "      <td>AB008336.1|253683359@0_150@57_106</td>\n",
       "      <td>CLS00001</td>\n",
       "      <td>NaN</td>\n",
       "      <td>NaN</td>\n",
       "      <td>2|nan</td>\n",
       "    </tr>\n",
       "    <tr>\n",
       "      <th>1</th>\n",
       "      <td>2828598@0_120@30_75</td>\n",
       "      <td>AF023424.1</td>\n",
       "      <td>2</td>\n",
       "      <td>AF023424.1|2828598@0_120@30_75</td>\n",
       "      <td>CLS00001</td>\n",
       "      <td>vFam</td>\n",
       "      <td>vFam_3710_9_59</td>\n",
       "      <td>2|vFam</td>\n",
       "    </tr>\n",
       "    <tr>\n",
       "      <th>2</th>\n",
       "      <td>2828600@0_122@26_79</td>\n",
       "      <td>AF023425.1</td>\n",
       "      <td>2</td>\n",
       "      <td>AF023425.1|2828600@0_122@26_79</td>\n",
       "      <td>CLS00001</td>\n",
       "      <td>vFam</td>\n",
       "      <td>vFam_3710_5_63</td>\n",
       "      <td>2|vFam</td>\n",
       "    </tr>\n",
       "    <tr>\n",
       "      <th>3</th>\n",
       "      <td>4883489@68_228@68_115</td>\n",
       "      <td>AF070476.1</td>\n",
       "      <td>2</td>\n",
       "      <td>AF070476.1|4883489@68_228@68_115</td>\n",
       "      <td>CLS00001</td>\n",
       "      <td>vFam</td>\n",
       "      <td>vFam_3710_8_60</td>\n",
       "      <td>2|vFam</td>\n",
       "    </tr>\n",
       "    <tr>\n",
       "      <th>4</th>\n",
       "      <td>4093141@0_150@56_117</td>\n",
       "      <td>AF081782.1</td>\n",
       "      <td>2</td>\n",
       "      <td>AF081782.1|4093141@0_150@56_117</td>\n",
       "      <td>CLS00001</td>\n",
       "      <td>vFam</td>\n",
       "      <td>vFam_3710_6_74</td>\n",
       "      <td>2|vFam</td>\n",
       "    </tr>\n",
       "  </tbody>\n",
       "</table>\n",
       "</div>"
      ],
      "text/plain": [
       "         Protein&RegionID   Accession  RegionType  \\\n",
       "0  253683359@0_150@57_106  AB008336.1           2   \n",
       "1     2828598@0_120@30_75  AF023424.1           2   \n",
       "2     2828600@0_122@26_79  AF023425.1           2   \n",
       "3   4883489@68_228@68_115  AF070476.1           2   \n",
       "4    4093141@0_150@56_117  AF081782.1           2   \n",
       "\n",
       "                              Region   Cluster Analysis     Description  \\\n",
       "0  AB008336.1|253683359@0_150@57_106  CLS00001      NaN             NaN   \n",
       "1     AF023424.1|2828598@0_120@30_75  CLS00001     vFam  vFam_3710_9_59   \n",
       "2     AF023425.1|2828600@0_122@26_79  CLS00001     vFam  vFam_3710_5_63   \n",
       "3   AF070476.1|4883489@68_228@68_115  CLS00001     vFam  vFam_3710_8_60   \n",
       "4    AF081782.1|4093141@0_150@56_117  CLS00001     vFam  vFam_3710_6_74   \n",
       "\n",
       "      rac  \n",
       "0   2|nan  \n",
       "1  2|vFam  \n",
       "2  2|vFam  \n",
       "3  2|vFam  \n",
       "4  2|vFam  "
      ]
     },
     "execution_count": 23,
     "metadata": {},
     "output_type": "execute_result"
    }
   ],
   "source": [
    "regions.head()"
   ]
  },
  {
   "cell_type": "code",
   "execution_count": 31,
   "metadata": {
    "collapsed": false
   },
   "outputs": [
    {
     "data": {
      "text/plain": [
       "array(['2|nan', '2|vFam', '1|IPS', '1|nan', '0|nan'], dtype=object)"
      ]
     },
     "execution_count": 31,
     "metadata": {},
     "output_type": "execute_result"
    }
   ],
   "source": [
    "regions[\"rac\"].unique()"
   ]
  },
  {
   "cell_type": "code",
   "execution_count": 30,
   "metadata": {
    "collapsed": true
   },
   "outputs": [],
   "source": [
    "newrac = {\"0|nan\":\"0|nan\",\"1|nan\":\"1|nan\",\"2|nan\":\"2|nan\",\"2|vFam\":\"2|vFam\"}\n",
    "def getNewRac(x):\n",
    "    if x in newrac:\n",
    "        return newrac[x]\n",
    "    else:\n",
    "        return \"1|IPS\" #IPS := InterProScan\n",
    "regions[\"rac\"] = regions[\"rac\"].apply(getNewRac)"
   ]
  },
  {
   "cell_type": "code",
   "execution_count": 32,
   "metadata": {
    "collapsed": false
   },
   "outputs": [],
   "source": [
    "test = regions[[\"Cluster\",\"rac\"]].copy()\n",
    "test.drop_duplicates(inplace=True)\n",
    "\n",
    "crDict = {} #cr := clusters and regions\n",
    "for cluster in test[\"Cluster\"].unique():\n",
    "    crDict[cluster] = list(test[test[\"Cluster\"]==cluster][\"rac\"])"
   ]
  },
  {
   "cell_type": "code",
   "execution_count": 33,
   "metadata": {
    "collapsed": false
   },
   "outputs": [],
   "source": [
    "#Copy cluster so time is not expended getting this dictionary every time\n",
    "crDictCopy = {}\n",
    "for cluster in crDict:\n",
    "    v = crDict[cluster] \n",
    "    #1|nan and 2|nan are regions without annotation, so they are the same. Therefore there value is changed to r|nan\n",
    "    if '1|nan' in v:\n",
    "        i = v.index('1|nan')\n",
    "        v[i] = 'r|nan'\n",
    "    if '2|nan' in v:\n",
    "        i = v.index('2|nan')\n",
    "        v[i] = 'r|nan'\n",
    "    #Dereplicate r|nan values in the list\n",
    "    v = list(set(v))\n",
    "    crDictCopy[cluster] = v\n",
    "    #Sort list as order doesn't matter. \n",
    "    crDictCopy[cluster].sort()\n",
    "    #Group all annotation ways of a cluster in a single string\n",
    "    v = crDictCopy[cluster]\n",
    "    v = \" & \".join(v)\n",
    "    crDictCopy[cluster] = v\n",
    "#Save dict as DataFrame\n",
    "newTest = pd.DataFrame()\n",
    "#newTest.columns = [\"Cluster\",\"rac\"]\n",
    "newTest[\"Cluster\"] = crDictCopy.keys()\n",
    "newTest[\"rac\"] = crDictCopy.values()"
   ]
  },
  {
   "cell_type": "code",
   "execution_count": 35,
   "metadata": {
    "collapsed": false
   },
   "outputs": [
    {
     "data": {
      "text/plain": [
       "0|nan                             9953\n",
       "r|nan                             8103\n",
       "1|IPS                             5758\n",
       "0|nan & r|nan                     2309\n",
       "2|vFam                            2081\n",
       "2|vFam & r|nan                    1057\n",
       "0|nan & 1|IPS                      578\n",
       "1|IPS & r|nan                      562\n",
       "0|nan & 1|IPS & r|nan              271\n",
       "1|IPS & 2|vFam                     184\n",
       "1|IPS & 2|vFam & r|nan             132\n",
       "0|nan & 2|vFam & r|nan              90\n",
       "0|nan & 1|IPS & 2|vFam & r|nan      44\n",
       "0|nan & 2|vFam                      18\n",
       "0|nan & 1|IPS & 2|vFam              10\n",
       "Name: rac, dtype: int64"
      ]
     },
     "execution_count": 35,
     "metadata": {},
     "output_type": "execute_result"
    }
   ],
   "source": [
    "newTest['rac'].value_counts()"
   ]
  },
  {
   "cell_type": "code",
   "execution_count": 38,
   "metadata": {
    "collapsed": false
   },
   "outputs": [],
   "source": [
    "newTest['rac'].value_counts().to_csv(\"viphogsComposition.csv\",index=True,sep='\\t',header=False)"
   ]
  },
  {
   "cell_type": "code",
   "execution_count": null,
   "metadata": {
    "collapsed": true
   },
   "outputs": [],
   "source": []
  }
 ],
 "metadata": {
  "kernelspec": {
   "display_name": "Python [Root]",
   "language": "python",
   "name": "Python [Root]"
  },
  "language_info": {
   "codemirror_mode": {
    "name": "ipython",
    "version": 2
   },
   "file_extension": ".py",
   "mimetype": "text/x-python",
   "name": "python",
   "nbconvert_exporter": "python",
   "pygments_lexer": "ipython2",
   "version": "2.7.11"
  }
 },
 "nbformat": 4,
 "nbformat_minor": 2
}
