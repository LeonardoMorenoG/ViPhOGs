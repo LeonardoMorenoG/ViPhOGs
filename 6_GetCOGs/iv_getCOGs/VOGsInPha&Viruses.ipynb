{
 "cells": [
  {
   "cell_type": "code",
   "execution_count": 1,
   "metadata": {
    "collapsed": true
   },
   "outputs": [],
   "source": [
    "import numpy as np"
   ]
  },
  {
   "cell_type": "markdown",
   "metadata": {},
   "source": [
    "# Read vogs in both groups (viruses, phages)"
   ]
  },
  {
   "cell_type": "code",
   "execution_count": 2,
   "metadata": {
    "collapsed": false
   },
   "outputs": [
    {
     "name": "stdout",
     "output_type": "stream",
     "text": [
      "6304\n"
     ]
    }
   ],
   "source": [
    "fr = open(\"vogsInPhagesAndViruses.txt\")\n",
    "both = []\n",
    "for line in fr:\n",
    "    both.append(int(line.strip('\\n')))\n",
    "print len(both)"
   ]
  },
  {
   "cell_type": "markdown",
   "metadata": {},
   "source": [
    "# Read taxonomy annotation File"
   ]
  },
  {
   "cell_type": "code",
   "execution_count": 3,
   "metadata": {
    "collapsed": false
   },
   "outputs": [
    {
     "name": "stdout",
     "output_type": "stream",
     "text": [
      "13999\n"
     ]
    }
   ],
   "source": [
    "fr = open(\"/home/leonardo/Documents/Projects/VOGss/7_DBtests/iv_queries/taxonomyAnotation.csv\")\n",
    "accessions = {}\n",
    "for line in fr:\n",
    "    line = line.strip('\\n').split(',')\n",
    "    accession = line[0]\n",
    "    taxPath = line[1:] #taxPath means taxonomy path\n",
    "    accessions[accession] = taxPath\n",
    "print len(accessions)\n",
    "\n",
    "#A dictionary of taxonomic labels allowed. \n",
    "taxLabels = {\"subspecies\":0,\"species\":1,\"subgenus\":2,\"genus\":3,\"subfamily\":4,\"family\":5,\"order\":6,\"type\":7}"
   ]
  },
  {
   "cell_type": "markdown",
   "metadata": {},
   "source": [
    "### Complete NAs in taxonomy"
   ]
  },
  {
   "cell_type": "code",
   "execution_count": 4,
   "metadata": {
    "collapsed": false
   },
   "outputs": [
    {
     "name": "stdout",
     "output_type": "stream",
     "text": [
      "13999\n"
     ]
    }
   ],
   "source": [
    "for accession in accessions:\n",
    "    annotation = accessions[accession]\n",
    "    for i in range(8):\n",
    "        if annotation[i] == 'NA' and i < 7:\n",
    "            annotation[i] = \"NA\" + \"_\" + annotation[i+1]\n",
    "    accessions[accession] = annotation    \n",
    "print len(accessions)"
   ]
  },
  {
   "cell_type": "markdown",
   "metadata": {},
   "source": [
    "# Read VOGs file (by VOG)"
   ]
  },
  {
   "cell_type": "code",
   "execution_count": 5,
   "metadata": {
    "collapsed": true
   },
   "outputs": [],
   "source": [
    "fr = open(\"genomesVsClusters.sortedByCluster.greaterThan2.tab\")\n",
    "clusters = {}\n",
    "\n",
    "for line in fr:\n",
    "    line = line.strip('\\n').split('\\t')\n",
    "    genome = line[0].split('.')[0]\n",
    "    cluster = int(line[1].split('CLS')[1])\n",
    "    if cluster in clusters:\n",
    "        genomes = clusters[cluster]\n",
    "        if genome in genomes:\n",
    "            genomes[genome] = genomes[genome] + 1\n",
    "        else:\n",
    "            genomes[genome] = 1\n",
    "        clusters[cluster] = genomes\n",
    "    else:\n",
    "        genomes = {}\n",
    "        genomes[genome] = 1\n",
    "        clusters[cluster] = genomes\n",
    "fr.close()"
   ]
  },
  {
   "cell_type": "code",
   "execution_count": 18,
   "metadata": {
    "collapsed": false
   },
   "outputs": [],
   "source": [
    "vogsTaxonomy = {}\n",
    "allTaxLabels = set([])\n",
    "for vog in both:\n",
    "    for genome in clusters[vog]:\n",
    "        if vog in vogsTaxonomy:\n",
    "            vogsTaxonomy[vog] = vogsTaxonomy[vog].union([accessions[genome][taxLabels[\"family\"]]]) \n",
    "        else:\n",
    "            vogsTaxonomy[vog] = set([accessions[genome][taxLabels[\"family\"]]])\n",
    "        allTaxLabels = allTaxLabels.union([accessions[genome][taxLabels[\"family\"]]])\n",
    "allTaxLabels = list(allTaxLabels)"
   ]
  },
  {
   "cell_type": "code",
   "execution_count": 19,
   "metadata": {
    "collapsed": false
   },
   "outputs": [],
   "source": [
    "taxVOGsBoth = np.zeros((len(both),len(allTaxLabels)))\n",
    "i=0\n",
    "for vog in vogsTaxonomy:\n",
    "    for tax in vogsTaxonomy[vog]:\n",
    "        taxVOGsBoth[i][allTaxLabels.index(tax)] += 1\n",
    "    i += 1\n",
    "\n",
    "fw = open(\"taxVOGsBothFamily.tab\",\"w\")\n",
    "fw.write(\"x\\t\")\n",
    "for tax in allTaxLabels:\n",
    "    fw.write(tax + '\\t')\n",
    "fw.write('\\n')\n",
    "for i in range(len(vogsTaxonomy.keys())):\n",
    "    fw.write(str(vogsTaxonomy.keys()[i]) + '\\t')\n",
    "    for value in taxVOGsBoth[i]:\n",
    "        fw.write(str(value) + '\\t')\n",
    "    fw.write('\\n')\n",
    "fw.close()"
   ]
  },
  {
   "cell_type": "markdown",
   "metadata": {},
   "source": [
    "### sed ':a;N;$!ba;s/\\t\\n/\\n/g' taxVOGsBothOrder.tab > taxVOGsBothOrder.tab.mod\n",
    "### modifica el archivo de salida para eliminar el 'ultimo tab"
   ]
  },
  {
   "cell_type": "code",
   "execution_count": 21,
   "metadata": {
    "collapsed": false
   },
   "outputs": [
    {
     "data": {
      "text/plain": [
       "68"
      ]
     },
     "execution_count": 21,
     "metadata": {},
     "output_type": "execute_result"
    }
   ],
   "source": [
    "len(allTaxLabels)"
   ]
  },
  {
   "cell_type": "code",
   "execution_count": null,
   "metadata": {
    "collapsed": true
   },
   "outputs": [],
   "source": []
  }
 ],
 "metadata": {
  "kernelspec": {
   "display_name": "Python [Root]",
   "language": "python",
   "name": "Python [Root]"
  },
  "language_info": {
   "codemirror_mode": {
    "name": "ipython",
    "version": 2
   },
   "file_extension": ".py",
   "mimetype": "text/x-python",
   "name": "python",
   "nbconvert_exporter": "python",
   "pygments_lexer": "ipython2",
   "version": "2.7.11"
  }
 },
 "nbformat": 4,
 "nbformat_minor": 0
}
