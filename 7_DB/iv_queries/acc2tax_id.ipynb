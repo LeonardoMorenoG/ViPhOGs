{
 "cells": [
  {
   "cell_type": "code",
   "execution_count": 1,
   "metadata": {
    "collapsed": true
   },
   "outputs": [],
   "source": [
    "import subprocess"
   ]
  },
  {
   "cell_type": "code",
   "execution_count": 21,
   "metadata": {
    "collapsed": false
   },
   "outputs": [],
   "source": [
    "def acc2taxid(acc):\n",
    "    search = subprocess.Popen([\"esearch\",\"-db\",\"nuccore\",\"-query\",acc],\n",
    "                              stdout=subprocess.PIPE)\n",
    "    fetch = subprocess.Popen([\"efetch\",\"-format\",\"docsum\",\"-db\",\"taxonomy\"],\n",
    "                             stdin=search.stdout,stdout=subprocess.PIPE)\n",
    "    extract = subprocess.Popen([\"xtract\",\"-pattern\",\"DocumentSummary\",\"-element\",\"Title\",\"Caption\",\"TaxId\"],\n",
    "                               stdin=fetch.stdout,stdout=subprocess.PIPE)\n",
    "    output = \"\"\n",
    "    for x in extract.stdout:\n",
    "        output += x\n",
    "    return output"
   ]
  },
  {
   "cell_type": "code",
   "execution_count": 22,
   "metadata": {
    "collapsed": true
   },
   "outputs": [],
   "source": [
    "fr = open(\"REMOVETHISFILE.csv\")\n",
    "accession = []\n",
    "for line in fr:\n",
    "    accession.append(line.strip(\"\\n\"))\n",
    "fr.close()"
   ]
  },
  {
   "cell_type": "code",
   "execution_count": 26,
   "metadata": {
    "collapsed": false
   },
   "outputs": [],
   "source": [
    "fw = open(\"REMOVETHISFILE.taxids.csv\",\"w\")\n",
    "for acc in accession:\n",
    "    print >> fw,acc2taxid(acc)\n",
    "fw.close()"
   ]
  },
  {
   "cell_type": "code",
   "execution_count": null,
   "metadata": {
    "collapsed": true
   },
   "outputs": [],
   "source": []
  }
 ],
 "metadata": {
  "kernelspec": {
   "display_name": "Python [Root]",
   "language": "python",
   "name": "Python [Root]"
  },
  "language_info": {
   "codemirror_mode": {
    "name": "ipython",
    "version": 2
   },
   "file_extension": ".py",
   "mimetype": "text/x-python",
   "name": "python",
   "nbconvert_exporter": "python",
   "pygments_lexer": "ipython2",
   "version": "2.7.11"
  }
 },
 "nbformat": 4,
 "nbformat_minor": 2
}
