{
 "cells": [
  {
   "cell_type": "code",
   "execution_count": 1,
   "metadata": {
    "collapsed": true
   },
   "outputs": [],
   "source": [
    "import pandas as pd"
   ]
  },
  {
   "cell_type": "markdown",
   "metadata": {},
   "source": [
    "#### Import files "
   ]
  },
  {
   "cell_type": "code",
   "execution_count": 2,
   "metadata": {
    "collapsed": false
   },
   "outputs": [
    {
     "data": {
      "text/html": [
       "<div>\n",
       "<table border=\"1\" class=\"dataframe\">\n",
       "  <thead>\n",
       "    <tr style=\"text-align: right;\">\n",
       "      <th></th>\n",
       "      <th>Virus</th>\n",
       "      <th>Length (bp)</th>\n",
       "      <th>C/L</th>\n",
       "      <th>Accession</th>\n",
       "      <th>GI</th>\n",
       "      <th>Representative</th>\n",
       "      <th>RepClusters</th>\n",
       "      <th>RepSL</th>\n",
       "      <th>Host</th>\n",
       "    </tr>\n",
       "  </thead>\n",
       "  <tbody>\n",
       "    <tr>\n",
       "      <th>0</th>\n",
       "      <td>Pseudomonas aeruginosa phage phi CTX DNA, com...</td>\n",
       "      <td>35559</td>\n",
       "      <td>circular</td>\n",
       "      <td>Y13918</td>\n",
       "      <td>3688477</td>\n",
       "      <td>True</td>\n",
       "      <td>NaN</td>\n",
       "      <td>NaN</td>\n",
       "      <td>Prokaryote</td>\n",
       "    </tr>\n",
       "    <tr>\n",
       "      <th>1</th>\n",
       "      <td>Bacteriophage phiK complete genome</td>\n",
       "      <td>6089</td>\n",
       "      <td>linear</td>\n",
       "      <td>X60323</td>\n",
       "      <td>1478118</td>\n",
       "      <td>True</td>\n",
       "      <td>NaN</td>\n",
       "      <td>NaN</td>\n",
       "      <td>Prokaryote</td>\n",
       "    </tr>\n",
       "    <tr>\n",
       "      <th>2</th>\n",
       "      <td>Microviridae Fen7940_21, complete genome</td>\n",
       "      <td>4453</td>\n",
       "      <td>circular</td>\n",
       "      <td>NC_027648</td>\n",
       "      <td>906476420</td>\n",
       "      <td>True</td>\n",
       "      <td>True</td>\n",
       "      <td>NaN</td>\n",
       "      <td>Prokaryote</td>\n",
       "    </tr>\n",
       "    <tr>\n",
       "      <th>3</th>\n",
       "      <td>Microviridae Fen7918_21, complete genome</td>\n",
       "      <td>4199</td>\n",
       "      <td>circular</td>\n",
       "      <td>NC_027647</td>\n",
       "      <td>906476411</td>\n",
       "      <td>True</td>\n",
       "      <td>True</td>\n",
       "      <td>NaN</td>\n",
       "      <td>Prokaryote</td>\n",
       "    </tr>\n",
       "    <tr>\n",
       "      <th>4</th>\n",
       "      <td>Microviridae Fen7895_21, complete genome</td>\n",
       "      <td>4424</td>\n",
       "      <td>circular</td>\n",
       "      <td>NC_027646</td>\n",
       "      <td>906476401</td>\n",
       "      <td>True</td>\n",
       "      <td>True</td>\n",
       "      <td>NaN</td>\n",
       "      <td>Prokaryote</td>\n",
       "    </tr>\n",
       "  </tbody>\n",
       "</table>\n",
       "</div>"
      ],
      "text/plain": [
       "                                               Virus  Length (bp)       C/L  \\\n",
       "0   Pseudomonas aeruginosa phage phi CTX DNA, com...        35559  circular   \n",
       "1                 Bacteriophage phiK complete genome         6089    linear   \n",
       "2           Microviridae Fen7940_21, complete genome         4453  circular   \n",
       "3           Microviridae Fen7918_21, complete genome         4199  circular   \n",
       "4           Microviridae Fen7895_21, complete genome         4424  circular   \n",
       "\n",
       "   Accession         GI Representative RepClusters RepSL        Host  \n",
       "0     Y13918    3688477           True         NaN   NaN  Prokaryote  \n",
       "1     X60323    1478118           True         NaN   NaN  Prokaryote  \n",
       "2  NC_027648  906476420           True        True   NaN  Prokaryote  \n",
       "3  NC_027647  906476411           True        True   NaN  Prokaryote  \n",
       "4  NC_027646  906476401           True        True   NaN  Prokaryote  "
      ]
     },
     "execution_count": 2,
     "metadata": {},
     "output_type": "execute_result"
    }
   ],
   "source": [
    "finalGenomes = pd.read_csv(\"../../4_FinalGenomes/summaryFinalGenomes.csv\",header=0,sep='\\t')\n",
    "finalGenomes.head()"
   ]
  },
  {
   "cell_type": "code",
   "execution_count": 3,
   "metadata": {
    "collapsed": false
   },
   "outputs": [
    {
     "data": {
      "text/html": [
       "<div>\n",
       "<table border=\"1\" class=\"dataframe\">\n",
       "  <thead>\n",
       "    <tr style=\"text-align: right;\">\n",
       "      <th></th>\n",
       "      <th>Accession</th>\n",
       "      <th>Species</th>\n",
       "      <th>Genus</th>\n",
       "      <th>Subfamily</th>\n",
       "      <th>Family</th>\n",
       "      <th>Order</th>\n",
       "      <th>type</th>\n",
       "      <th>NN</th>\n",
       "    </tr>\n",
       "  </thead>\n",
       "  <tbody>\n",
       "    <tr>\n",
       "      <th>0</th>\n",
       "      <td>FJ794068</td>\n",
       "      <td>WU Polyomavirus</td>\n",
       "      <td>Polyomavirus</td>\n",
       "      <td>NaN</td>\n",
       "      <td>Polyomaviridae</td>\n",
       "      <td>NaN</td>\n",
       "      <td>dsDNA viruses</td>\n",
       "      <td>no RNA stage</td>\n",
       "    </tr>\n",
       "    <tr>\n",
       "      <th>1</th>\n",
       "      <td>GU048663</td>\n",
       "      <td>Human bocavirus 2</td>\n",
       "      <td>Bocaparvovirus</td>\n",
       "      <td>Parvovirinae</td>\n",
       "      <td>Parvoviridae</td>\n",
       "      <td>NaN</td>\n",
       "      <td>ssDNA viruses</td>\n",
       "      <td>NaN</td>\n",
       "    </tr>\n",
       "    <tr>\n",
       "      <th>2</th>\n",
       "      <td>NC_003747</td>\n",
       "      <td>Ryegrass mottle virus</td>\n",
       "      <td>Sobemovirus</td>\n",
       "      <td>NaN</td>\n",
       "      <td>NaN</td>\n",
       "      <td>NaN</td>\n",
       "      <td>ssRNA viruses</td>\n",
       "      <td>NaN</td>\n",
       "    </tr>\n",
       "    <tr>\n",
       "      <th>3</th>\n",
       "      <td>NC_011500</td>\n",
       "      <td>Rotavirus A</td>\n",
       "      <td>Rotavirus</td>\n",
       "      <td>Sedoreovirinae</td>\n",
       "      <td>Reoviridae</td>\n",
       "      <td>NaN</td>\n",
       "      <td>dsRNA viruses</td>\n",
       "      <td>NaN</td>\n",
       "    </tr>\n",
       "    <tr>\n",
       "      <th>4</th>\n",
       "      <td>JN226758</td>\n",
       "      <td>Human mastadenovirus D</td>\n",
       "      <td>Mastadenovirus</td>\n",
       "      <td>NaN</td>\n",
       "      <td>Adenoviridae</td>\n",
       "      <td>NaN</td>\n",
       "      <td>dsDNA viruses</td>\n",
       "      <td>no RNA stage</td>\n",
       "    </tr>\n",
       "  </tbody>\n",
       "</table>\n",
       "</div>"
      ],
      "text/plain": [
       "   Accession                 Species           Genus       Subfamily  \\\n",
       "0   FJ794068         WU Polyomavirus    Polyomavirus             NaN   \n",
       "1   GU048663       Human bocavirus 2  Bocaparvovirus    Parvovirinae   \n",
       "2  NC_003747   Ryegrass mottle virus     Sobemovirus             NaN   \n",
       "3  NC_011500             Rotavirus A       Rotavirus  Sedoreovirinae   \n",
       "4   JN226758  Human mastadenovirus D  Mastadenovirus             NaN   \n",
       "\n",
       "           Family Order           type             NN  \n",
       "0  Polyomaviridae   NaN  dsDNA viruses   no RNA stage  \n",
       "1    Parvoviridae   NaN  ssDNA viruses            NaN  \n",
       "2             NaN   NaN  ssRNA viruses            NaN  \n",
       "3      Reoviridae   NaN  dsRNA viruses            NaN  \n",
       "4    Adenoviridae   NaN  dsDNA viruses   no RNA stage  "
      ]
     },
     "execution_count": 3,
     "metadata": {},
     "output_type": "execute_result"
    }
   ],
   "source": [
    "taxonomy = pd.read_csv(\"taxonomyAnotation.csv\",header=0)\n",
    "taxonomy.head()"
   ]
  },
  {
   "cell_type": "code",
   "execution_count": 4,
   "metadata": {
    "collapsed": false
   },
   "outputs": [
    {
     "data": {
      "text/plain": [
       "array(['dsDNA viruses', 'ssDNA viruses', 'ssRNA viruses', 'dsRNA viruses',\n",
       "       'Retro-transcribing viruses', 'environmental samples', 'Satellites',\n",
       "       'unclassified phages', 'unclassified viruses',\n",
       "       'unclassified archaeal viruses', 'unclassified virophages'], dtype=object)"
      ]
     },
     "execution_count": 4,
     "metadata": {},
     "output_type": "execute_result"
    }
   ],
   "source": [
    "taxonomy[\"type\"].unique()"
   ]
  },
  {
   "cell_type": "markdown",
   "metadata": {},
   "source": [
    "#### Merge information"
   ]
  },
  {
   "cell_type": "code",
   "execution_count": 5,
   "metadata": {
    "collapsed": false
   },
   "outputs": [
    {
     "name": "stdout",
     "output_type": "stream",
     "text": [
      "(14057, 16)\n"
     ]
    }
   ],
   "source": [
    "#merge tables\n",
    "reps = finalGenomes.merge(taxonomy,how=\"left\",left_on=\"Accession\",right_on=\"Accession\")\n",
    "#keep only representatives\n",
    "reps = reps[reps[\"Representative\"]==True].copy()\n",
    "print reps.shape"
   ]
  },
  {
   "cell_type": "code",
   "execution_count": 6,
   "metadata": {
    "collapsed": false
   },
   "outputs": [],
   "source": [
    "fw = open(\"REMOVETHISFILE.csv\",\"w\")\n",
    "for x in reps[reps[\"type\"].isnull()][\"Accession\"]:\n",
    "    print >> fw,x\n",
    "fw.close()"
   ]
  },
  {
   "cell_type": "code",
   "execution_count": 35,
   "metadata": {
    "collapsed": false
   },
   "outputs": [
    {
     "name": "stdout",
     "output_type": "stream",
     "text": [
      " Pseudomonas phage vB_PaeM_C1-14_Ab28, complete genome\n",
      " Cloning vector pEAV030 containing cDNA of Equine arteritis virus, complete genome\n",
      " Cripavirus NB-1/2011/HUN, complete genome\n",
      " Sauropus leaf curl disease associated DNA beta, complete genome\n",
      " Arabis mosaic virus small satellite RNA barley/CHE/1991 RNA3-VI, complete genome\n",
      " New World begomovirus associated satellite DNA isolate 177H3, complete genome\n",
      " Ipomoea begomovirus satellite DNA beta, complete genome\n",
      " Diadromus pulchellus ascovirus 4a, complete genome\n",
      " Campoletis sonorensis ichnovirus segment D, complete genome\n",
      " Campoletis sonorensis ichnovirus segment M, complete genome\n",
      " Campoletis sonorensis ichnovirus segment I2, complete genome\n",
      " Campoletis sonorensis ichnovirus segment H, complete genome\n",
      " Malvastrum leaf curl virus-associated defective DNA beta, complete genome\n",
      " Chum salmon reovirus CS segment 5, complete genome\n",
      " Begomovirus-associated DNA-III, complete genome\n",
      " Cotesia congregata virus complete genome, segment Circle21\n",
      " Bombyx mori cypovirus 1 satellite RNA, complete genome\n",
      " Beet black scorch virus satellite RNA, complete genome\n",
      " Tobacco bushy top virus satellite-like RNA, complete genome\n",
      " Turnip crinkle virus virulent satellite RNA C, complete genome\n",
      " Cucurbita yellow vein virus-associated DNA beta, complete genome\n",
      " Puumala virus segment L, complete genome\n",
      " Hollyhock leaf crumple virus satellite DNA, complete genome\n",
      " Satellites of Trichomonas vaginalis T1 virus, complete genome\n",
      " Turnip crinkle virus satellite RNA, complete genome\n",
      " Velvet tobacco mottle virus Satellite RNA, complete genome\n",
      " Tobacco ringspot virus satellite RNA, complete genome\n",
      " Peanut stunt virus satellite RNA, complete genome\n",
      " Pea enation mosaic virus satellite RNA, complete genome\n",
      " Subterranean clover mottle virus satellite RNA, complete genome\n",
      " Solanum nodiflorum mottle virus satellite RNA, complete genome\n",
      " Tomato bushy stunt virus satellite RNA B1, complete genome\n",
      " Cereal yellow dwarf virus-RPV satellite RNA, complete genome\n",
      " Rice yellow mottle virus satellite, complete genome\n",
      " Discula destructiva virus 1 RNA 4, complete genome\n",
      " Discula destructiva virus 1 segment 3, complete genome\n",
      " Groundnut rosette virus satellite RNA, complete genome\n",
      " Cucumber mosaic virus satellite RNA, complete genome\n",
      " Arabis mosaic virus small satellite RNA, complete genome\n",
      " Uncultured marine virus clone SI04620, complete genome\n",
      " Uncultured marine virus clone SI04557, complete genome\n",
      " Uncultured marine virus clone SI03958, complete genome\n",
      " Uncultured marine virus clone SI03914, complete genome\n",
      " Uncultured marine virus clone SI03363, complete genome\n",
      " Uncultured marine virus clone SI02686, complete genome\n",
      " Uncultured marine virus clone SI01134, complete genome\n",
      " Uncultured marine virus clone SI01120, complete genome\n",
      " Uncultured marine virus clone SI00368, complete genome\n",
      " Uncultured marine virus clone GOM03244, complete genome\n",
      " Uncultured marine virus clone GOM02930, complete genome\n",
      " Uncultured marine virus clone GOM02891, complete genome\n",
      " Uncultured marine virus clone GOM00567, complete genome\n",
      " Uncultured marine virus clone GOM00472, complete genome\n",
      " Uncultured marine virus clone GOM00430, complete genome\n",
      " Beet black scorch virus satellite RNA isolate Xinjiang, complete genome\n",
      " Acanthamoeba castellanii mamavirus strain Hal-V, complete genome\n",
      " Beet black scorch virus satellite RNA, complete genome, isolate Ir-Bj1sat\n",
      " Cucumber mosaic virus satellite RNA, complete genome\n"
     ]
    }
   ],
   "source": [
    "for x in reps[reps[\"type\"].isnull()][\"Virus\"]:\n",
    "    print x"
   ]
  },
  {
   "cell_type": "code",
   "execution_count": null,
   "metadata": {
    "collapsed": true
   },
   "outputs": [],
   "source": []
  }
 ],
 "metadata": {
  "kernelspec": {
   "display_name": "Python [Root]",
   "language": "python",
   "name": "Python [Root]"
  },
  "language_info": {
   "codemirror_mode": {
    "name": "ipython",
    "version": 2
   },
   "file_extension": ".py",
   "mimetype": "text/x-python",
   "name": "python",
   "nbconvert_exporter": "python",
   "pygments_lexer": "ipython2",
   "version": "2.7.11"
  }
 },
 "nbformat": 4,
 "nbformat_minor": 2
}
