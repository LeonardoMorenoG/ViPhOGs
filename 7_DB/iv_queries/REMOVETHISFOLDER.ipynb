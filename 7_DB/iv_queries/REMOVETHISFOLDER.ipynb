{
 "cells": [
  {
   "cell_type": "code",
   "execution_count": 3,
   "metadata": {
    "collapsed": true
   },
   "outputs": [],
   "source": [
    "import MySQLdb\n",
    "import pandas as pd"
   ]
  },
  {
   "cell_type": "code",
   "execution_count": 2,
   "metadata": {
    "collapsed": true
   },
   "outputs": [],
   "source": [
    "usr = \"root\"\n",
    "xxx = \"jl201130674\"\n",
    "hst = \"localhost\"\n",
    "adb = \"viruses\"\n",
    "\n",
    "db = MySQLdb.connect(user=usr, passwd=xxx, host=hst, db=adb)"
   ]
  },
  {
   "cell_type": "code",
   "execution_count": 5,
   "metadata": {
    "collapsed": false
   },
   "outputs": [
    {
     "data": {
      "text/html": [
       "<div>\n",
       "<table border=\"1\" class=\"dataframe\">\n",
       "  <thead>\n",
       "    <tr style=\"text-align: right;\">\n",
       "      <th></th>\n",
       "      <th>Name</th>\n",
       "      <th>Accession</th>\n",
       "      <th>TaxID</th>\n",
       "    </tr>\n",
       "  </thead>\n",
       "  <tbody>\n",
       "    <tr>\n",
       "      <th>0</th>\n",
       "      <td>Pseudomonas phage vB_PaeM_C1-14_Ab28, complete...</td>\n",
       "      <td>NC_026600</td>\n",
       "      <td>1548917</td>\n",
       "    </tr>\n",
       "    <tr>\n",
       "      <th>1</th>\n",
       "      <td>Cloning vector pEAV030 containing cDNA of Equi...</td>\n",
       "      <td>Y07862</td>\n",
       "      <td>57026</td>\n",
       "    </tr>\n",
       "    <tr>\n",
       "      <th>2</th>\n",
       "      <td>Cripavirus NB-1/2011/HUN, complete genome</td>\n",
       "      <td>NC_025219</td>\n",
       "      <td>1541211</td>\n",
       "    </tr>\n",
       "    <tr>\n",
       "      <th>3</th>\n",
       "      <td>Sauropus leaf curl disease associated DNA beta...</td>\n",
       "      <td>NC_018671</td>\n",
       "      <td>1234171</td>\n",
       "    </tr>\n",
       "    <tr>\n",
       "      <th>4</th>\n",
       "      <td>Arabis mosaic virus small satellite RNA barley...</td>\n",
       "      <td>NC_018451</td>\n",
       "      <td>857288</td>\n",
       "    </tr>\n",
       "  </tbody>\n",
       "</table>\n",
       "</div>"
      ],
      "text/plain": [
       "                                                Name  Accession    TaxID\n",
       "0  Pseudomonas phage vB_PaeM_C1-14_Ab28, complete...  NC_026600  1548917\n",
       "1  Cloning vector pEAV030 containing cDNA of Equi...     Y07862    57026\n",
       "2          Cripavirus NB-1/2011/HUN, complete genome  NC_025219  1541211\n",
       "3  Sauropus leaf curl disease associated DNA beta...  NC_018671  1234171\n",
       "4  Arabis mosaic virus small satellite RNA barley...  NC_018451   857288"
      ]
     },
     "execution_count": 5,
     "metadata": {},
     "output_type": "execute_result"
    }
   ],
   "source": [
    "#read accessions\n",
    "faltantes = pd.read_csv(\"REMOVETHISFILE.taxids.csv\",header=None,sep='\\t')\n",
    "faltantes.columns = [\"Name\",\"Accession\",\"TaxID\"]\n",
    "faltantes.head()"
   ]
  },
  {
   "cell_type": "code",
   "execution_count": 6,
   "metadata": {
    "collapsed": true
   },
   "outputs": [],
   "source": [
    "# 2. Get the taxonomy annotation for each accession"
   ]
  },
  {
   "cell_type": "code",
   "execution_count": 8,
   "metadata": {
    "collapsed": false
   },
   "outputs": [],
   "source": [
    "tree = []\n",
    "taxons = list(faltantes[\"TaxID\"])\n",
    "for taxon in taxons:\n",
    "    cursor = db.cursor()\n",
    "    q = \"call path_to_root_node(\" + str(taxon) + \")\"\n",
    "    query = (q)\n",
    "    cursor.execute(query)\n",
    "    for t in cursor:\n",
    "        tree.append(t)\n",
    "    cursor.close()"
   ]
  },
  {
   "cell_type": "code",
   "execution_count": 9,
   "metadata": {
    "collapsed": false
   },
   "outputs": [
    {
     "data": {
      "text/plain": [
       "[(None,),\n",
       " (None,),\n",
       " (None,),\n",
       " (None,),\n",
       " (None,),\n",
       " (None,),\n",
       " (None,),\n",
       " (None,),\n",
       " (None,),\n",
       " (None,)]"
      ]
     },
     "execution_count": 9,
     "metadata": {},
     "output_type": "execute_result"
    }
   ],
   "source": [
    "tree"
   ]
  },
  {
   "cell_type": "code",
   "execution_count": null,
   "metadata": {
    "collapsed": true
   },
   "outputs": [],
   "source": []
  }
 ],
 "metadata": {
  "kernelspec": {
   "display_name": "Python [Root]",
   "language": "python",
   "name": "Python [Root]"
  },
  "language_info": {
   "codemirror_mode": {
    "name": "ipython",
    "version": 2
   },
   "file_extension": ".py",
   "mimetype": "text/x-python",
   "name": "python",
   "nbconvert_exporter": "python",
   "pygments_lexer": "ipython2",
   "version": "2.7.11"
  }
 },
 "nbformat": 4,
 "nbformat_minor": 2
}
