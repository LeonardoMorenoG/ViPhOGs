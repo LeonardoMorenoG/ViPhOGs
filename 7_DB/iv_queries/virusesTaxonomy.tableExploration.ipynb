{
 "cells": [
  {
   "cell_type": "markdown",
   "metadata": {},
   "source": [
    "## 0. Libraries"
   ]
  },
  {
   "cell_type": "code",
   "execution_count": 1,
   "metadata": {
    "collapsed": false
   },
   "outputs": [],
   "source": [
    "import pandas as pd\n",
    "import numpy as np\n",
    "import seaborn as sns\n",
    "import matplotlib.pyplot as plt\n",
    "from matplotlib import ticker as mticker\n",
    "%matplotlib inline\n",
    "#import plotly\n",
    "#import plotly.graph_objs as go\n",
    "#plotly.offline.init_notebook_mode() # run at the start of every notebook\n",
    "#import plotly.plotly as py\n",
    "#py.sign_in('lemoga.inv', '5mjpk13cyv')"
   ]
  },
  {
   "cell_type": "code",
   "execution_count": 2,
   "metadata": {
    "collapsed": false
   },
   "outputs": [
    {
     "data": {
      "text/html": [
       "<div>\n",
       "<table border=\"1\" class=\"dataframe\">\n",
       "  <thead>\n",
       "    <tr style=\"text-align: right;\">\n",
       "      <th></th>\n",
       "      <th>Accession</th>\n",
       "      <th>Species</th>\n",
       "      <th>Genus</th>\n",
       "      <th>Subfamily</th>\n",
       "      <th>Family</th>\n",
       "      <th>Order</th>\n",
       "      <th>type</th>\n",
       "      <th>NN</th>\n",
       "    </tr>\n",
       "  </thead>\n",
       "  <tbody>\n",
       "    <tr>\n",
       "      <th>0</th>\n",
       "      <td>FJ794068</td>\n",
       "      <td>WU Polyomavirus</td>\n",
       "      <td>Polyomavirus</td>\n",
       "      <td>NaN</td>\n",
       "      <td>Polyomaviridae</td>\n",
       "      <td>NaN</td>\n",
       "      <td>dsDNA viruses</td>\n",
       "      <td>no RNA stage</td>\n",
       "    </tr>\n",
       "    <tr>\n",
       "      <th>1</th>\n",
       "      <td>GU048663</td>\n",
       "      <td>Human bocavirus 2</td>\n",
       "      <td>Bocaparvovirus</td>\n",
       "      <td>Parvovirinae</td>\n",
       "      <td>Parvoviridae</td>\n",
       "      <td>NaN</td>\n",
       "      <td>ssDNA viruses</td>\n",
       "      <td>NaN</td>\n",
       "    </tr>\n",
       "    <tr>\n",
       "      <th>2</th>\n",
       "      <td>NC_003747</td>\n",
       "      <td>Ryegrass mottle virus</td>\n",
       "      <td>Sobemovirus</td>\n",
       "      <td>NaN</td>\n",
       "      <td>NaN</td>\n",
       "      <td>NaN</td>\n",
       "      <td>ssRNA viruses</td>\n",
       "      <td>NaN</td>\n",
       "    </tr>\n",
       "    <tr>\n",
       "      <th>3</th>\n",
       "      <td>NC_011500</td>\n",
       "      <td>Rotavirus A</td>\n",
       "      <td>Rotavirus</td>\n",
       "      <td>Sedoreovirinae</td>\n",
       "      <td>Reoviridae</td>\n",
       "      <td>NaN</td>\n",
       "      <td>dsRNA viruses</td>\n",
       "      <td>NaN</td>\n",
       "    </tr>\n",
       "    <tr>\n",
       "      <th>4</th>\n",
       "      <td>JN226758</td>\n",
       "      <td>Human mastadenovirus D</td>\n",
       "      <td>Mastadenovirus</td>\n",
       "      <td>NaN</td>\n",
       "      <td>Adenoviridae</td>\n",
       "      <td>NaN</td>\n",
       "      <td>dsDNA viruses</td>\n",
       "      <td>no RNA stage</td>\n",
       "    </tr>\n",
       "  </tbody>\n",
       "</table>\n",
       "</div>"
      ],
      "text/plain": [
       "   Accession                 Species           Genus       Subfamily  \\\n",
       "0   FJ794068         WU Polyomavirus    Polyomavirus             NaN   \n",
       "1   GU048663       Human bocavirus 2  Bocaparvovirus    Parvovirinae   \n",
       "2  NC_003747   Ryegrass mottle virus     Sobemovirus             NaN   \n",
       "3  NC_011500             Rotavirus A       Rotavirus  Sedoreovirinae   \n",
       "4   JN226758  Human mastadenovirus D  Mastadenovirus             NaN   \n",
       "\n",
       "           Family Order           type             NN  \n",
       "0  Polyomaviridae   NaN  dsDNA viruses   no RNA stage  \n",
       "1    Parvoviridae   NaN  ssDNA viruses            NaN  \n",
       "2             NaN   NaN  ssRNA viruses            NaN  \n",
       "3      Reoviridae   NaN  dsRNA viruses            NaN  \n",
       "4    Adenoviridae   NaN  dsDNA viruses   no RNA stage  "
      ]
     },
     "execution_count": 2,
     "metadata": {},
     "output_type": "execute_result"
    }
   ],
   "source": [
    "taxonomy = pd.read_csv(\"taxonomyAnotation.csv\")\n",
    "taxonomy.head()"
   ]
  },
  {
   "cell_type": "code",
   "execution_count": 10,
   "metadata": {
    "collapsed": false
   },
   "outputs": [
    {
     "data": {
      "text/plain": [
       "array(['Tibrovirus', nan, 'Lyssavirus', 'Cytorhabdovirus', 'Ephemerovirus',\n",
       "       'Sprivivirus', 'Nucleorhabdovirus', 'Novirhabdovirus',\n",
       "       'Vesiculovirus', 'Perhabdovirus', 'Tupavirus', 'Sigmavirus',\n",
       "       'Bracorhabdovirus'], dtype=object)"
      ]
     },
     "execution_count": 10,
     "metadata": {},
     "output_type": "execute_result"
    }
   ],
   "source": [
    "taxonomy[taxonomy[\"Family\"]==\"Rhabdoviridae\"][\"Genus\"].unique()"
   ]
  },
  {
   "cell_type": "code",
   "execution_count": 3,
   "metadata": {
    "collapsed": false
   },
   "outputs": [
    {
     "data": {
      "text/plain": [
       "(13999, 8)"
      ]
     },
     "execution_count": 3,
     "metadata": {},
     "output_type": "execute_result"
    }
   ],
   "source": [
    "#How many accessions include the taxonomy table?\n",
    "taxonomy.shape"
   ]
  },
  {
   "cell_type": "code",
   "execution_count": 4,
   "metadata": {
    "collapsed": false
   },
   "outputs": [
    {
     "data": {
      "text/plain": [
       "array(['dsDNA viruses', 'ssDNA viruses', 'ssRNA viruses', 'dsRNA viruses',\n",
       "       'Retro-transcribing viruses', 'environmental samples', 'Satellites',\n",
       "       'unclassified phages', 'unclassified viruses',\n",
       "       'unclassified archaeal viruses', 'unclassified virophages'], dtype=object)"
      ]
     },
     "execution_count": 4,
     "metadata": {},
     "output_type": "execute_result"
    }
   ],
   "source": [
    "#Which types of viruses are included?\n",
    "taxonomy[\"type\"].unique()"
   ]
  },
  {
   "cell_type": "code",
   "execution_count": 5,
   "metadata": {
    "collapsed": false
   },
   "outputs": [
    {
     "data": {
      "text/plain": [
       "(1122, 8)"
      ]
     },
     "execution_count": 5,
     "metadata": {},
     "output_type": "execute_result"
    }
   ],
   "source": [
    "#How many viruses did not have a taxonomic annotation?\n",
    "taxonomy[taxonomy[\"type\"].isin(['environmental samples', 'Satellites',\n",
    "       'unclassified phages', 'unclassified viruses',\n",
    "       'unclassified archaeal viruses', 'unclassified virophages'])].shape"
   ]
  },
  {
   "cell_type": "code",
   "execution_count": 6,
   "metadata": {
    "collapsed": false
   },
   "outputs": [
    {
     "name": "stdout",
     "output_type": "stream",
     "text": [
      "environmental samples: 773\n",
      "Satellites: 203\n",
      "unclassified phages: 56\n",
      "unclassified viruses: 80\n",
      "unclassified archaeal viruses: 4\n",
      "unclassified virophages: 6\n"
     ]
    }
   ],
   "source": [
    "#How many viruses per category did not have a taxonomic annotation?\n",
    "annotation = ['environmental samples', 'Satellites',\n",
    "       'unclassified phages', 'unclassified viruses',\n",
    "       'unclassified archaeal viruses', 'unclassified virophages']\n",
    "for a in annotation:\n",
    "    print a+\":\", taxonomy[taxonomy[\"type\"]==a].shape[0]"
   ]
  },
  {
   "cell_type": "code",
   "execution_count": 7,
   "metadata": {
    "collapsed": false
   },
   "outputs": [
    {
     "data": {
      "text/html": [
       "<div>\n",
       "<table border=\"1\" class=\"dataframe\">\n",
       "  <thead>\n",
       "    <tr style=\"text-align: right;\">\n",
       "      <th></th>\n",
       "      <th>Accession</th>\n",
       "      <th>Species</th>\n",
       "      <th>Genus</th>\n",
       "      <th>Subfamily</th>\n",
       "      <th>Family</th>\n",
       "      <th>Order</th>\n",
       "      <th>type</th>\n",
       "      <th>NN</th>\n",
       "    </tr>\n",
       "  </thead>\n",
       "  <tbody>\n",
       "    <tr>\n",
       "      <th>5233</th>\n",
       "      <td>NC_022098</td>\n",
       "      <td>Pandoravirus salinus</td>\n",
       "      <td>NaN</td>\n",
       "      <td>NaN</td>\n",
       "      <td>NaN</td>\n",
       "      <td>NaN</td>\n",
       "      <td>dsDNA viruses</td>\n",
       "      <td>no RNA stage</td>\n",
       "    </tr>\n",
       "  </tbody>\n",
       "</table>\n",
       "</div>"
      ],
      "text/plain": [
       "      Accession               Species Genus Subfamily Family Order  \\\n",
       "5233  NC_022098  Pandoravirus salinus   NaN       NaN    NaN   NaN   \n",
       "\n",
       "               type             NN  \n",
       "5233  dsDNA viruses   no RNA stage  "
      ]
     },
     "execution_count": 7,
     "metadata": {},
     "output_type": "execute_result"
    }
   ],
   "source": [
    "#Which is the longest virus (NC_003798)\n",
    "taxonomy[taxonomy[\"Accession\"]==\"NC_022098\"]"
   ]
  },
  {
   "cell_type": "code",
   "execution_count": 8,
   "metadata": {
    "collapsed": false
   },
   "outputs": [
    {
     "data": {
      "text/html": [
       "<div>\n",
       "<table border=\"1\" class=\"dataframe\">\n",
       "  <thead>\n",
       "    <tr style=\"text-align: right;\">\n",
       "      <th></th>\n",
       "      <th>Accession</th>\n",
       "      <th>Species</th>\n",
       "      <th>Genus</th>\n",
       "      <th>Subfamily</th>\n",
       "      <th>Family</th>\n",
       "      <th>Order</th>\n",
       "      <th>type</th>\n",
       "      <th>NN</th>\n",
       "    </tr>\n",
       "  </thead>\n",
       "  <tbody>\n",
       "    <tr>\n",
       "      <th>13569</th>\n",
       "      <td>NC_003798</td>\n",
       "      <td>Lucerne transient streak virus satellite RNA</td>\n",
       "      <td>NaN</td>\n",
       "      <td>NaN</td>\n",
       "      <td>NaN</td>\n",
       "      <td>NaN</td>\n",
       "      <td>Satellites</td>\n",
       "      <td>NaN</td>\n",
       "    </tr>\n",
       "  </tbody>\n",
       "</table>\n",
       "</div>"
      ],
      "text/plain": [
       "       Accession                                       Species Genus  \\\n",
       "13569  NC_003798  Lucerne transient streak virus satellite RNA   NaN   \n",
       "\n",
       "      Subfamily Family Order        type   NN  \n",
       "13569       NaN    NaN   NaN  Satellites  NaN  "
      ]
     },
     "execution_count": 8,
     "metadata": {},
     "output_type": "execute_result"
    }
   ],
   "source": [
    "#Which is the smallest virus (NC_003798)\n",
    "taxonomy[taxonomy[\"Accession\"]==\"NC_003798\"]"
   ]
  },
  {
   "cell_type": "code",
   "execution_count": 9,
   "metadata": {
    "collapsed": false
   },
   "outputs": [
    {
     "data": {
      "text/html": [
       "<div>\n",
       "<table border=\"1\" class=\"dataframe\">\n",
       "  <thead>\n",
       "    <tr style=\"text-align: right;\">\n",
       "      <th></th>\n",
       "      <th>Accession</th>\n",
       "      <th>Species</th>\n",
       "      <th>Genus</th>\n",
       "      <th>Subfamily</th>\n",
       "      <th>Family</th>\n",
       "      <th>Order</th>\n",
       "      <th>type</th>\n",
       "      <th>NN</th>\n",
       "      <th>Length</th>\n",
       "      <th>NumProteins</th>\n",
       "    </tr>\n",
       "  </thead>\n",
       "  <tbody>\n",
       "    <tr>\n",
       "      <th>0</th>\n",
       "      <td>FJ794068</td>\n",
       "      <td>WU Polyomavirus</td>\n",
       "      <td>Polyomavirus</td>\n",
       "      <td>NaN</td>\n",
       "      <td>Polyomaviridae</td>\n",
       "      <td>NaN</td>\n",
       "      <td>dsDNA viruses</td>\n",
       "      <td>no RNA stage</td>\n",
       "      <td>5306</td>\n",
       "      <td>8</td>\n",
       "    </tr>\n",
       "    <tr>\n",
       "      <th>1</th>\n",
       "      <td>GU048663</td>\n",
       "      <td>Human bocavirus 2</td>\n",
       "      <td>Bocaparvovirus</td>\n",
       "      <td>Parvovirinae</td>\n",
       "      <td>Parvoviridae</td>\n",
       "      <td>NaN</td>\n",
       "      <td>ssDNA viruses</td>\n",
       "      <td>NaN</td>\n",
       "      <td>5180</td>\n",
       "      <td>11</td>\n",
       "    </tr>\n",
       "    <tr>\n",
       "      <th>2</th>\n",
       "      <td>NC_003747</td>\n",
       "      <td>Ryegrass mottle virus</td>\n",
       "      <td>Sobemovirus</td>\n",
       "      <td>NaN</td>\n",
       "      <td>NaN</td>\n",
       "      <td>NaN</td>\n",
       "      <td>ssRNA viruses</td>\n",
       "      <td>NaN</td>\n",
       "      <td>4212</td>\n",
       "      <td>14</td>\n",
       "    </tr>\n",
       "    <tr>\n",
       "      <th>3</th>\n",
       "      <td>NC_011500</td>\n",
       "      <td>Rotavirus A</td>\n",
       "      <td>Rotavirus</td>\n",
       "      <td>Sedoreovirinae</td>\n",
       "      <td>Reoviridae</td>\n",
       "      <td>NaN</td>\n",
       "      <td>dsRNA viruses</td>\n",
       "      <td>NaN</td>\n",
       "      <td>1614</td>\n",
       "      <td>2</td>\n",
       "    </tr>\n",
       "    <tr>\n",
       "      <th>4</th>\n",
       "      <td>JN226758</td>\n",
       "      <td>Human mastadenovirus D</td>\n",
       "      <td>Mastadenovirus</td>\n",
       "      <td>NaN</td>\n",
       "      <td>Adenoviridae</td>\n",
       "      <td>NaN</td>\n",
       "      <td>dsDNA viruses</td>\n",
       "      <td>no RNA stage</td>\n",
       "      <td>35131</td>\n",
       "      <td>64</td>\n",
       "    </tr>\n",
       "  </tbody>\n",
       "</table>\n",
       "</div>"
      ],
      "text/plain": [
       "   Accession                 Species           Genus       Subfamily  \\\n",
       "0   FJ794068         WU Polyomavirus    Polyomavirus             NaN   \n",
       "1   GU048663       Human bocavirus 2  Bocaparvovirus    Parvovirinae   \n",
       "2  NC_003747   Ryegrass mottle virus     Sobemovirus             NaN   \n",
       "3  NC_011500             Rotavirus A       Rotavirus  Sedoreovirinae   \n",
       "4   JN226758  Human mastadenovirus D  Mastadenovirus             NaN   \n",
       "\n",
       "           Family Order           type             NN  Length  NumProteins  \n",
       "0  Polyomaviridae   NaN  dsDNA viruses   no RNA stage    5306            8  \n",
       "1    Parvoviridae   NaN  ssDNA viruses            NaN    5180           11  \n",
       "2             NaN   NaN  ssRNA viruses            NaN    4212           14  \n",
       "3      Reoviridae   NaN  dsRNA viruses            NaN    1614            2  \n",
       "4    Adenoviridae   NaN  dsDNA viruses   no RNA stage   35131           64  "
      ]
     },
     "execution_count": 9,
     "metadata": {},
     "output_type": "execute_result"
    }
   ],
   "source": [
    "#Include length and number of proteins information\n",
    "aux = pd.read_csv(\"accVSlengthVSNumProte.allGenomes.csv\")\n",
    "aux = taxonomy.merge(how=\"inner\",right=aux, left_on=\"Accession\", right_on=\"Accession\")\n",
    "aux.head()"
   ]
  },
  {
   "cell_type": "code",
   "execution_count": 10,
   "metadata": {
    "collapsed": false
   },
   "outputs": [
    {
     "data": {
      "text/html": [
       "<div>\n",
       "<table border=\"1\" class=\"dataframe\">\n",
       "  <thead>\n",
       "    <tr style=\"text-align: right;\">\n",
       "      <th></th>\n",
       "      <th>Accession</th>\n",
       "      <th>Species</th>\n",
       "      <th>Genus</th>\n",
       "      <th>Subfamily</th>\n",
       "      <th>Family</th>\n",
       "      <th>Order</th>\n",
       "      <th>type</th>\n",
       "      <th>NN</th>\n",
       "      <th>Length</th>\n",
       "      <th>NumProteins</th>\n",
       "      <th>Virus</th>\n",
       "      <th>Length (bp)</th>\n",
       "      <th>C/L</th>\n",
       "      <th>GI</th>\n",
       "      <th>Representative</th>\n",
       "      <th>RepClusters</th>\n",
       "      <th>RepSL</th>\n",
       "      <th>Host</th>\n",
       "    </tr>\n",
       "  </thead>\n",
       "  <tbody>\n",
       "    <tr>\n",
       "      <th>0</th>\n",
       "      <td>FJ794068</td>\n",
       "      <td>WU Polyomavirus</td>\n",
       "      <td>Polyomavirus</td>\n",
       "      <td>NaN</td>\n",
       "      <td>Polyomaviridae</td>\n",
       "      <td>NaN</td>\n",
       "      <td>dsDNA viruses</td>\n",
       "      <td>no RNA stage</td>\n",
       "      <td>5306</td>\n",
       "      <td>8</td>\n",
       "      <td>WU Polyomavirus strain Rochester-7029, comple...</td>\n",
       "      <td>5306</td>\n",
       "      <td>linear</td>\n",
       "      <td>259906651</td>\n",
       "      <td>True</td>\n",
       "      <td>NaN</td>\n",
       "      <td>True</td>\n",
       "      <td>Eukaryote</td>\n",
       "    </tr>\n",
       "    <tr>\n",
       "      <th>1</th>\n",
       "      <td>GU048663</td>\n",
       "      <td>Human bocavirus 2</td>\n",
       "      <td>Bocaparvovirus</td>\n",
       "      <td>Parvovirinae</td>\n",
       "      <td>Parvoviridae</td>\n",
       "      <td>NaN</td>\n",
       "      <td>ssDNA viruses</td>\n",
       "      <td>NaN</td>\n",
       "      <td>5180</td>\n",
       "      <td>11</td>\n",
       "      <td>Human bocavirus 2 strain CU54TH, complete genome</td>\n",
       "      <td>5180</td>\n",
       "      <td>linear</td>\n",
       "      <td>290565727</td>\n",
       "      <td>True</td>\n",
       "      <td>NaN</td>\n",
       "      <td>NaN</td>\n",
       "      <td>Eukaryote</td>\n",
       "    </tr>\n",
       "    <tr>\n",
       "      <th>2</th>\n",
       "      <td>NC_003747</td>\n",
       "      <td>Ryegrass mottle virus</td>\n",
       "      <td>Sobemovirus</td>\n",
       "      <td>NaN</td>\n",
       "      <td>NaN</td>\n",
       "      <td>NaN</td>\n",
       "      <td>ssRNA viruses</td>\n",
       "      <td>NaN</td>\n",
       "      <td>4212</td>\n",
       "      <td>14</td>\n",
       "      <td>Ryegrass mottle virus isolate MAFF. No. 30704...</td>\n",
       "      <td>4212</td>\n",
       "      <td>linear</td>\n",
       "      <td>449265392</td>\n",
       "      <td>True</td>\n",
       "      <td>True</td>\n",
       "      <td>NaN</td>\n",
       "      <td>Eukaryote</td>\n",
       "    </tr>\n",
       "    <tr>\n",
       "      <th>3</th>\n",
       "      <td>NC_011500</td>\n",
       "      <td>Rotavirus A</td>\n",
       "      <td>Rotavirus</td>\n",
       "      <td>Sedoreovirinae</td>\n",
       "      <td>Reoviridae</td>\n",
       "      <td>NaN</td>\n",
       "      <td>dsRNA viruses</td>\n",
       "      <td>NaN</td>\n",
       "      <td>1614</td>\n",
       "      <td>2</td>\n",
       "      <td>Rotavirus A segment 5, complete genome</td>\n",
       "      <td>1614</td>\n",
       "      <td>linear</td>\n",
       "      <td>352950877</td>\n",
       "      <td>True</td>\n",
       "      <td>NaN</td>\n",
       "      <td>NaN</td>\n",
       "      <td>Eukaryote</td>\n",
       "    </tr>\n",
       "    <tr>\n",
       "      <th>4</th>\n",
       "      <td>JN226758</td>\n",
       "      <td>Human mastadenovirus D</td>\n",
       "      <td>Mastadenovirus</td>\n",
       "      <td>NaN</td>\n",
       "      <td>Adenoviridae</td>\n",
       "      <td>NaN</td>\n",
       "      <td>dsDNA viruses</td>\n",
       "      <td>no RNA stage</td>\n",
       "      <td>35131</td>\n",
       "      <td>64</td>\n",
       "      <td>Human adenovirus 33, complete genome</td>\n",
       "      <td>35131</td>\n",
       "      <td>linear</td>\n",
       "      <td>389618309</td>\n",
       "      <td>True</td>\n",
       "      <td>NaN</td>\n",
       "      <td>NaN</td>\n",
       "      <td>Eukaryote</td>\n",
       "    </tr>\n",
       "  </tbody>\n",
       "</table>\n",
       "</div>"
      ],
      "text/plain": [
       "   Accession                 Species           Genus       Subfamily  \\\n",
       "0   FJ794068         WU Polyomavirus    Polyomavirus             NaN   \n",
       "1   GU048663       Human bocavirus 2  Bocaparvovirus    Parvovirinae   \n",
       "2  NC_003747   Ryegrass mottle virus     Sobemovirus             NaN   \n",
       "3  NC_011500             Rotavirus A       Rotavirus  Sedoreovirinae   \n",
       "4   JN226758  Human mastadenovirus D  Mastadenovirus             NaN   \n",
       "\n",
       "           Family Order           type             NN  Length  NumProteins  \\\n",
       "0  Polyomaviridae   NaN  dsDNA viruses   no RNA stage    5306            8   \n",
       "1    Parvoviridae   NaN  ssDNA viruses            NaN    5180           11   \n",
       "2             NaN   NaN  ssRNA viruses            NaN    4212           14   \n",
       "3      Reoviridae   NaN  dsRNA viruses            NaN    1614            2   \n",
       "4    Adenoviridae   NaN  dsDNA viruses   no RNA stage   35131           64   \n",
       "\n",
       "                                               Virus  Length (bp)     C/L  \\\n",
       "0   WU Polyomavirus strain Rochester-7029, comple...         5306  linear   \n",
       "1   Human bocavirus 2 strain CU54TH, complete genome         5180  linear   \n",
       "2   Ryegrass mottle virus isolate MAFF. No. 30704...         4212  linear   \n",
       "3             Rotavirus A segment 5, complete genome         1614  linear   \n",
       "4               Human adenovirus 33, complete genome        35131  linear   \n",
       "\n",
       "          GI Representative RepClusters RepSL       Host  \n",
       "0  259906651           True         NaN  True  Eukaryote  \n",
       "1  290565727           True         NaN   NaN  Eukaryote  \n",
       "2  449265392           True        True   NaN  Eukaryote  \n",
       "3  352950877           True         NaN   NaN  Eukaryote  \n",
       "4  389618309           True         NaN   NaN  Eukaryote  "
      ]
     },
     "execution_count": 10,
     "metadata": {},
     "output_type": "execute_result"
    }
   ],
   "source": [
    "#Include host, circular/linear genome and other information \n",
    "aux2 = pd.read_csv(\"../../4_FinalGenomes/summaryFinalGenomes.csv\",sep='\\t')\n",
    "aux2 = aux.merge(how=\"inner\",right=aux2, left_on=\"Accession\", right_on=\"Accession\")\n",
    "aux2.head()"
   ]
  },
  {
   "cell_type": "code",
   "execution_count": 11,
   "metadata": {
    "collapsed": false
   },
   "outputs": [
    {
     "data": {
      "image/png": "[encoded data removed]",
      "text/plain": [
       "<matplotlib.figure.Figure at 0x7ffa2fe9c690>"
      ]
     },
     "metadata": {},
     "output_type": "display_data"
    }
   ],
   "source": [
    "#Plot genome Lenghts\n",
    "defVir = aux2[(aux2[\"type\"]==\"dsDNA viruses\")|(aux2[\"type\"]==\"ssDNA viruses\")|(aux2[\"type\"]==\"dsRNA viruses\")|(aux2[\"type\"]==\"ssRNA viruses\")|(aux2[\"type\"]==\"Retro-transcribing viruses\")]\n",
    "ax = sns.boxplot(x=\"type\",y=\"Length\",hue=\"Host\",data=defVir,fliersize=1,palette=[\"#e64b35\",\"#3c5388\"])\n",
    "ax.set(yscale=\"log\")\n",
    "ax.figure.savefig(\"lengthVsType.boxplot.pdf\")"
   ]
  },
  {
   "cell_type": "code",
   "execution_count": 18,
   "metadata": {
    "collapsed": true
   },
   "outputs": [],
   "source": [
    "defVir[[\"type\",\"Length\",\"Host\"]].to_csv(\"defVir.csv\",header=True,index=False,sep='\\t')"
   ]
  },
  {
   "cell_type": "code",
   "execution_count": 35,
   "metadata": {
    "collapsed": false
   },
   "outputs": [
    {
     "data": {
      "image/png": "[encoded data removed]",
      "text/plain": [
       "<matplotlib.figure.Figure at 0x7ff9f2b39cd0>"
      ]
     },
     "metadata": {},
     "output_type": "display_data"
    }
   ],
   "source": [
    "#Plot genome lengths\n",
    "defVir = aux2[(aux2[\"type\"]==\"dsDNA viruses\")|(aux2[\"type\"]==\"ssDNA viruses\")|(aux2[\"type\"]==\"dsRNA viruses\")|(aux2[\"type\"]==\"ssRNA viruses\")|(aux2[\"type\"]==\"Retro-transcribing viruses\")].copy()\n",
    "    #transform data to log scale\n",
    "defVir[\"LogLength\"] = np.log10(defVir[\"Length\"])\n",
    "ax = sns.violinplot(x=\"type\",y=\"LogLength\",hue=\"Host\",data=defVir,palette=[\"#e64b35\",\"#3c5388\"])\n",
    "    #Change tick labels. Make them as in log scale\n",
    "ax.yaxis.set_major_formatter(mticker.StrMethodFormatter(\"$10^{{{x:.0f}}}$\"))\n",
    "ax.yaxis.set_ticks([np.log10(x) for p in range(0,7) for x in np.linspace(10**p, 10**(p+1), 10)], minor=True)\n",
    "#save plot\n",
    "ax.figure.savefig(\"lengthVsType.violinplot.pdf\")"
   ]
  },
  {
   "cell_type": "code",
   "execution_count": 32,
   "metadata": {
    "collapsed": false
   },
   "outputs": [
    {
     "data": {
      "image/png": "[encoded data removed]",
      "text/plain": [
       "<matplotlib.figure.Figure at 0x7fba14a4ce50>"
      ]
     },
     "metadata": {},
     "output_type": "display_data"
    }
   ],
   "source": [
    "#Plot genome Lengths\n",
    "defVir = aux2[(aux2[\"type\"]==\"dsDNA viruses\")|(aux2[\"type\"]==\"ssDNA viruses\")|(aux2[\"type\"]==\"dsRNA viruses\")|(aux2[\"type\"]==\"ssRNA viruses\")|(aux2[\"type\"]==\"Retro-transcribing viruses\")]\n",
    "ax = sns.violinplot(x=\"type\",y=\"Length\",hue=\"Host\",data=defVir,split=True,palette=[\"#e64b35\",\"#3c5388\"])\n",
    "ax.set(yscale=\"log\")\n",
    "ax.figure.savefig(\"lengthVsType.violinplot2.pdf\")"
   ]
  },
  {
   "cell_type": "code",
   "execution_count": 11,
   "metadata": {
    "collapsed": false
   },
   "outputs": [],
   "source": [
    "#aux2.groupby([\"type\",\"Host\"]).count()\n",
    "#\n",
    "#\t|\t|Number of Genomes\n",
    "#dsDNA viruses|\tEukaryote\t2002\n",
    "#                Prokaryote\t1766\n",
    "#dsRNA viruses\tEukaryote\t443\n",
    "#ssDNA viruses\tEukaryote\t1606\n",
    "#                Prokaryote\t125\n",
    "#ssRNA viruses\tEukaryote\t4720\n",
    "#                Prokaryote\t26\n"
   ]
  },
  {
   "cell_type": "code",
   "execution_count": 36,
   "metadata": {
    "collapsed": true
   },
   "outputs": [],
   "source": [
    "from scipy.stats import shapiro\n",
    "from scipy.stats import normaltest\n",
    "from scipy.stats import anderson\n",
    "from scipy.stats import mannwhitneyu\n",
    "from scipy.stats import linregress\n",
    "import numpy as np"
   ]
  },
  {
   "cell_type": "code",
   "execution_count": 37,
   "metadata": {
    "collapsed": false
   },
   "outputs": [
    {
     "name": "stdout",
     "output_type": "stream",
     "text": [
      "NormaltestResult(statistic=2645.8369014379323, pvalue=0.0)\n",
      "NormaltestResult(statistic=517.28354264296581, pvalue=4.7130920877478258e-113)\n",
      "NormaltestResult(statistic=1794.0967469600012, pvalue=0.0)\n",
      "NormaltestResult(statistic=16.429690397768066, pvalue=0.00027060639796439983)\n",
      "NormaltestResult(statistic=1723.5895886248484, pvalue=0.0)\n",
      "NormaltestResult(statistic=58.260705166072199, pvalue=2.2327937987337623e-13)\n",
      "NormaltestResult(statistic=257.96684841375793, pvalue=9.6207872281893833e-57)\n",
      "NormaltestResult(statistic=305.65245477894757, pvalue=4.2502331537066514e-67)\n"
     ]
    }
   ],
   "source": [
    "print normaltest(aux2[(aux2[\"type\"]==\"dsDNA viruses\")&(aux2[\"Host\"]==\"Eukaryote\")][\"Length\"])\n",
    "print normaltest(aux2[(aux2[\"type\"]==\"dsDNA viruses\")&(aux2[\"Host\"]==\"Prokaryote\")][\"Length\"])\n",
    "\n",
    "print normaltest(aux2[(aux2[\"type\"]==\"ssDNA viruses\")&(aux2[\"Host\"]==\"Eukaryote\")][\"Length\"])\n",
    "print normaltest(aux2[(aux2[\"type\"]==\"ssDNA viruses\")&(aux2[\"Host\"]==\"Prokaryote\")][\"Length\"])\n",
    "\n",
    "print normaltest(aux2[(aux2[\"type\"]==\"ssRNA viruses\")&(aux2[\"Host\"]==\"Eukaryote\")][\"Length\"])\n",
    "print normaltest(aux2[(aux2[\"type\"]==\"ssRNA viruses\")&(aux2[\"Host\"]==\"Prokaryote\")][\"Length\"])\n",
    "\n",
    "print normaltest(aux2[(aux2[\"type\"]==\"dsRNA viruses\")&(aux2[\"Host\"]==\"Eukaryote\")][\"Length\"])\n",
    "\n",
    "print normaltest(aux2[(aux2[\"type\"]==\"Retro-transcribing viruses\")&(aux2[\"Host\"]==\"Eukaryote\")][\"Length\"])"
   ]
  },
  {
   "cell_type": "code",
   "execution_count": 38,
   "metadata": {
    "collapsed": false
   },
   "outputs": [
    {
     "name": "stdout",
     "output_type": "stream",
     "text": [
      "(0.5174371004104614, 0.0)\n",
      "NormaltestResult(statistic=2645.8369014379323, pvalue=0.0)\n",
      "AndersonResult(statistic=inf, critical_values=array([ 0.575,  0.655,  0.785,  0.916,  1.09 ]), significance_level=array([ 15. ,  10. ,   5. ,   2.5,   1. ]))\n"
     ]
    }
   ],
   "source": [
    "print shapiro(aux2[(aux2[\"type\"]==\"dsDNA viruses\")&(aux2[\"Host\"]==\"Eukaryote\")][\"Length\"])\n",
    "print normaltest(aux2[(aux2[\"type\"]==\"dsDNA viruses\")&(aux2[\"Host\"]==\"Eukaryote\")][\"Length\"])\n",
    "print anderson(aux2[(aux2[\"type\"]==\"dsDNA viruses\")&(aux2[\"Host\"]==\"Eukaryote\")][\"Length\"])"
   ]
  },
  {
   "cell_type": "code",
   "execution_count": 39,
   "metadata": {
    "collapsed": false
   },
   "outputs": [
    {
     "name": "stdout",
     "output_type": "stream",
     "text": [
      "MannwhitneyuResult(statistic=1912320.0, pvalue=7.1927745554833053e-06)\n"
     ]
    }
   ],
   "source": [
    "dsDNAE = np.array(aux2[(aux2[\"type\"]==\"dsDNA viruses\")&(aux2[\"Host\"]==\"Eukaryote\")][\"Length\"])\n",
    "dsDNAP = np.array(aux2[(aux2[\"type\"]==\"dsDNA viruses\")&(aux2[\"Host\"]==\"Prokaryote\")][\"Length\"])\n",
    "\n",
    "print mannwhitneyu(dsDNAP,dsDNAE,alternative=\"greater\")"
   ]
  },
  {
   "cell_type": "code",
   "execution_count": 40,
   "metadata": {
    "collapsed": false
   },
   "outputs": [
    {
     "name": "stdout",
     "output_type": "stream",
     "text": [
      "MannwhitneyuResult(statistic=191245.0, pvalue=6.1658009656057139e-64)\n",
      "MannwhitneyuResult(statistic=191245.0, pvalue=1.0)\n",
      "MannwhitneyuResult(statistic=191245.0, pvalue=3.0829004828028569e-64)\n"
     ]
    }
   ],
   "source": [
    "ssDNAE = np.array(aux2[(aux2[\"type\"]==\"ssDNA viruses\")&(aux2[\"Host\"]==\"Eukaryote\")][\"Length\"])\n",
    "ssDNAP = np.array(aux2[(aux2[\"type\"]==\"ssDNA viruses\")&(aux2[\"Host\"]==\"Prokaryote\")][\"Length\"])\n",
    "\n",
    "print mannwhitneyu(ssDNAP,ssDNAE,alternative=\"two-sided\")\n",
    "print mannwhitneyu(ssDNAP,ssDNAE,alternative=\"less\")\n",
    "print mannwhitneyu(ssDNAP,ssDNAE,alternative=\"greater\")"
   ]
  },
  {
   "cell_type": "code",
   "execution_count": 41,
   "metadata": {
    "collapsed": false
   },
   "outputs": [
    {
     "name": "stdout",
     "output_type": "stream",
     "text": [
      "MannwhitneyuResult(statistic=5824.0, pvalue=1.5781251515347371e-15)\n",
      "MannwhitneyuResult(statistic=5824.0, pvalue=7.8906257576736856e-16)\n",
      "MannwhitneyuResult(statistic=5824.0, pvalue=0.99999999999999922)\n"
     ]
    }
   ],
   "source": [
    "ssRNAE = np.array(aux2[(aux2[\"type\"]==\"ssRNA viruses\")&(aux2[\"Host\"]==\"Eukaryote\")][\"Length\"])\n",
    "ssRNAP = np.array(aux2[(aux2[\"type\"]==\"ssRNA viruses\")&(aux2[\"Host\"]==\"Prokaryote\")][\"Length\"])\n",
    "\n",
    "print mannwhitneyu(ssRNAP,ssRNAE,alternative=\"two-sided\")\n",
    "print mannwhitneyu(ssRNAP,ssRNAE,alternative=\"less\")\n",
    "print mannwhitneyu(ssRNAP,ssRNAE,alternative=\"greater\")"
   ]
  },
  {
   "cell_type": "code",
   "execution_count": 42,
   "metadata": {
    "collapsed": false
   },
   "outputs": [
    {
     "name": "stdout",
     "output_type": "stream",
     "text": [
      "MannwhitneyuResult(statistic=18215062.0, pvalue=2.2395334915075105e-135)\n",
      "MannwhitneyuResult(statistic=18215062.0, pvalue=1.0)\n",
      "MannwhitneyuResult(statistic=18215062.0, pvalue=1.1197667457537553e-135)\n"
     ]
    }
   ],
   "source": [
    "DNA = np.array(aux2[(aux2[\"type\"]==\"ssDNA viruses\")|(aux2[\"type\"]==\"dsDNA viruses\")][\"Length\"])\n",
    "RNA = np.array(aux2[(aux2[\"type\"]==\"ssRNA viruses\")|(aux2[\"type\"]==\"dsRNA viruses\")][\"Length\"])\n",
    "\n",
    "print mannwhitneyu(DNA,RNA,alternative=\"two-sided\")\n",
    "print mannwhitneyu(DNA,RNA,alternative=\"less\")\n",
    "print mannwhitneyu(DNA,RNA,alternative=\"greater\")"
   ]
  },
  {
   "cell_type": "code",
   "execution_count": 43,
   "metadata": {
    "collapsed": false
   },
   "outputs": [
    {
     "name": "stdout",
     "output_type": "stream",
     "text": [
      "MannwhitneyuResult(statistic=3051731.0, pvalue=0.0)\n",
      "MannwhitneyuResult(statistic=3051731.0, pvalue=0.0)\n",
      "MannwhitneyuResult(statistic=3051731.0, pvalue=1.0)\n"
     ]
    }
   ],
   "source": [
    "#This comparison between viruses and phages does not make sense as there are 12,026 genomes of viruses \n",
    "# and only 1,973 genomes of phages. \n",
    "E = np.array(aux2[(aux2[\"Host\"]==\"Eukaryote\")][\"Length\"])\n",
    "P = np.array(aux2[(aux2[\"Host\"]==\"Prokaryote\")][\"Length\"])\n",
    "\n",
    "print mannwhitneyu(E,P,alternative=\"two-sided\")\n",
    "print mannwhitneyu(E,P,alternative=\"less\")\n",
    "print mannwhitneyu(E,P,alternative=\"greater\")"
   ]
  },
  {
   "cell_type": "code",
   "execution_count": 44,
   "metadata": {
    "collapsed": true
   },
   "outputs": [],
   "source": [
    "#Plot gen density\n",
    "#As some Eukaryotic viruses have longer genomes than phages, it is better to plot them separately"
   ]
  },
  {
   "cell_type": "code",
   "execution_count": 45,
   "metadata": {
    "collapsed": false
   },
   "outputs": [
    {
     "data": {
      "image/png": "[encoded data removed]",
      "text/plain": [
       "<matplotlib.figure.Figure at 0x7ff9efa024d0>"
      ]
     },
     "metadata": {},
     "output_type": "display_data"
    }
   ],
   "source": [
    "#Gen density phages\n",
    "phages = defVir[defVir[\"Host\"]==\"Prokaryote\"]\n",
    "m,b,r,p,std = linregress(phages[\"Length\"],phages[\"NumProteins\"]) #this line save the values of a linear regression\n",
    "ax = sns.regplot(data=phages,x=\"Length\",y=\"NumProteins\",\n",
    "                     scatter_kws={\"color\":\"white\",\"edgecolor\":\"black\",\"s\":10},\n",
    "                     line_kws={\"color\":\"black\",'label':'$y=%3.7sx+%3.7s$'%(m,b)})\n",
    "ax.legend(loc='upper left')        \n",
    "ax.figure.savefig(\"geneDensityPhages.pdf\")"
   ]
  },
  {
   "cell_type": "code",
   "execution_count": 104,
   "metadata": {
    "collapsed": false
   },
   "outputs": [
    {
     "data": {
      "image/png": "[encoded data removed]",
      "text/plain": [
       "<matplotlib.figure.Figure at 0x7fba106a08d0>"
      ]
     },
     "metadata": {},
     "output_type": "display_data"
    }
   ],
   "source": [
    "#Gen density phages\n",
    "phages = defVir[defVir[\"Host\"]==\"Prokaryote\"]\n",
    "phagesSSdna = phages[phages[\"type\"]==\"ssDNA viruses\"]\n",
    "phagesDSdna = phages[phages[\"type\"]==\"dsDNA viruses\"]\n",
    "phagesSSrna = phages[phages[\"type\"]==\"ssRNA viruses\"]\n",
    "m,b,r,p,std = linregress(phagesSSdna[\"Length\"],phagesSSdna[\"NumProteins\"]) #this line save the values of a linear regression\n",
    "ax = sns.regplot(data=phagesSSdna,x=\"Length\",y=\"NumProteins\",\n",
    "                     scatter_kws={\"color\":\"#00909e\",\"edgecolor\":\"#142850\",\"s\":10},\n",
    "                     line_kws={\"color\":\"black\",'label':'$y=%3.7sx%3.7s$'%(m,b)})\n",
    "ax.legend(loc='upper left')\n",
    "ax.figure.savefig(\"geneDensityPhages.ssDNA.pdf\")"
   ]
  },
  {
   "cell_type": "code",
   "execution_count": 105,
   "metadata": {
    "collapsed": false
   },
   "outputs": [
    {
     "data": {
      "image/png": "[encoded data removed]",
      "text/plain": [
       "<matplotlib.figure.Figure at 0x7fba10342350>"
      ]
     },
     "metadata": {},
     "output_type": "display_data"
    }
   ],
   "source": [
    "m,b,r,p,std = linregress(phagesDSdna[\"Length\"],phagesDSdna[\"NumProteins\"]) #this line save the values of a linear regression\n",
    "ax = sns.regplot(data=phagesDSdna,x=\"Length\",y=\"NumProteins\",\n",
    "                     scatter_kws={\"color\":\"#27496d\",\"edgecolor\":\"#142850\",\"s\":10},\n",
    "                     line_kws={\"color\":\"black\",'label':'$y=%3.7sx%3.7s$'%(m,b)})\n",
    "ax.legend(loc='upper left')\n",
    "ax.figure.savefig(\"geneDensityPhages.dsDNA.pdf\")"
   ]
  },
  {
   "cell_type": "code",
   "execution_count": 106,
   "metadata": {
    "collapsed": false
   },
   "outputs": [
    {
     "data": {
      "image/png": "[encoded data removed]",
      "text/plain": [
       "<matplotlib.figure.Figure at 0x7fba100a1090>"
      ]
     },
     "metadata": {},
     "output_type": "display_data"
    }
   ],
   "source": [
    "m,b,r,p,std = linregress(phagesSSrna[\"Length\"],phagesSSrna[\"NumProteins\"]) #this line save the values of a linear regression\n",
    "ax = sns.regplot(data=phagesSSrna,x=\"Length\",y=\"NumProteins\",\n",
    "                     scatter_kws={\"color\":\"#dae1e7\",\"edgecolor\":\"#142850\",\"s\":10},\n",
    "                     line_kws={\"color\":\"black\",'label':'$y=%3.7sx%3.7s$'%(m,b)})\n",
    "ax.legend(loc='upper left')\n",
    "ax.figure.savefig(\"geneDensityPhages.ssRNA.pdf\")"
   ]
  },
  {
   "cell_type": "code",
   "execution_count": 137,
   "metadata": {
    "collapsed": false
   },
   "outputs": [
    {
     "data": {
      "text/plain": [
       "<matplotlib.legend.Legend at 0x7ff9ef9ce750>"
      ]
     },
     "execution_count": 137,
     "metadata": {},
     "output_type": "execute_result"
    },
    {
     "data": {
      "image/png": "[encoded data removed]",
      "text/plain": [
       "<matplotlib.figure.Figure at 0x7ff9ef2cba90>"
      ]
     },
     "metadata": {},
     "output_type": "display_data"
    }
   ],
   "source": [
    "#Gen density phages\n",
    "phages = defVir[defVir[\"Host\"]==\"Prokaryote\"]\n",
    "m,b,r,p,std = linregress(phages[\"Length\"],phages[\"NumProteins\"]) #this line save the values of a linear regression\n",
    "ax = sns.regplot(data=phages,x=\"Length\",y=\"NumProteins\",scatter=True,\n",
    "                 scatter_kws={\"color\":\"#27496d\",\"edgecolor\":\"#142850\",\"s\":0.1},\n",
    "                 line_kws={\"color\":\"black\",'label':'$y=%3.7sx%3.7s$'%(m,b)})\n",
    "ax = sns.scatterplot(data=phages,x=\"Length\",y=\"NumProteins\",hue=\"type\",legend=False,\n",
    "                     s=5,alpha=1,edgecolor=None)\n",
    "#ax = sns.lineplot(x=range(-50000,400000,50000), y=[m*x+b for x in range(-50000,400000,50000)])\n",
    "#ax._legend.remove()\n",
    "                     #scatter_kws={\"color\":\"#3c5388\",\"edgecolor\":\"black\",\"s\":10},\n",
    "                     #line_kws={\"color\":\"black\",'label':'$y=%3.7sx+%3.7s$'%(m,b)})\n",
    "ax.legend(loc='upper left')        \n",
    "#ax.figure.savefig(\"geneDensityPhages.hued2.pdf\")"
   ]
  },
  {
   "cell_type": "code",
   "execution_count": 109,
   "metadata": {
    "collapsed": false
   },
   "outputs": [
    {
     "data": {
      "image/png": "[encoded data removed]",
      "text/plain": [
       "<matplotlib.figure.Figure at 0x7fba103f6550>"
      ]
     },
     "metadata": {},
     "output_type": "display_data"
    }
   ],
   "source": [
    "#Gen density viruses\n",
    "viruses = defVir[defVir[\"Host\"]==\"Eukaryote\"]\n",
    "m,b,r,p,std = linregress(viruses[\"Length\"],viruses[\"NumProteins\"]) #this line save the values of a linear regression\n",
    "ax = sns.regplot(data=viruses,x=\"Length\",y=\"NumProteins\",\n",
    "                 scatter_kws={\"color\":\"grey\",\"edgecolor\":\"black\",\"s\":10},\n",
    "                 line_kws={\"color\":\"black\",'label':'$y=%3.7sx+%3.7s$'%(m,b)})\n",
    "ax.legend(loc='upper left') \n",
    "ax.set(yscale=\"log\",xscale=\"log\")\n",
    "ax.figure.savefig(\"geneDensityViruses.pdf\")"
   ]
  },
  {
   "cell_type": "code",
   "execution_count": 136,
   "metadata": {
    "collapsed": false
   },
   "outputs": [
    {
     "data": {
      "text/plain": [
       "[None, None]"
      ]
     },
     "execution_count": 136,
     "metadata": {},
     "output_type": "execute_result"
    },
    {
     "data": {
      "image/png": "[encoded data removed]",
      "text/plain": [
       "<matplotlib.figure.Figure at 0x7ffa2fe9c610>"
      ]
     },
     "metadata": {},
     "output_type": "display_data"
    }
   ],
   "source": [
    "#Gen density viruses\n",
    "viruses = defVir[defVir[\"Host\"]==\"Eukaryote\"]\n",
    "m,b,r,p,std = linregress(viruses[\"Length\"],viruses[\"NumProteins\"]) #this line save the values of a linear regression\n",
    "ax = sns.regplot(data=viruses,x=\"Length\",y=\"NumProteins\",\n",
    "                 scatter_kws={\"color\":\"grey\",\"edgecolor\":\"black\",\"s\":0.1},\n",
    "                 line_kws={\"color\":\"black\",'label':'$y=%3.7sx+%3.7s$'%(m,b)})\n",
    "ax = sns.scatterplot(data=viruses,x=\"Length\",y=\"NumProteins\",hue=\"type\",\n",
    "                     s=5,alpha=1,edgecolor=None)\n",
    "ax.legend(loc='upper left')\n",
    "#ax.get_legend().remove()\n",
    "ax.set(yscale=\"log\",xscale=\"log\")\n",
    "#ax.figure.savefig(\"geneDensityViruses.hueed2.pdf\")\n",
    "#blue:dsDNA | green:ssDNA | red:ssRNA | lightBlue: dsRNA | purple: rt-viruses"
   ]
  },
  {
   "cell_type": "code",
   "execution_count": 129,
   "metadata": {
    "collapsed": false
   },
   "outputs": [
    {
     "data": {
      "image/png": "[encoded data removed]",
      "text/plain": [
       "<matplotlib.figure.Figure at 0x7fba115e60d0>"
      ]
     },
     "metadata": {},
     "output_type": "display_data"
    }
   ],
   "source": [
    "test = viruses[(viruses[\"Length\"]>68000)&(viruses[\"Length\"]<72000)]\n",
    "ax = sns.scatterplot(data=test,x=\"Length\",y=\"NumProteins\",hue=\"type\")\n",
    "#ax.set(yscale=\"log\",xscale=\"log\")"
   ]
  },
  {
   "cell_type": "code",
   "execution_count": 134,
   "metadata": {
    "collapsed": false
   },
   "outputs": [
    {
     "data": {
      "text/html": [
       "<div>\n",
       "<table border=\"1\" class=\"dataframe\">\n",
       "  <thead>\n",
       "    <tr style=\"text-align: right;\">\n",
       "      <th></th>\n",
       "      <th>Accession</th>\n",
       "      <th>Species</th>\n",
       "      <th>Genus</th>\n",
       "      <th>Subfamily</th>\n",
       "      <th>Family</th>\n",
       "      <th>Order</th>\n",
       "      <th>type</th>\n",
       "      <th>NN</th>\n",
       "      <th>Length</th>\n",
       "      <th>NumProteins</th>\n",
       "      <th>Virus</th>\n",
       "      <th>Length (bp)</th>\n",
       "      <th>C/L</th>\n",
       "      <th>GI</th>\n",
       "      <th>Representative</th>\n",
       "      <th>RepClusters</th>\n",
       "      <th>RepSL</th>\n",
       "      <th>Host</th>\n",
       "    </tr>\n",
       "  </thead>\n",
       "  <tbody>\n",
       "    <tr>\n",
       "      <th>3799</th>\n",
       "      <td>AB850652</td>\n",
       "      <td>Human herpesvirus 4</td>\n",
       "      <td>Lymphocryptovirus</td>\n",
       "      <td>Gammaherpesvirinae</td>\n",
       "      <td>Herpesviridae</td>\n",
       "      <td>Herpesvirales</td>\n",
       "      <td>dsDNA viruses</td>\n",
       "      <td>no RNA stage</td>\n",
       "      <td>171733</td>\n",
       "      <td>9</td>\n",
       "      <td>Human herpesvirus 4 DNA, complete genome, str...</td>\n",
       "      <td>171733</td>\n",
       "      <td>circular</td>\n",
       "      <td>747017415</td>\n",
       "      <td>True</td>\n",
       "      <td>NaN</td>\n",
       "      <td>NaN</td>\n",
       "      <td>Eukaryote</td>\n",
       "    </tr>\n",
       "    <tr>\n",
       "      <th>7595</th>\n",
       "      <td>AB850659</td>\n",
       "      <td>Human herpesvirus 4</td>\n",
       "      <td>Lymphocryptovirus</td>\n",
       "      <td>Gammaherpesvirinae</td>\n",
       "      <td>Herpesviridae</td>\n",
       "      <td>Herpesvirales</td>\n",
       "      <td>dsDNA viruses</td>\n",
       "      <td>no RNA stage</td>\n",
       "      <td>171344</td>\n",
       "      <td>15</td>\n",
       "      <td>Human herpesvirus 4 DNA, complete genome, str...</td>\n",
       "      <td>171344</td>\n",
       "      <td>circular</td>\n",
       "      <td>747017578</td>\n",
       "      <td>True</td>\n",
       "      <td>NaN</td>\n",
       "      <td>NaN</td>\n",
       "      <td>Eukaryote</td>\n",
       "    </tr>\n",
       "    <tr>\n",
       "      <th>9970</th>\n",
       "      <td>AB850656</td>\n",
       "      <td>Human herpesvirus 4</td>\n",
       "      <td>Lymphocryptovirus</td>\n",
       "      <td>Gammaherpesvirinae</td>\n",
       "      <td>Herpesviridae</td>\n",
       "      <td>Herpesvirales</td>\n",
       "      <td>dsDNA viruses</td>\n",
       "      <td>no RNA stage</td>\n",
       "      <td>171609</td>\n",
       "      <td>16</td>\n",
       "      <td>Human herpesvirus 4 DNA, complete genome, str...</td>\n",
       "      <td>171609</td>\n",
       "      <td>circular</td>\n",
       "      <td>747017529</td>\n",
       "      <td>True</td>\n",
       "      <td>NaN</td>\n",
       "      <td>NaN</td>\n",
       "      <td>Eukaryote</td>\n",
       "    </tr>\n",
       "    <tr>\n",
       "      <th>4130</th>\n",
       "      <td>AB850655</td>\n",
       "      <td>Human herpesvirus 4</td>\n",
       "      <td>Lymphocryptovirus</td>\n",
       "      <td>Gammaherpesvirinae</td>\n",
       "      <td>Herpesviridae</td>\n",
       "      <td>Herpesvirales</td>\n",
       "      <td>dsDNA viruses</td>\n",
       "      <td>no RNA stage</td>\n",
       "      <td>171548</td>\n",
       "      <td>17</td>\n",
       "      <td>Human herpesvirus 4 DNA, complete genome, str...</td>\n",
       "      <td>171548</td>\n",
       "      <td>circular</td>\n",
       "      <td>747017513</td>\n",
       "      <td>True</td>\n",
       "      <td>NaN</td>\n",
       "      <td>NaN</td>\n",
       "      <td>Eukaryote</td>\n",
       "    </tr>\n",
       "    <tr>\n",
       "      <th>9867</th>\n",
       "      <td>AB850658</td>\n",
       "      <td>Human herpesvirus 4</td>\n",
       "      <td>Lymphocryptovirus</td>\n",
       "      <td>Gammaherpesvirinae</td>\n",
       "      <td>Herpesviridae</td>\n",
       "      <td>Herpesvirales</td>\n",
       "      <td>dsDNA viruses</td>\n",
       "      <td>no RNA stage</td>\n",
       "      <td>171394</td>\n",
       "      <td>18</td>\n",
       "      <td>Human herpesvirus 4 DNA, complete genome, str...</td>\n",
       "      <td>171394</td>\n",
       "      <td>circular</td>\n",
       "      <td>747017565</td>\n",
       "      <td>True</td>\n",
       "      <td>NaN</td>\n",
       "      <td>NaN</td>\n",
       "      <td>Eukaryote</td>\n",
       "    </tr>\n",
       "    <tr>\n",
       "      <th>4891</th>\n",
       "      <td>AB850653</td>\n",
       "      <td>Human herpesvirus 4</td>\n",
       "      <td>Lymphocryptovirus</td>\n",
       "      <td>Gammaherpesvirinae</td>\n",
       "      <td>Herpesviridae</td>\n",
       "      <td>Herpesvirales</td>\n",
       "      <td>dsDNA viruses</td>\n",
       "      <td>no RNA stage</td>\n",
       "      <td>171054</td>\n",
       "      <td>20</td>\n",
       "      <td>Human herpesvirus 4 DNA, complete genome, str...</td>\n",
       "      <td>171054</td>\n",
       "      <td>circular</td>\n",
       "      <td>747017423</td>\n",
       "      <td>True</td>\n",
       "      <td>NaN</td>\n",
       "      <td>NaN</td>\n",
       "      <td>Eukaryote</td>\n",
       "    </tr>\n",
       "    <tr>\n",
       "      <th>3645</th>\n",
       "      <td>AB850650</td>\n",
       "      <td>Human herpesvirus 4</td>\n",
       "      <td>Lymphocryptovirus</td>\n",
       "      <td>Gammaherpesvirinae</td>\n",
       "      <td>Herpesviridae</td>\n",
       "      <td>Herpesvirales</td>\n",
       "      <td>dsDNA viruses</td>\n",
       "      <td>no RNA stage</td>\n",
       "      <td>171440</td>\n",
       "      <td>22</td>\n",
       "      <td>Human herpesvirus 4 DNA, complete genome, str...</td>\n",
       "      <td>171440</td>\n",
       "      <td>circular</td>\n",
       "      <td>747017362</td>\n",
       "      <td>True</td>\n",
       "      <td>NaN</td>\n",
       "      <td>NaN</td>\n",
       "      <td>Eukaryote</td>\n",
       "    </tr>\n",
       "    <tr>\n",
       "      <th>1935</th>\n",
       "      <td>AB850648</td>\n",
       "      <td>Human herpesvirus 4</td>\n",
       "      <td>Lymphocryptovirus</td>\n",
       "      <td>Gammaherpesvirinae</td>\n",
       "      <td>Herpesviridae</td>\n",
       "      <td>Herpesvirales</td>\n",
       "      <td>dsDNA viruses</td>\n",
       "      <td>no RNA stage</td>\n",
       "      <td>171627</td>\n",
       "      <td>41</td>\n",
       "      <td>Human herpesvirus 4 DNA, complete genome, str...</td>\n",
       "      <td>171627</td>\n",
       "      <td>circular</td>\n",
       "      <td>747017309</td>\n",
       "      <td>True</td>\n",
       "      <td>NaN</td>\n",
       "      <td>NaN</td>\n",
       "      <td>Eukaryote</td>\n",
       "    </tr>\n",
       "    <tr>\n",
       "      <th>1469</th>\n",
       "      <td>AB850651</td>\n",
       "      <td>Human herpesvirus 4</td>\n",
       "      <td>Lymphocryptovirus</td>\n",
       "      <td>Gammaherpesvirinae</td>\n",
       "      <td>Herpesviridae</td>\n",
       "      <td>Herpesvirales</td>\n",
       "      <td>dsDNA viruses</td>\n",
       "      <td>no RNA stage</td>\n",
       "      <td>171518</td>\n",
       "      <td>52</td>\n",
       "      <td>Human herpesvirus 4 DNA, complete genome, str...</td>\n",
       "      <td>171518</td>\n",
       "      <td>circular</td>\n",
       "      <td>747017380</td>\n",
       "      <td>True</td>\n",
       "      <td>NaN</td>\n",
       "      <td>NaN</td>\n",
       "      <td>Eukaryote</td>\n",
       "    </tr>\n",
       "    <tr>\n",
       "      <th>5322</th>\n",
       "      <td>AB850644</td>\n",
       "      <td>Human herpesvirus 4</td>\n",
       "      <td>Lymphocryptovirus</td>\n",
       "      <td>Gammaherpesvirinae</td>\n",
       "      <td>Herpesviridae</td>\n",
       "      <td>Herpesvirales</td>\n",
       "      <td>dsDNA viruses</td>\n",
       "      <td>no RNA stage</td>\n",
       "      <td>171751</td>\n",
       "      <td>66</td>\n",
       "      <td>Human herpesvirus 4 DNA, complete genome, str...</td>\n",
       "      <td>171751</td>\n",
       "      <td>circular</td>\n",
       "      <td>747017196</td>\n",
       "      <td>True</td>\n",
       "      <td>NaN</td>\n",
       "      <td>NaN</td>\n",
       "      <td>Eukaryote</td>\n",
       "    </tr>\n",
       "    <tr>\n",
       "      <th>11116</th>\n",
       "      <td>AB850643</td>\n",
       "      <td>Human herpesvirus 4</td>\n",
       "      <td>Lymphocryptovirus</td>\n",
       "      <td>Gammaherpesvirinae</td>\n",
       "      <td>Herpesviridae</td>\n",
       "      <td>Herpesvirales</td>\n",
       "      <td>dsDNA viruses</td>\n",
       "      <td>no RNA stage</td>\n",
       "      <td>171499</td>\n",
       "      <td>74</td>\n",
       "      <td>Human herpesvirus 4 DNA, complete genome, str...</td>\n",
       "      <td>171499</td>\n",
       "      <td>circular</td>\n",
       "      <td>747017151</td>\n",
       "      <td>True</td>\n",
       "      <td>NaN</td>\n",
       "      <td>NaN</td>\n",
       "      <td>Eukaryote</td>\n",
       "    </tr>\n",
       "    <tr>\n",
       "      <th>4059</th>\n",
       "      <td>AB850647</td>\n",
       "      <td>Human herpesvirus 4</td>\n",
       "      <td>Lymphocryptovirus</td>\n",
       "      <td>Gammaherpesvirinae</td>\n",
       "      <td>Herpesviridae</td>\n",
       "      <td>Herpesvirales</td>\n",
       "      <td>dsDNA viruses</td>\n",
       "      <td>no RNA stage</td>\n",
       "      <td>171663</td>\n",
       "      <td>77</td>\n",
       "      <td>Human herpesvirus 4 DNA, complete genome, str...</td>\n",
       "      <td>171663</td>\n",
       "      <td>circular</td>\n",
       "      <td>747017265</td>\n",
       "      <td>True</td>\n",
       "      <td>NaN</td>\n",
       "      <td>NaN</td>\n",
       "      <td>Eukaryote</td>\n",
       "    </tr>\n",
       "    <tr>\n",
       "      <th>1147</th>\n",
       "      <td>AB828190</td>\n",
       "      <td>Human herpesvirus 4</td>\n",
       "      <td>Lymphocryptovirus</td>\n",
       "      <td>Gammaherpesvirinae</td>\n",
       "      <td>Herpesviridae</td>\n",
       "      <td>Herpesvirales</td>\n",
       "      <td>dsDNA viruses</td>\n",
       "      <td>no RNA stage</td>\n",
       "      <td>171021</td>\n",
       "      <td>99</td>\n",
       "      <td>Human herpesvirus 4 DNA, complete genome, str...</td>\n",
       "      <td>171021</td>\n",
       "      <td>circular</td>\n",
       "      <td>731173847</td>\n",
       "      <td>True</td>\n",
       "      <td>NaN</td>\n",
       "      <td>NaN</td>\n",
       "      <td>Eukaryote</td>\n",
       "    </tr>\n",
       "  </tbody>\n",
       "</table>\n",
       "</div>"
      ],
      "text/plain": [
       "      Accession              Species              Genus           Subfamily  \\\n",
       "3799   AB850652  Human herpesvirus 4  Lymphocryptovirus  Gammaherpesvirinae   \n",
       "7595   AB850659  Human herpesvirus 4  Lymphocryptovirus  Gammaherpesvirinae   \n",
       "9970   AB850656  Human herpesvirus 4  Lymphocryptovirus  Gammaherpesvirinae   \n",
       "4130   AB850655  Human herpesvirus 4  Lymphocryptovirus  Gammaherpesvirinae   \n",
       "9867   AB850658  Human herpesvirus 4  Lymphocryptovirus  Gammaherpesvirinae   \n",
       "4891   AB850653  Human herpesvirus 4  Lymphocryptovirus  Gammaherpesvirinae   \n",
       "3645   AB850650  Human herpesvirus 4  Lymphocryptovirus  Gammaherpesvirinae   \n",
       "1935   AB850648  Human herpesvirus 4  Lymphocryptovirus  Gammaherpesvirinae   \n",
       "1469   AB850651  Human herpesvirus 4  Lymphocryptovirus  Gammaherpesvirinae   \n",
       "5322   AB850644  Human herpesvirus 4  Lymphocryptovirus  Gammaherpesvirinae   \n",
       "11116  AB850643  Human herpesvirus 4  Lymphocryptovirus  Gammaherpesvirinae   \n",
       "4059   AB850647  Human herpesvirus 4  Lymphocryptovirus  Gammaherpesvirinae   \n",
       "1147   AB828190  Human herpesvirus 4  Lymphocryptovirus  Gammaherpesvirinae   \n",
       "\n",
       "              Family          Order           type             NN  Length  \\\n",
       "3799   Herpesviridae  Herpesvirales  dsDNA viruses   no RNA stage  171733   \n",
       "7595   Herpesviridae  Herpesvirales  dsDNA viruses   no RNA stage  171344   \n",
       "9970   Herpesviridae  Herpesvirales  dsDNA viruses   no RNA stage  171609   \n",
       "4130   Herpesviridae  Herpesvirales  dsDNA viruses   no RNA stage  171548   \n",
       "9867   Herpesviridae  Herpesvirales  dsDNA viruses   no RNA stage  171394   \n",
       "4891   Herpesviridae  Herpesvirales  dsDNA viruses   no RNA stage  171054   \n",
       "3645   Herpesviridae  Herpesvirales  dsDNA viruses   no RNA stage  171440   \n",
       "1935   Herpesviridae  Herpesvirales  dsDNA viruses   no RNA stage  171627   \n",
       "1469   Herpesviridae  Herpesvirales  dsDNA viruses   no RNA stage  171518   \n",
       "5322   Herpesviridae  Herpesvirales  dsDNA viruses   no RNA stage  171751   \n",
       "11116  Herpesviridae  Herpesvirales  dsDNA viruses   no RNA stage  171499   \n",
       "4059   Herpesviridae  Herpesvirales  dsDNA viruses   no RNA stage  171663   \n",
       "1147   Herpesviridae  Herpesvirales  dsDNA viruses   no RNA stage  171021   \n",
       "\n",
       "       NumProteins                                              Virus  \\\n",
       "3799             9   Human herpesvirus 4 DNA, complete genome, str...   \n",
       "7595            15   Human herpesvirus 4 DNA, complete genome, str...   \n",
       "9970            16   Human herpesvirus 4 DNA, complete genome, str...   \n",
       "4130            17   Human herpesvirus 4 DNA, complete genome, str...   \n",
       "9867            18   Human herpesvirus 4 DNA, complete genome, str...   \n",
       "4891            20   Human herpesvirus 4 DNA, complete genome, str...   \n",
       "3645            22   Human herpesvirus 4 DNA, complete genome, str...   \n",
       "1935            41   Human herpesvirus 4 DNA, complete genome, str...   \n",
       "1469            52   Human herpesvirus 4 DNA, complete genome, str...   \n",
       "5322            66   Human herpesvirus 4 DNA, complete genome, str...   \n",
       "11116           74   Human herpesvirus 4 DNA, complete genome, str...   \n",
       "4059            77   Human herpesvirus 4 DNA, complete genome, str...   \n",
       "1147            99   Human herpesvirus 4 DNA, complete genome, str...   \n",
       "\n",
       "       Length (bp)       C/L         GI Representative RepClusters RepSL  \\\n",
       "3799        171733  circular  747017415           True         NaN   NaN   \n",
       "7595        171344  circular  747017578           True         NaN   NaN   \n",
       "9970        171609  circular  747017529           True         NaN   NaN   \n",
       "4130        171548  circular  747017513           True         NaN   NaN   \n",
       "9867        171394  circular  747017565           True         NaN   NaN   \n",
       "4891        171054  circular  747017423           True         NaN   NaN   \n",
       "3645        171440  circular  747017362           True         NaN   NaN   \n",
       "1935        171627  circular  747017309           True         NaN   NaN   \n",
       "1469        171518  circular  747017380           True         NaN   NaN   \n",
       "5322        171751  circular  747017196           True         NaN   NaN   \n",
       "11116       171499  circular  747017151           True         NaN   NaN   \n",
       "4059        171663  circular  747017265           True         NaN   NaN   \n",
       "1147        171021  circular  731173847           True         NaN   NaN   \n",
       "\n",
       "            Host  \n",
       "3799   Eukaryote  \n",
       "7595   Eukaryote  \n",
       "9970   Eukaryote  \n",
       "4130   Eukaryote  \n",
       "9867   Eukaryote  \n",
       "4891   Eukaryote  \n",
       "3645   Eukaryote  \n",
       "1935   Eukaryote  \n",
       "1469   Eukaryote  \n",
       "5322   Eukaryote  \n",
       "11116  Eukaryote  \n",
       "4059   Eukaryote  \n",
       "1147   Eukaryote  "
      ]
     },
     "execution_count": 134,
     "metadata": {},
     "output_type": "execute_result"
    }
   ],
   "source": [
    "viruses[(viruses[\"Length\"]>171000)&(viruses[\"Length\"]<172000)&(viruses[\"NumProteins\"]<100)].sort_values(by=\"NumProteins\")"
   ]
  },
  {
   "cell_type": "code",
   "execution_count": 130,
   "metadata": {
    "collapsed": false
   },
   "outputs": [
    {
     "data": {
      "text/html": [
       "<div>\n",
       "<table border=\"1\" class=\"dataframe\">\n",
       "  <thead>\n",
       "    <tr style=\"text-align: right;\">\n",
       "      <th></th>\n",
       "      <th>Accession</th>\n",
       "      <th>Species</th>\n",
       "      <th>Genus</th>\n",
       "      <th>Subfamily</th>\n",
       "      <th>Family</th>\n",
       "      <th>Order</th>\n",
       "      <th>type</th>\n",
       "      <th>NN</th>\n",
       "      <th>Length</th>\n",
       "      <th>NumProteins</th>\n",
       "      <th>Virus</th>\n",
       "      <th>Length (bp)</th>\n",
       "      <th>C/L</th>\n",
       "      <th>GI</th>\n",
       "      <th>Representative</th>\n",
       "      <th>RepClusters</th>\n",
       "      <th>RepSL</th>\n",
       "      <th>Host</th>\n",
       "    </tr>\n",
       "  </thead>\n",
       "  <tbody>\n",
       "    <tr>\n",
       "      <th>6892</th>\n",
       "      <td>NC_008195</td>\n",
       "      <td>Mycobacterium phage Cooper</td>\n",
       "      <td>Pgonelikevirus</td>\n",
       "      <td>NaN</td>\n",
       "      <td>Siphoviridae</td>\n",
       "      <td>Caudovirales</td>\n",
       "      <td>dsDNA viruses</td>\n",
       "      <td>no RNA stage</td>\n",
       "      <td>70654</td>\n",
       "      <td>29</td>\n",
       "      <td>Mycobacterium phage Cooper, complete genome</td>\n",
       "      <td>70654</td>\n",
       "      <td>linear</td>\n",
       "      <td>109392353</td>\n",
       "      <td>True</td>\n",
       "      <td>True</td>\n",
       "      <td>NaN</td>\n",
       "      <td>Eukaryote</td>\n",
       "    </tr>\n",
       "    <tr>\n",
       "      <th>3610</th>\n",
       "      <td>NC_011044</td>\n",
       "      <td>Mycobacterium phage Nigel</td>\n",
       "      <td>Pgonelikevirus</td>\n",
       "      <td>NaN</td>\n",
       "      <td>Siphoviridae</td>\n",
       "      <td>Caudovirales</td>\n",
       "      <td>dsDNA viruses</td>\n",
       "      <td>no RNA stage</td>\n",
       "      <td>69904</td>\n",
       "      <td>36</td>\n",
       "      <td>Mycobacterium phage Nigel, complete genome</td>\n",
       "      <td>69904</td>\n",
       "      <td>linear</td>\n",
       "      <td>194100514</td>\n",
       "      <td>True</td>\n",
       "      <td>True</td>\n",
       "      <td>NaN</td>\n",
       "      <td>Eukaryote</td>\n",
       "    </tr>\n",
       "    <tr>\n",
       "      <th>7286</th>\n",
       "      <td>NC_023701</td>\n",
       "      <td>Mycobacterium phage Acadian</td>\n",
       "      <td>Pgonelikevirus</td>\n",
       "      <td>NaN</td>\n",
       "      <td>Siphoviridae</td>\n",
       "      <td>Caudovirales</td>\n",
       "      <td>dsDNA viruses</td>\n",
       "      <td>no RNA stage</td>\n",
       "      <td>69864</td>\n",
       "      <td>36</td>\n",
       "      <td>Mycobacterium phage Acadian, complete genome</td>\n",
       "      <td>69864</td>\n",
       "      <td>linear</td>\n",
       "      <td>593775497</td>\n",
       "      <td>True</td>\n",
       "      <td>True</td>\n",
       "      <td>NaN</td>\n",
       "      <td>Eukaryote</td>\n",
       "    </tr>\n",
       "  </tbody>\n",
       "</table>\n",
       "</div>"
      ],
      "text/plain": [
       "      Accession                      Species           Genus Subfamily  \\\n",
       "6892  NC_008195   Mycobacterium phage Cooper  Pgonelikevirus       NaN   \n",
       "3610  NC_011044    Mycobacterium phage Nigel  Pgonelikevirus       NaN   \n",
       "7286  NC_023701  Mycobacterium phage Acadian  Pgonelikevirus       NaN   \n",
       "\n",
       "            Family         Order           type             NN  Length  \\\n",
       "6892  Siphoviridae  Caudovirales  dsDNA viruses   no RNA stage   70654   \n",
       "3610  Siphoviridae  Caudovirales  dsDNA viruses   no RNA stage   69904   \n",
       "7286  Siphoviridae  Caudovirales  dsDNA viruses   no RNA stage   69864   \n",
       "\n",
       "      NumProteins                                          Virus  Length (bp)  \\\n",
       "6892           29    Mycobacterium phage Cooper, complete genome        70654   \n",
       "3610           36     Mycobacterium phage Nigel, complete genome        69904   \n",
       "7286           36   Mycobacterium phage Acadian, complete genome        69864   \n",
       "\n",
       "         C/L         GI Representative RepClusters RepSL       Host  \n",
       "6892  linear  109392353           True        True   NaN  Eukaryote  \n",
       "3610  linear  194100514           True        True   NaN  Eukaryote  \n",
       "7286  linear  593775497           True        True   NaN  Eukaryote  "
      ]
     },
     "execution_count": 130,
     "metadata": {},
     "output_type": "execute_result"
    }
   ],
   "source": [
    "viruses[(viruses[\"Length\"]>68000)&(viruses[\"Length\"]<72000)&(viruses[\"NumProteins\"]<40)].sort_values(by=\"NumProteins\")"
   ]
  },
  {
   "cell_type": "code",
   "execution_count": null,
   "metadata": {
    "collapsed": true
   },
   "outputs": [],
   "source": []
  }
 ],
 "metadata": {
  "kernelspec": {
   "display_name": "Python [Root]",
   "language": "python",
   "name": "Python [Root]"
  },
  "language_info": {
   "codemirror_mode": {
    "name": "ipython",
    "version": 2
   },
   "file_extension": ".py",
   "mimetype": "text/x-python",
   "name": "python",
   "nbconvert_exporter": "python",
   "pygments_lexer": "ipython2",
   "version": "2.7.11"
  }
 },
 "nbformat": 4,
 "nbformat_minor": 0
}
