{
 "cells": [
  {
   "cell_type": "code",
   "execution_count": 1,
   "metadata": {
    "collapsed": true
   },
   "outputs": [],
   "source": [
    "import pandas as pd"
   ]
  },
  {
   "cell_type": "markdown",
   "metadata": {},
   "source": [
    "#### Import results"
   ]
  },
  {
   "cell_type": "code",
   "execution_count": 11,
   "metadata": {
    "collapsed": false
   },
   "outputs": [
    {
     "data": {
      "text/html": [
       "<div>\n",
       "<table border=\"1\" class=\"dataframe\">\n",
       "  <thead>\n",
       "    <tr style=\"text-align: right;\">\n",
       "      <th></th>\n",
       "      <th>Virus</th>\n",
       "      <th>Length (bp)</th>\n",
       "      <th>C/L</th>\n",
       "      <th>Accession</th>\n",
       "      <th>GI</th>\n",
       "      <th>Representative</th>\n",
       "      <th>RepClusters</th>\n",
       "      <th>RepSL</th>\n",
       "    </tr>\n",
       "  </thead>\n",
       "  <tbody>\n",
       "    <tr>\n",
       "      <th>0</th>\n",
       "      <td>Leuconostoc phage L5, complete genome</td>\n",
       "      <td>2435</td>\n",
       "      <td>circular</td>\n",
       "      <td>L06183</td>\n",
       "      <td>289353</td>\n",
       "      <td>True</td>\n",
       "      <td>NaN</td>\n",
       "      <td>NaN</td>\n",
       "    </tr>\n",
       "    <tr>\n",
       "      <th>1</th>\n",
       "      <td>Enterobacteria phage BZ13 strain T72, complet...</td>\n",
       "      <td>3393</td>\n",
       "      <td>linear</td>\n",
       "      <td>FJ483838</td>\n",
       "      <td>254547565</td>\n",
       "      <td>True</td>\n",
       "      <td>NaN</td>\n",
       "      <td>NaN</td>\n",
       "    </tr>\n",
       "    <tr>\n",
       "      <th>2</th>\n",
       "      <td>Enterobacteria phage M, complete genome</td>\n",
       "      <td>3405</td>\n",
       "      <td>linear</td>\n",
       "      <td>JX625144</td>\n",
       "      <td>408384539</td>\n",
       "      <td>False</td>\n",
       "      <td>NC_019707</td>\n",
       "      <td>NaN</td>\n",
       "    </tr>\n",
       "    <tr>\n",
       "      <th>3</th>\n",
       "      <td>Enterobacteria phage M, complete genome</td>\n",
       "      <td>3405</td>\n",
       "      <td>linear</td>\n",
       "      <td>NC_019707</td>\n",
       "      <td>428781805</td>\n",
       "      <td>True</td>\n",
       "      <td>NaN</td>\n",
       "      <td>NaN</td>\n",
       "    </tr>\n",
       "    <tr>\n",
       "      <th>4</th>\n",
       "      <td>Enterobacteria phage BZ13 strain DL10, comple...</td>\n",
       "      <td>3412</td>\n",
       "      <td>linear</td>\n",
       "      <td>FJ483837</td>\n",
       "      <td>254547560</td>\n",
       "      <td>True</td>\n",
       "      <td>NaN</td>\n",
       "      <td>NaN</td>\n",
       "    </tr>\n",
       "  </tbody>\n",
       "</table>\n",
       "</div>"
      ],
      "text/plain": [
       "                                               Virus  Length (bp)       C/L  \\\n",
       "0              Leuconostoc phage L5, complete genome         2435  circular   \n",
       "1   Enterobacteria phage BZ13 strain T72, complet...         3393    linear   \n",
       "2            Enterobacteria phage M, complete genome         3405    linear   \n",
       "3            Enterobacteria phage M, complete genome         3405    linear   \n",
       "4   Enterobacteria phage BZ13 strain DL10, comple...         3412    linear   \n",
       "\n",
       "   Accession         GI Representative RepClusters RepSL  \n",
       "0     L06183     289353           True         NaN   NaN  \n",
       "1   FJ483838  254547565           True         NaN   NaN  \n",
       "2   JX625144  408384539          False   NC_019707   NaN  \n",
       "3  NC_019707  428781805           True         NaN   NaN  \n",
       "4   FJ483837  254547560           True         NaN   NaN  "
      ]
     },
     "execution_count": 11,
     "metadata": {},
     "output_type": "execute_result"
    }
   ],
   "source": [
    "phages = pd.read_csv(\"Phages/finalGenomesVsAllgenomes.extednded.csv\",header=0,index_col=0)\n",
    "phages.head()"
   ]
  },
  {
   "cell_type": "code",
   "execution_count": 12,
   "metadata": {
    "collapsed": false
   },
   "outputs": [
    {
     "data": {
      "text/html": [
       "<div>\n",
       "<table border=\"1\" class=\"dataframe\">\n",
       "  <thead>\n",
       "    <tr style=\"text-align: right;\">\n",
       "      <th></th>\n",
       "      <th>Virus</th>\n",
       "      <th>Length (bp)</th>\n",
       "      <th>C/L</th>\n",
       "      <th>Accession</th>\n",
       "      <th>GI</th>\n",
       "      <th>Representative</th>\n",
       "      <th>RepClusters</th>\n",
       "      <th>RepSL</th>\n",
       "    </tr>\n",
       "  </thead>\n",
       "  <tbody>\n",
       "    <tr>\n",
       "      <th>0</th>\n",
       "      <td>simian virus 40/african green monkey cell dna...</td>\n",
       "      <td>116</td>\n",
       "      <td>linear</td>\n",
       "      <td>K00802</td>\n",
       "      <td>335084</td>\n",
       "      <td>False</td>\n",
       "      <td>NC_001669</td>\n",
       "      <td>NaN</td>\n",
       "    </tr>\n",
       "    <tr>\n",
       "      <th>1</th>\n",
       "      <td>Rice yellow mottle virus satellite, complete ...</td>\n",
       "      <td>220</td>\n",
       "      <td>circular</td>\n",
       "      <td>NC_003380</td>\n",
       "      <td>18450262</td>\n",
       "      <td>True</td>\n",
       "      <td>NaN</td>\n",
       "      <td>NaN</td>\n",
       "    </tr>\n",
       "    <tr>\n",
       "      <th>2</th>\n",
       "      <td>Turnip crinkle virus satellite RNA, complete ...</td>\n",
       "      <td>230</td>\n",
       "      <td>linear</td>\n",
       "      <td>NC_004033</td>\n",
       "      <td>21450051</td>\n",
       "      <td>True</td>\n",
       "      <td>NaN</td>\n",
       "      <td>NaN</td>\n",
       "    </tr>\n",
       "    <tr>\n",
       "      <th>3</th>\n",
       "      <td>Arabis mosaic virus small satellite RNA, comp...</td>\n",
       "      <td>300</td>\n",
       "      <td>circular</td>\n",
       "      <td>M21212</td>\n",
       "      <td>334028</td>\n",
       "      <td>False</td>\n",
       "      <td>NC_001546</td>\n",
       "      <td>NaN</td>\n",
       "    </tr>\n",
       "    <tr>\n",
       "      <th>4</th>\n",
       "      <td>Arabis mosaic virus small satellite RNA, comp...</td>\n",
       "      <td>300</td>\n",
       "      <td>circular</td>\n",
       "      <td>NC_001546</td>\n",
       "      <td>9627203</td>\n",
       "      <td>True</td>\n",
       "      <td>NaN</td>\n",
       "      <td>NaN</td>\n",
       "    </tr>\n",
       "  </tbody>\n",
       "</table>\n",
       "</div>"
      ],
      "text/plain": [
       "                                               Virus  Length (bp)       C/L  \\\n",
       "0   simian virus 40/african green monkey cell dna...          116    linear   \n",
       "1   Rice yellow mottle virus satellite, complete ...          220  circular   \n",
       "2   Turnip crinkle virus satellite RNA, complete ...          230    linear   \n",
       "3   Arabis mosaic virus small satellite RNA, comp...          300  circular   \n",
       "4   Arabis mosaic virus small satellite RNA, comp...          300  circular   \n",
       "\n",
       "   Accession        GI Representative RepClusters RepSL  \n",
       "0     K00802    335084          False   NC_001669   NaN  \n",
       "1  NC_003380  18450262           True         NaN   NaN  \n",
       "2  NC_004033  21450051           True         NaN   NaN  \n",
       "3     M21212    334028          False   NC_001546   NaN  \n",
       "4  NC_001546   9627203           True         NaN   NaN  "
      ]
     },
     "execution_count": 12,
     "metadata": {},
     "output_type": "execute_result"
    }
   ],
   "source": [
    "viruses = pd.read_csv(\"Viruses/finalGenomesVsAllgenomes.extended.csv\",header=0,sep='\\t')\n",
    "viruses.head()"
   ]
  },
  {
   "cell_type": "markdown",
   "metadata": {},
   "source": [
    "#### Combine tables"
   ]
  },
  {
   "cell_type": "code",
   "execution_count": 15,
   "metadata": {
    "collapsed": false
   },
   "outputs": [
    {
     "name": "stdout",
     "output_type": "stream",
     "text": [
      "(44111, 9)\n"
     ]
    }
   ],
   "source": [
    "#Attach information of host\n",
    "phages[\"Host\"] = \"Prokaryote\"\n",
    "viruses[\"Host\"] = \"Eukaryote\"\n",
    "\n",
    "#combine\n",
    "allEntries = pd.concat([phages,viruses])\n",
    "print allEntries.shape\n",
    "\n",
    "#sort table\n",
    "allEntries.sort_values(by=[\"Representative\",\"Host\",\"Accession\"],ascending=False,inplace=True)\n",
    "\n",
    "#savefile\n",
    "allEntries.to_csv(\"summaryFinalGenomes.csv\",header=True,index=False,sep='\\t')"
   ]
  },
  {
   "cell_type": "code",
   "execution_count": 17,
   "metadata": {
    "collapsed": false
   },
   "outputs": [
    {
     "data": {
      "text/plain": [
       "(14057, 9)"
      ]
     },
     "execution_count": 17,
     "metadata": {},
     "output_type": "execute_result"
    }
   ],
   "source": [
    "allEntries[allEntries[\"Representative\"]==True].shape"
   ]
  }
 ],
 "metadata": {
  "kernelspec": {
   "display_name": "Python [Root]",
   "language": "python",
   "name": "Python [Root]"
  },
  "language_info": {
   "codemirror_mode": {
    "name": "ipython",
    "version": 2
   },
   "file_extension": ".py",
   "mimetype": "text/x-python",
   "name": "python",
   "nbconvert_exporter": "python",
   "pygments_lexer": "ipython2",
   "version": "2.7.11"
  }
 },
 "nbformat": 4,
 "nbformat_minor": 2
}
