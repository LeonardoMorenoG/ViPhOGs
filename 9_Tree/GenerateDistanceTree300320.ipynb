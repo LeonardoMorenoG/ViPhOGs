{
 "cells": [
  {
   "cell_type": "code",
   "execution_count": 1,
   "metadata": {
    "collapsed": false
   },
   "outputs": [],
   "source": [
    "import pandas as pd\n",
    "import numpy as np \n",
    "\n",
    "from scipy.cluster.hierarchy import dendrogram, linkage, to_tree, is_valid_linkage\n",
    "from scipy.spatial.distance import pdist"
   ]
  },
  {
   "cell_type": "code",
   "execution_count": 2,
   "metadata": {
    "collapsed": true
   },
   "outputs": [],
   "source": [
    "def getNewick(node, newick, parentdist, leaf_names):\n",
    "    if node.is_leaf():\n",
    "        return \"%s:%.2f%s\" % (leaf_names[node.id], parentdist - node.dist, newick)\n",
    "    else:\n",
    "        if len(newick) > 0:\n",
    "            newick = \"):%.2f%s\" % (parentdist - node.dist, newick)\n",
    "        else:\n",
    "            newick = \");\"\n",
    "        newick = getNewick(node.get_left(), newick, node.dist, leaf_names)\n",
    "        newick = getNewick(node.get_right(), \",%s\" % (newick), node.dist, leaf_names)\n",
    "        newick = \"(%s\" % (newick)\n",
    "        return newick\n",
    "    \n",
    "# Taken from stackOverflow \n",
    "# At http://stackoverflow.com/questions/28222179/save-dendrogram-to-newick-format\n",
    "# On: Tue 07/06/16"
   ]
  },
  {
   "cell_type": "code",
   "execution_count": 3,
   "metadata": {
    "collapsed": true
   },
   "outputs": [],
   "source": [
    "# 1.Get highly representative ViPhOGs"
   ]
  },
  {
   "cell_type": "code",
   "execution_count": 4,
   "metadata": {
    "collapsed": true
   },
   "outputs": [],
   "source": [
    "def readViPhOGsList(aPath):\n",
    "    fr = open(aPath)\n",
    "    viphogs = []\n",
    "    for v in fr:\n",
    "        viphogs.append(v.strip('\\n'))\n",
    "    return viphogs\n",
    "\n",
    "viphogsOrder = readViPhOGsList(\"../8_machineLearning_copy/1_Classification/Order300320/importantViphogs.minNumberBestScore.csv\")\n",
    "viphogsFamily = readViPhOGsList(\"../8_machineLearning_copy/1_Classification/Family300320/importantViphogs.minNumberBestScore.csv\")\n",
    "viphogsGenus = readViPhOGsList(\"../8_machineLearning_copy/1_Classification/Genus300320/importantViphogs.minNumberBestScore.csv\")"
   ]
  },
  {
   "cell_type": "code",
   "execution_count": 5,
   "metadata": {
    "collapsed": false
   },
   "outputs": [
    {
     "name": "stdout",
     "output_type": "stream",
     "text": [
      "20 388 1392\n",
      "1457\n"
     ]
    }
   ],
   "source": [
    "print len(viphogsOrder),len(viphogsFamily),len(viphogsGenus)\n",
    "importantViphogs = list(set(viphogsOrder)|set(viphogsFamily)|set(viphogsGenus))\n",
    "print len(importantViphogs)"
   ]
  },
  {
   "cell_type": "code",
   "execution_count": 6,
   "metadata": {
    "collapsed": false
   },
   "outputs": [],
   "source": [
    "#2. Read genomes vs clusters matrix"
   ]
  },
  {
   "cell_type": "code",
   "execution_count": 7,
   "metadata": {
    "collapsed": false
   },
   "outputs": [],
   "source": [
    "matrix = pd.read_csv(\"../8_machineLearning/SP/Type/fooGenXCLS.Type.csv\",sep='\\t',header=0,index_col=0)"
   ]
  },
  {
   "cell_type": "code",
   "execution_count": 8,
   "metadata": {
    "collapsed": false
   },
   "outputs": [
    {
     "data": {
      "text/plain": [
       "(10151, 31150)"
      ]
     },
     "execution_count": 8,
     "metadata": {},
     "output_type": "execute_result"
    }
   ],
   "source": [
    "matrix.shape"
   ]
  },
  {
   "cell_type": "code",
   "execution_count": 9,
   "metadata": {
    "collapsed": false
   },
   "outputs": [
    {
     "data": {
      "text/plain": [
       "(10151, 1457)"
      ]
     },
     "execution_count": 9,
     "metadata": {},
     "output_type": "execute_result"
    }
   ],
   "source": [
    "matrix = matrix[importantViphogs].copy()\n",
    "matrix.shape"
   ]
  },
  {
   "cell_type": "code",
   "execution_count": 10,
   "metadata": {
    "collapsed": false
   },
   "outputs": [],
   "source": [
    "#3. Subsetting Data"
   ]
  },
  {
   "cell_type": "code",
   "execution_count": 11,
   "metadata": {
    "collapsed": false
   },
   "outputs": [
    {
     "name": "stdout",
     "output_type": "stream",
     "text": [
      "Accession,Subsepecies,Species,Subgenus,Genus,Subfamily,Family,Order,type\n",
      "\n",
      "13098\n"
     ]
    }
   ],
   "source": [
    "fr = open(\"../7_DBtests/iv_queries/taxonomicAnnotationGenomesWithVOGs.csv\")\n",
    "print fr.readline()\n",
    "accessions = {}\n",
    "for line in fr:\n",
    "    line = line.strip('\\n').split(',')\n",
    "    accession = line[0]\n",
    "    taxPath = line[1:] #taxPath means taxonomy path\n",
    "    accessions[accession] = taxPath\n",
    "print len(accessions)\n",
    "taxLabels = {\"subspecies\":0,\"species\":1,\"subgenus\":2,\"genus\":3,\"subfamily\":4,\"family\":5,\"order\":6,\"type\":7}"
   ]
  },
  {
   "cell_type": "code",
   "execution_count": 12,
   "metadata": {
    "collapsed": false
   },
   "outputs": [],
   "source": [
    "#genomes = list(genomesVsClusters[\"Matrix\"])\n",
    "genomes = matrix.index.tolist()\n",
    "labels = {}\n",
    "for accession in genomes:\n",
    "    label = accessions[accession][taxLabels[\"genus\"]] \n",
    "    if label != \"NA\":\n",
    "        if label in labels:\n",
    "            aux = labels[label]\n",
    "            aux.append(accession)\n",
    "            labels[label] = aux\n",
    "        else:\n",
    "            labels[label] = [accession]\n",
    "        \n",
    "#accessions are randomized since a random selection will be done\n",
    "\n",
    "for label in labels:\n",
    "    np.random.shuffle(labels[label])"
   ]
  },
  {
   "cell_type": "code",
   "execution_count": 13,
   "metadata": {
    "collapsed": true
   },
   "outputs": [
    {
     "name": "stdout",
     "output_type": "stream",
     "text": [
      "Spbetalikevirus:1\n",
      "Cucumovirus:2\n",
      "Norovirus:102\n",
      "Rotavirus:3\n",
      "Dependoparvovirus:22\n",
      "Torovirus:3\n",
      "Mammarenavirus:19\n",
      "Tepovirus:4\n",
      "Betacoronavirus:137\n",
      "Betapapillomavirus:40\n",
      "N15likevirus:1\n",
      "Cuevavirus:1\n",
      "Gammatorquevirus:3\n",
      "Lolavirus:1\n",
      "Maculavirus:6\n",
      "Alphapapillomavirus:101\n",
      "Betatetravirus:1\n",
      "Ilarvirus:24\n",
      "Betalipothrixvirus:6\n",
      "Cytorhabdovirus:7\n",
      "Cp8unalikevirus:3\n",
      "Respirovirus:30\n",
      "Sakobuvirus:1\n",
      "Nepovirus:11\n",
      "Phikmvlikevirus:23\n",
      "Rhopapillomavirus:1\n",
      "Kappatorquevirus:2\n",
      "Marseillevirus:1\n",
      "Dyopipapillomavirus:1\n",
      "Yatapoxvirus:3\n",
      "Lymphocryptovirus:31\n",
      "Mycoflexivirus:1\n",
      "Avulavirus:77\n",
      "Arenavirus:5\n",
      "Hk578likevirus:5\n",
      "Reylikevirus:2\n",
      "Parechovirus:28\n",
      "Bornavirus:4\n",
      "Piscihepevirus:1\n",
      "Pbiunalikevirus:2\n",
      "Avipoxvirus:5\n",
      "Viunalikevirus:8\n",
      "Skunalikevirus:16\n",
      "Brambyvirus:1\n",
      "Tibrovirus:3\n",
      "Lambdatorquevirus:1\n",
      "Mimivirus:5\n",
      "Curtovirus:15\n",
      "Iotapapillomavirus:1\n",
      "Begomovirus:519\n",
      "Phi29likevirus:5\n",
      "Suipoxvirus:1\n",
      "Emaravirus:2\n",
      "Macluravirus:4\n",
      "Luz24likevirus:6\n",
      "Betanodavirus:5\n",
      "Xipapillomavirus:10\n",
      "Felixounalikevirus:6\n",
      "Trichomonasvirus:16\n",
      "Poacevirus:5\n",
      "Zeavirus:1\n",
      "Siadenovirus:4\n",
      "Chlamydiamicrovirus:4\n",
      "Pgonelikevirus:10\n",
      "Proboscivirus:4\n",
      "P22likevirus:13\n",
      "Alphatorquevirus:23\n",
      "Marafivirus:9\n",
      "Phikzlikevirus:4\n",
      "N4likevirus:33\n",
      "Bcep78likevirus:5\n",
      "Dyozetapapillomavirus:2\n",
      "Iteradensovirus:9\n",
      "Panicovirus:4\n",
      "Vesiculovirus:20\n",
      "Amdoparvovirus:1\n",
      "Betafusellovirus:2\n",
      "Sequivirus:2\n",
      "Cilevirus:1\n",
      "Phietalikevirus:35\n",
      "Umbravirus:8\n",
      "Cp220likevirus:4\n",
      "Dyoomikronpapillomavirus:3\n",
      "Circovirus:169\n",
      "Alfamovirus:1\n",
      "Percavirus:3\n",
      "Tetraparvovirus:4\n",
      "Parapoxvirus:8\n",
      "Erythroparvovirus:4\n",
      "Gallantivirus:1\n",
      "Xp10likevirus:5\n",
      "Cheravirus:1\n",
      "Polerovirus:58\n",
      "Tectivirus:11\n",
      "Aquaparamyxovirus:1\n",
      "Wbetalikevirus:1\n",
      "Rubulavirus:28\n",
      "Barnavirus:1\n",
      "Betanecrovirus:8\n",
      "Coccolithovirus:1\n",
      "Mamastrovirus:55\n",
      "Bicaudavirus:1\n",
      "Gallivirus:2\n",
      "Barnyardlikevirus:5\n",
      "Thetapapillomavirus:1\n",
      "Bafinivirus:2\n",
      "Oscivirus:4\n",
      "Henipavirus:5\n",
      "Dyorhopapillomavirus:1\n",
      "Ferlavirus:2\n",
      "Mastrevirus:114\n",
      "Tospovirus:2\n",
      "Fijivirus:19\n",
      "Hepacivirus:616\n",
      "Molluscipoxvirus:1\n",
      "Tymovirus:23\n",
      "Babuvirus:1\n",
      "Dicipivirus:2\n",
      "Orthopoxvirus:124\n",
      "Leishmaniavirus:4\n",
      "T4likevirus:171\n",
      "Morbillivirus:21\n",
      "Dyodeltapapillomavirus:1\n",
      "Dyomupapillomavirus:1\n",
      "Negevirus:1\n",
      "Sapovirus:21\n",
      "Protoparvovirus:32\n",
      "Turncurtovirus:4\n",
      "Salivirus:4\n",
      "Iflavirus:31\n",
      "Phipapillomavirus:1\n",
      "Prymnesiovirus:1\n",
      "Tm4likevirus:8\n",
      "Cardiovirus:23\n",
      "Pneumovirus:51\n",
      "Taupapillomavirus:5\n",
      "Lymphocystivirus:2\n",
      "Gammapartitivirus:10\n",
      "Perhabdovirus:1\n",
      "Alphanodavirus:6\n",
      "Topocuvirus:1\n",
      "Whispovirus:4\n",
      "Leporipoxvirus:6\n",
      "Machlomovirus:1\n",
      "Zetatorquevirus:1\n",
      "Penstyldensovirus:4\n",
      "Dyoxipapillomavirus:3\n",
      "Etatorquevirus:3\n",
      "Bcepmulikevirus:2\n",
      "Sapelovirus:8\n",
      "Marburgvirus:5\n",
      "P23likevirus:2\n",
      "Citrivirus:2\n",
      "Metapneumovirus:48\n",
      "Bignuzlikevirus:2\n",
      "Capripoxvirus:5\n",
      "Ictalurivirus:1\n",
      "Allolevivirus:12\n",
      "Ahjdlikevirus:5\n",
      "Capillovirus:10\n",
      "Pequenovirus:21\n",
      "Fabavirus:4\n",
      "Carmovirus:31\n",
      "Simplexvirus:22\n",
      "Phieco32likevirus:2\n",
      "Ephemerovirus:10\n",
      "Dyosigmapapillomavirus:1\n",
      "D3112likevirus:9\n",
      "Aviadenovirus:15\n",
      "Crinivirus:20\n",
      "Salterprovirus:2\n",
      "Alphapermutotetravirus:1\n",
      "Passerivirus:1\n",
      "Sap6likevirus:5\n",
      "Betaentomopoxvirus:5\n",
      "Closterovirus:35\n",
      "Avenavirus:1\n",
      "Sigmavirus:2\n",
      "Furovirus:2\n",
      "Corticovirus:1\n",
      "Punalikevirus:4\n",
      "Bronlikevirus:4\n",
      "Chlorovirus:5\n",
      "Deltabaculovirus:1\n",
      "Epsilontorquevirus:1\n",
      "Bppunalikevirus:3\n",
      "Alphafusellovirus:7\n",
      "Omikronpapillomavirus:3\n",
      "Zetapapillomavirus:2\n",
      "Trichovirus:19\n",
      "Orthobunyavirus:4\n",
      "Corndoglikevirus:2\n",
      "Alphabaculovirus:87\n",
      "Tremovirus:4\n",
      "Velarivirus:5\n",
      "Asfivirus:15\n",
      "Nanovirus:2\n",
      "Gammalipothrixvirus:1\n",
      "Pbunalikevirus:9\n",
      "Halolikevirus:2\n",
      "Omegapapillomavirus:1\n",
      "C5likevirus:2\n",
      "Kappapapillomavirus:3\n",
      "D3likevirus:3\n",
      "Tombusvirus:16\n",
      "Arterivirus:147\n",
      "Sigmapapillomavirus:1\n",
      "Nyavirus:2\n",
      "Dyoepsilonpapillomavirus:1\n",
      "Roseolovirus:8\n",
      "Becurtovirus:6\n",
      "Varicellovirus:51\n",
      "Mischivirus:1\n",
      "Hepatovirus:8\n",
      "PhiCD119likevirus:3\n",
      "Victorivirus:21\n",
      "Dyothetapapillomavirus:1\n",
      "Betabaculovirus:26\n",
      "Alphacoronavirus:92\n",
      "Hantavirus:7\n",
      "Ophiovirus:3\n",
      "Prasinovirus:4\n",
      "Bdellomicrovirus:1\n",
      "Pomovirus:1\n",
      "Lyssavirus:90\n",
      "Copiparvovirus:2\n",
      "Macanavirus:1\n",
      "Sicinivirus:1\n",
      "Waikavirus:6\n",
      "Orthoreovirus:44\n",
      "Deltalipothrixvirus:1\n",
      "Potyvirus:352\n",
      "Hapunalikevirus:2\n",
      "Vitivirus:21\n",
      "Alphanecrovirus:6\n",
      "Alphamesonivirus:5\n",
      "Bracovirus:36\n",
      "Batrachovirus:2\n",
      "Upsilonpapillomavirus:7\n",
      "Omegalikevirus:6\n",
      "Potexvirus:75\n",
      "Chilikevirus:7\n",
      "Eragrovirus:3\n",
      "Varicosavirus:1\n",
      "Allexivirus:15\n",
      "Comovirus:4\n",
      "Thetatorquevirus:1\n",
      "Andromedalikevirus:7\n",
      "Novirhabdovirus:13\n",
      "Senecavirus:1\n",
      "Atadenovirus:7\n",
      "Nebovirus:3\n",
      "Tobamovirus:50\n",
      "Bacillarnavirus:3\n",
      "Aureusvirus:6\n",
      "Ambidensovirus:12\n",
      "Mardivirus:21\n",
      "P2likevirus:25\n",
      "Ebolavirus:15\n",
      "Ampullavirus:1\n",
      "Blosnavirus:1\n",
      "Rudivirus:6\n",
      "Etapapillomavirus:1\n",
      "Iltovirus:12\n",
      "Ipomovirus:11\n",
      "Dinornavirus:2\n",
      "Sp6likevirus:9\n",
      "Teschovirus:6\n",
      "Che9clikevirus:4\n",
      "Gammabaculovirus:3\n",
      "Alphacarmotetravirus:1\n",
      "Crocodylidpoxvirus:1\n",
      "Sclerodarnavirus:1\n",
      "Deltapapillomavirus:16\n",
      "Aquamavirus:1\n",
      "Gammacoronavirus:85\n",
      "F116likevirus:2\n",
      "Chloriridovirus:1\n",
      "Hunnivirus:2\n",
      "Enamovirus:1\n",
      "Bymovirus:1\n",
      "Mosavirus:1\n",
      "Spiromicrovirus:1\n",
      "Quadrivirus:1\n",
      "Polyomavirus:145\n",
      "Botrexvirus:1\n",
      "Phaeovirus:2\n",
      "Totivirus:8\n",
      "Cafeteriavirus:1\n",
      "Mulikevirus:4\n",
      "L5likevirus:63\n",
      "Phicbklikevirus:5\n",
      "Deltapartitivirus:1\n",
      "Orbivirus:19\n",
      "Jerseylikevirus:6\n",
      "Phijlunalikevirus:3\n",
      "Ascovirus:4\n",
      "Che8likevirus:26\n",
      "Pestivirus:74\n",
      "I3likevirus:19\n",
      "Carlavirus:69\n",
      "Bcep22likevirus:4\n",
      "Dyokappapapillomavirus:1\n",
      "Phie125likevirus:3\n",
      "Bracorhabdovirus:1\n",
      "Dyonupapillomavirus:1\n",
      "Ostreavirus:1\n",
      "Brevidensovirus:3\n",
      "Cervidpoxvirus:2\n",
      "Vesivirus:36\n",
      "Alphaentomopoxvirus:1\n",
      "Plectrovirus:5\n",
      "Sobemovirus:38\n",
      "Megalocytivirus:6\n",
      "Alphapartitivirus:5\n",
      "Mandarivirus:2\n",
      "Alphaturrivirus:2\n",
      "Levivirus:11\n",
      "Sfi1unalikevirus:5\n",
      "Pegivirus:27\n",
      "Avihepatovirus:16\n",
      "Mastadenovirus:215\n",
      "Dyolambdapapillomavirus:1\n",
      "Enterovirus:481\n",
      "Nupapillomavirus:1\n",
      "Microvirus:22\n",
      "Hepevirus:128\n",
      "Betatorquevirus:11\n",
      "Lagovirus:10\n",
      "Hypovirus:12\n",
      "Megrivirus:4\n",
      "Pithovirus:1\n",
      "Endornavirus:18\n",
      "3alikevirus:6\n",
      "Omegatetravirus:2\n",
      "Tp2unalikevirus:1\n",
      "T5likevirus:10\n",
      "Cripavirus:15\n",
      "Luteovirus:23\n",
      "77likevirus:3\n",
      "Phic3unalikevirus:3\n",
      "Aquareovirus:12\n",
      "Aquabirnavirus:1\n",
      "Lambdapapillomavirus:10\n",
      "C2likevirus:2\n",
      "Aveparvovirus:6\n",
      "Okavirus:4\n",
      "Gyrovirus:19\n",
      "Muromegalovirus:16\n",
      "Ranavirus:20\n",
      "Lambdalikevirus:31\n",
      "Sfi21dtunalikevirus:5\n",
      "Pasivirus:3\n",
      "Macavirus:5\n",
      "Mitovirus:15\n",
      "Ampelovirus:28\n",
      "Chipapillomavirus:5\n",
      "T7likevirus:47\n",
      "Tunalikevirus:13\n",
      "Rosavirus:1\n",
      "Flavivirus:161\n",
      "Polemovirus:1\n",
      "Hpunalikevirus:5\n",
      "Spounalikevirus:8\n",
      "Epsilon15likevirus:3\n",
      "Sprivivirus:6\n",
      "Foveavirus:23\n",
      "Dyoetapapillomavirus:1\n",
      "Kunsagivirus:1\n",
      "Inovirus:25\n",
      "Bromovirus:3\n",
      "Rubivirus:5\n",
      "Reptarenavirus:6\n",
      "Betaguttavirus:1\n",
      "Kobuvirus:32\n",
      "Iotatorquevirus:53\n",
      "Hepandensovirus:4\n",
      "Cosavirus:5\n",
      "Alphavirus:83\n",
      "Ichnovirus:6\n",
      "Aphthovirus:151\n",
      "Cytomegalovirus:144\n",
      "Rymovirus:5\n",
      "Epsilonpapillomavirus:2\n",
      "Benyvirus:1\n",
      "Marnavirus:1\n",
      "Charlielikevirus:2\n",
      "Betapartitivirus:15\n",
      "Bocaparvovirus:61\n",
      "Erbovirus:2\n",
      "Rhadinovirus:12\n",
      "Labyrnavirus:1\n",
      "Aparavirus:15\n",
      "Giardiavirus:2\n",
      "Iebhlikevirus:2\n",
      "Nucleorhabdovirus:11\n",
      "Avastrovirus:20\n",
      "Phlebovirus:19\n",
      "Anulavirus:3\n",
      "Yualikevirus:3\n",
      "Plasmavirus:1\n",
      "Avisivirus:1\n",
      "Twortlikevirus:27\n",
      "Gammapapillomavirus:54\n",
      "Tritimovirus:10\n",
      "Iridovirus:7\n",
      "Psipapillomavirus:1\n",
      "Schizot4likevirus:4\n",
      "Pipapillomavirus:5\n",
      "Cyprinivirus:7\n",
      "Phifllikevirus:7\n",
      "Chrysovirus:3\n",
      "Mupapillomavirus:2\n",
      "Cjwunalikevirus:12\n",
      "Dyoiotapapillomavirus:1\n",
      "Deltacoronavirus:16\n",
      "Tupavirus:1\n",
      "4.0\n",
      "417\n"
     ]
    }
   ],
   "source": [
    "numPerLabel = []\n",
    "for label in labels:\n",
    "    print label + ':' + str(len(labels[label]))\n",
    "    numPerLabel.append(len(labels[label]))\n",
    "print np.median(np.array(numPerLabel))\n",
    "print len(labels) \n",
    "labelsTraining = {}    \n",
    "i = 0  \n",
    "for label in labels:\n",
    "    if label in labelsTraining:\n",
    "        continue\n",
    "    else:\n",
    "        labelsTraining[label] = i\n",
    "        i += 1"
   ]
  },
  {
   "cell_type": "code",
   "execution_count": 14,
   "metadata": {
    "collapsed": false
   },
   "outputs": [
    {
     "name": "stdout",
     "output_type": "stream",
     "text": [
      "1245\n"
     ]
    }
   ],
   "source": [
    "trainAndTest = 4\n",
    "training = {}\n",
    "\n",
    "for label in labels:\n",
    "    if len(labels[label])>trainAndTest:\n",
    "        training[label] = labels[label][0:trainAndTest]\n",
    "    else:\n",
    "        training[label] = labels[label]\n",
    "    \n",
    "genomesTraining = []\n",
    "for label in training:\n",
    "    genomesTraining = genomesTraining + training[label]\n",
    "#genomesTraining = labels[\"Retro-transcribing viruses\"]\n",
    "print len(genomesTraining)"
   ]
  },
  {
   "cell_type": "code",
   "execution_count": 15,
   "metadata": {
    "collapsed": false
   },
   "outputs": [
    {
     "name": "stdout",
     "output_type": "stream",
     "text": [
      "(1245, 1457)\n"
     ]
    }
   ],
   "source": [
    "matrixTree = matrix.loc[genomesTraining].copy()\n",
    "print matrixTree.shape"
   ]
  },
  {
   "cell_type": "code",
   "execution_count": 16,
   "metadata": {
    "collapsed": false
   },
   "outputs": [
    {
     "data": {
      "text/plain": [
       "NC_000867    0\n",
       "dtype: float64"
      ]
     },
     "execution_count": 16,
     "metadata": {},
     "output_type": "execute_result"
    }
   ],
   "source": [
    "matrixTree[matrixTree.sum(axis=1)<1].sum(axis=1)"
   ]
  },
  {
   "cell_type": "code",
   "execution_count": 17,
   "metadata": {
    "collapsed": false
   },
   "outputs": [],
   "source": [
    "matrixTree.drop([\"NC_000867\"],inplace=True)"
   ]
  },
  {
   "cell_type": "code",
   "execution_count": 18,
   "metadata": {
    "collapsed": true
   },
   "outputs": [],
   "source": [
    "matrixTree.to_csv(\"matrixForTree.using4genomesPerGenus.csv\",header=True,index=True,sep='\\t')"
   ]
  },
  {
   "cell_type": "code",
   "execution_count": 148,
   "metadata": {
    "collapsed": false
   },
   "outputs": [],
   "source": [
    "#4. Calculate distances and create a dendogram."
   ]
  },
  {
   "cell_type": "code",
   "execution_count": 19,
   "metadata": {
    "collapsed": false
   },
   "outputs": [
    {
     "data": {
      "text/plain": [
       "1243"
      ]
     },
     "execution_count": 19,
     "metadata": {},
     "output_type": "execute_result"
    }
   ],
   "source": [
    "pdistMatrix = pdist(matrixTree,metric='jaccard')\n",
    "#pdistMatrix = np.clip(pdistMatrix,a_min=0,a_max=None)\n",
    "Z = linkage(pdistMatrix,'average')\n",
    "len(Z)"
   ]
  },
  {
   "cell_type": "code",
   "execution_count": 20,
   "metadata": {
    "collapsed": false
   },
   "outputs": [],
   "source": [
    "tree = to_tree(Z,False)\n",
    "#newickTree = getNewick(tree, \"\", tree.dist, list(genomes[\"Matrix\"]))\n",
    "newickTree = getNewick(tree, \"\", tree.dist, genomesTraining)\n",
    "fw = open(\"newickTree.using4genomesPerGenus.txt\",\"w\")\n",
    "#fw = open(\"Family/newickTreeFamily.retro.nwk\",\"w\")\n",
    "fw.write(newickTree)\n",
    "fw.close()"
   ]
  },
  {
   "cell_type": "code",
   "execution_count": 74,
   "metadata": {
    "collapsed": false
   },
   "outputs": [],
   "source": [
    "#5. Edit tree in figTree"
   ]
  },
  {
   "cell_type": "code",
   "execution_count": 29,
   "metadata": {
    "collapsed": false
   },
   "outputs": [],
   "source": [
    "fw = open(\"testLabels.txt\",\"w\")\n",
    "for genome in matrixTree.index.tolist():\n",
    "    tax = accessions[genome]\n",
    "    fw.write(genome+'\\t'+tax[taxLabels[\"order\"]]+'\\t'+tax[taxLabels[\"family\"]]+'\\t'+tax[taxLabels[\"genus\"]]+'\\n')\n",
    "    #label = accessions[genome][taxLabels[\"family\"]]\n",
    "    #fw.write(label + \"\\n\")\n",
    "fw.close()"
   ]
  },
  {
   "cell_type": "code",
   "execution_count": null,
   "metadata": {
    "collapsed": true
   },
   "outputs": [],
   "source": []
  }
 ],
 "metadata": {
  "kernelspec": {
   "display_name": "Python [Root]",
   "language": "python",
   "name": "Python [Root]"
  },
  "language_info": {
   "codemirror_mode": {
    "name": "ipython",
    "version": 2
   },
   "file_extension": ".py",
   "mimetype": "text/x-python",
   "name": "python",
   "nbconvert_exporter": "python",
   "pygments_lexer": "ipython2",
   "version": "2.7.11"
  }
 },
 "nbformat": 4,
 "nbformat_minor": 0
}
